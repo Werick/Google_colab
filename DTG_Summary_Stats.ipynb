{
  "nbformat": 4,
  "nbformat_minor": 0,
  "metadata": {
    "colab": {
      "name": "DTG_Summary Stats.ipynb",
      "provenance": [],
      "authorship_tag": "ABX9TyPY3SA1whYW82P9xEYBEIVf",
      "include_colab_link": true
    },
    "kernelspec": {
      "name": "python3",
      "display_name": "Python 3"
    }
  },
  "cells": [
    {
      "cell_type": "markdown",
      "metadata": {
        "id": "view-in-github",
        "colab_type": "text"
      },
      "source": [
        "<a href=\"https://colab.research.google.com/github/Werick/Google_colab/blob/master/DTG_Summary_Stats.ipynb\" target=\"_parent\"><img src=\"https://colab.research.google.com/assets/colab-badge.svg\" alt=\"Open In Colab\"/></a>"
      ]
    },
    {
      "cell_type": "code",
      "metadata": {
        "id": "nAh5m5G2YOlR",
        "colab_type": "code",
        "colab": {}
      },
      "source": [
        "import pandas as pd\n"
      ],
      "execution_count": 1,
      "outputs": []
    },
    {
      "cell_type": "code",
      "metadata": {
        "id": "HKGnDTjpYwF8",
        "colab_type": "code",
        "colab": {
          "base_uri": "https://localhost:8080/",
          "height": 289
        },
        "outputId": "3c7aeed7-daa4-44b4-dd70-5f86e467b603"
      },
      "source": [
        "# Load the csv files\n",
        "df_patient = pd.read_csv(\"patient_info.csv\")\n",
        "df_patient = df_patient.drop(columns=['patient_clinic_number','cname'])\n",
        "df_patient.head()\n"
      ],
      "execution_count": 74,
      "outputs": [
        {
          "output_type": "execute_result",
          "data": {
            "text/html": [
              "<div>\n",
              "<style scoped>\n",
              "    .dataframe tbody tr th:only-of-type {\n",
              "        vertical-align: middle;\n",
              "    }\n",
              "\n",
              "    .dataframe tbody tr th {\n",
              "        vertical-align: top;\n",
              "    }\n",
              "\n",
              "    .dataframe thead th {\n",
              "        text-align: right;\n",
              "    }\n",
              "</style>\n",
              "<table border=\"1\" class=\"dataframe\">\n",
              "  <thead>\n",
              "    <tr style=\"text-align: right;\">\n",
              "      <th></th>\n",
              "      <th>patient_id</th>\n",
              "      <th>DOB</th>\n",
              "      <th>age</th>\n",
              "      <th>sex</th>\n",
              "      <th>Doh</th>\n",
              "      <th>date_dtg</th>\n",
              "      <th>date_started_art</th>\n",
              "      <th>dur_prior_to_switch</th>\n",
              "      <th>height</th>\n",
              "      <th>date_height</th>\n",
              "      <th>discontinued</th>\n",
              "    </tr>\n",
              "  </thead>\n",
              "  <tbody>\n",
              "    <tr>\n",
              "      <th>0</th>\n",
              "      <td>8</td>\n",
              "      <td>1955-06-15</td>\n",
              "      <td>65</td>\n",
              "      <td>0</td>\n",
              "      <td>2006-01-05</td>\n",
              "      <td>2019-02-06</td>\n",
              "      <td>2007-01-23</td>\n",
              "      <td>145</td>\n",
              "      <td>156</td>\n",
              "      <td>2020-07-08</td>\n",
              "      <td>0</td>\n",
              "    </tr>\n",
              "    <tr>\n",
              "      <th>1</th>\n",
              "      <td>9</td>\n",
              "      <td>1961-06-15</td>\n",
              "      <td>59</td>\n",
              "      <td>0</td>\n",
              "      <td>2006-01-27</td>\n",
              "      <td>2019-01-14</td>\n",
              "      <td>2006-07-25</td>\n",
              "      <td>150</td>\n",
              "      <td>151</td>\n",
              "      <td>2020-05-04</td>\n",
              "      <td>0</td>\n",
              "    </tr>\n",
              "    <tr>\n",
              "      <th>2</th>\n",
              "      <td>10</td>\n",
              "      <td>1973-06-15</td>\n",
              "      <td>47</td>\n",
              "      <td>0</td>\n",
              "      <td>2006-08-22</td>\n",
              "      <td>2018-12-19</td>\n",
              "      <td>2006-08-22</td>\n",
              "      <td>148</td>\n",
              "      <td>157</td>\n",
              "      <td>2020-05-04</td>\n",
              "      <td>0</td>\n",
              "    </tr>\n",
              "    <tr>\n",
              "      <th>3</th>\n",
              "      <td>12</td>\n",
              "      <td>1953-06-15</td>\n",
              "      <td>67</td>\n",
              "      <td>1</td>\n",
              "      <td>2006-03-10</td>\n",
              "      <td>2019-04-03</td>\n",
              "      <td>2006-08-29</td>\n",
              "      <td>152</td>\n",
              "      <td>176</td>\n",
              "      <td>2020-02-12</td>\n",
              "      <td>0</td>\n",
              "    </tr>\n",
              "    <tr>\n",
              "      <th>4</th>\n",
              "      <td>14</td>\n",
              "      <td>1975-02-23</td>\n",
              "      <td>45</td>\n",
              "      <td>0</td>\n",
              "      <td>2006-05-17</td>\n",
              "      <td>2019-02-11</td>\n",
              "      <td>2010-09-20</td>\n",
              "      <td>101</td>\n",
              "      <td>170</td>\n",
              "      <td>2020-06-02</td>\n",
              "      <td>0</td>\n",
              "    </tr>\n",
              "  </tbody>\n",
              "</table>\n",
              "</div>"
            ],
            "text/plain": [
              "   patient_id         DOB  age  ...  height date_height discontinued\n",
              "0           8  1955-06-15   65  ...     156  2020-07-08            0\n",
              "1           9  1961-06-15   59  ...     151  2020-05-04            0\n",
              "2          10  1973-06-15   47  ...     157  2020-05-04            0\n",
              "3          12  1953-06-15   67  ...     176  2020-02-12            0\n",
              "4          14  1975-02-23   45  ...     170  2020-06-02            0\n",
              "\n",
              "[5 rows x 11 columns]"
            ]
          },
          "metadata": {
            "tags": []
          },
          "execution_count": 74
        }
      ]
    },
    {
      "cell_type": "code",
      "metadata": {
        "id": "p8qFxaFZuEAY",
        "colab_type": "code",
        "colab": {}
      },
      "source": [
        "# get the total number of patients on this list\n",
        "print(\"Total Population in the dataset :\", df_patient.patient_id.count())"
      ],
      "execution_count": null,
      "outputs": []
    },
    {
      "cell_type": "code",
      "metadata": {
        "id": "B0gDCJEluZWa",
        "colab_type": "code",
        "colab": {
          "base_uri": "https://localhost:8080/",
          "height": 170
        },
        "outputId": "02ca0f5c-19f3-47de-848e-e80296a9c63d"
      },
      "source": [
        "# Get the discription of age\n",
        "df_patient.age.describe()"
      ],
      "execution_count": 20,
      "outputs": [
        {
          "output_type": "execute_result",
          "data": {
            "text/plain": [
              "count    389.000000\n",
              "mean      50.678663\n",
              "std       11.332013\n",
              "min       26.000000\n",
              "25%       42.000000\n",
              "50%       51.000000\n",
              "75%       58.000000\n",
              "max       84.000000\n",
              "Name: age, dtype: float64"
            ]
          },
          "metadata": {
            "tags": []
          },
          "execution_count": 20
        }
      ]
    },
    {
      "cell_type": "code",
      "metadata": {
        "id": "0DlwRdJBZ3j9",
        "colab_type": "code",
        "colab": {
          "base_uri": "https://localhost:8080/",
          "height": 142
        },
        "outputId": "117cfb0f-4cb6-4fe6-e346-559853258888"
      },
      "source": [
        "# get how many were female and how many \n",
        "group_by_gender = df_patient.patient_id.groupby(df_patient['sex']).describe()\n",
        "# add precentage column to see the proportion of the population\n",
        "group_by_gender['prop'] = group_by_gender.apply(lambda r:(r['count']/389)*100, axis=1)\n",
        "group_by_gender[['count','prop']]"
      ],
      "execution_count": 18,
      "outputs": [
        {
          "output_type": "execute_result",
          "data": {
            "text/html": [
              "<div>\n",
              "<style scoped>\n",
              "    .dataframe tbody tr th:only-of-type {\n",
              "        vertical-align: middle;\n",
              "    }\n",
              "\n",
              "    .dataframe tbody tr th {\n",
              "        vertical-align: top;\n",
              "    }\n",
              "\n",
              "    .dataframe thead th {\n",
              "        text-align: right;\n",
              "    }\n",
              "</style>\n",
              "<table border=\"1\" class=\"dataframe\">\n",
              "  <thead>\n",
              "    <tr style=\"text-align: right;\">\n",
              "      <th></th>\n",
              "      <th>count</th>\n",
              "      <th>prop</th>\n",
              "    </tr>\n",
              "    <tr>\n",
              "      <th>sex</th>\n",
              "      <th></th>\n",
              "      <th></th>\n",
              "    </tr>\n",
              "  </thead>\n",
              "  <tbody>\n",
              "    <tr>\n",
              "      <th>0</th>\n",
              "      <td>190.0</td>\n",
              "      <td>48.843188</td>\n",
              "    </tr>\n",
              "    <tr>\n",
              "      <th>1</th>\n",
              "      <td>199.0</td>\n",
              "      <td>51.156812</td>\n",
              "    </tr>\n",
              "  </tbody>\n",
              "</table>\n",
              "</div>"
            ],
            "text/plain": [
              "     count       prop\n",
              "sex                  \n",
              "0    190.0  48.843188\n",
              "1    199.0  51.156812"
            ]
          },
          "metadata": {
            "tags": []
          },
          "execution_count": 18
        }
      ]
    },
    {
      "cell_type": "code",
      "metadata": {
        "id": "RsMsL60cu6Z2",
        "colab_type": "code",
        "colab": {
          "base_uri": "https://localhost:8080/",
          "height": 204
        },
        "outputId": "e7b1b7c6-f5c1-44e6-c595-c8e5adbf53da"
      },
      "source": [
        "# Load Longitudinal data and get the descriptive stats\n",
        "df_long_data = pd.read_csv(\"longitudinal data.csv\")\n",
        "df_long_data.head()"
      ],
      "execution_count": 21,
      "outputs": [
        {
          "output_type": "execute_result",
          "data": {
            "text/html": [
              "<div>\n",
              "<style scoped>\n",
              "    .dataframe tbody tr th:only-of-type {\n",
              "        vertical-align: middle;\n",
              "    }\n",
              "\n",
              "    .dataframe tbody tr th {\n",
              "        vertical-align: top;\n",
              "    }\n",
              "\n",
              "    .dataframe thead th {\n",
              "        text-align: right;\n",
              "    }\n",
              "</style>\n",
              "<table border=\"1\" class=\"dataframe\">\n",
              "  <thead>\n",
              "    <tr style=\"text-align: right;\">\n",
              "      <th></th>\n",
              "      <th>patient_id</th>\n",
              "      <th>visit_date</th>\n",
              "      <th>weight</th>\n",
              "      <th>height</th>\n",
              "      <th>systolic_pressure</th>\n",
              "      <th>diastolic_pressure</th>\n",
              "      <th>vl</th>\n",
              "      <th>cd_count</th>\n",
              "    </tr>\n",
              "  </thead>\n",
              "  <tbody>\n",
              "    <tr>\n",
              "      <th>0</th>\n",
              "      <td>3</td>\n",
              "      <td>2018-06-11</td>\n",
              "      <td>53.0</td>\n",
              "      <td>166.0</td>\n",
              "      <td>NaN</td>\n",
              "      <td>NaN</td>\n",
              "      <td>650</td>\n",
              "      <td>NaN</td>\n",
              "    </tr>\n",
              "    <tr>\n",
              "      <th>1</th>\n",
              "      <td>3</td>\n",
              "      <td>2018-07-11</td>\n",
              "      <td>51.3</td>\n",
              "      <td>166.0</td>\n",
              "      <td>NaN</td>\n",
              "      <td>NaN</td>\n",
              "      <td>NaN</td>\n",
              "      <td>NaN</td>\n",
              "    </tr>\n",
              "    <tr>\n",
              "      <th>2</th>\n",
              "      <td>3</td>\n",
              "      <td>2018-08-07</td>\n",
              "      <td>51.0</td>\n",
              "      <td>166.0</td>\n",
              "      <td>NaN</td>\n",
              "      <td>NaN</td>\n",
              "      <td>NaN</td>\n",
              "      <td>NaN</td>\n",
              "    </tr>\n",
              "    <tr>\n",
              "      <th>3</th>\n",
              "      <td>3</td>\n",
              "      <td>2018-10-11</td>\n",
              "      <td>NaN</td>\n",
              "      <td>NaN</td>\n",
              "      <td>NaN</td>\n",
              "      <td>NaN</td>\n",
              "      <td>NaN</td>\n",
              "      <td>NaN</td>\n",
              "    </tr>\n",
              "    <tr>\n",
              "      <th>4</th>\n",
              "      <td>3</td>\n",
              "      <td>2019-01-07</td>\n",
              "      <td>55.0</td>\n",
              "      <td>166.0</td>\n",
              "      <td>NaN</td>\n",
              "      <td>NaN</td>\n",
              "      <td>1680</td>\n",
              "      <td>NaN</td>\n",
              "    </tr>\n",
              "  </tbody>\n",
              "</table>\n",
              "</div>"
            ],
            "text/plain": [
              "   patient_id  visit_date  weight  ...  diastolic_pressure    vl  cd_count\n",
              "0           3  2018-06-11    53.0  ...                 NaN   650       NaN\n",
              "1           3  2018-07-11    51.3  ...                 NaN   NaN       NaN\n",
              "2           3  2018-08-07    51.0  ...                 NaN   NaN       NaN\n",
              "3           3  2018-10-11     NaN  ...                 NaN   NaN       NaN\n",
              "4           3  2019-01-07    55.0  ...                 NaN  1680       NaN\n",
              "\n",
              "[5 rows x 8 columns]"
            ]
          },
          "metadata": {
            "tags": []
          },
          "execution_count": 21
        }
      ]
    },
    {
      "cell_type": "code",
      "metadata": {
        "id": "0FJ7GjGTveK5",
        "colab_type": "code",
        "colab": {
          "base_uri": "https://localhost:8080/",
          "height": 34
        },
        "outputId": "314792f2-8897-405b-f67a-1a65a300e9a8"
      },
      "source": [
        "# get the list patients who have long data among the 389 patients\n",
        "has_long_data = df_long_data[df_long_data['patient_id'].isin(df_patient['patient_id'])]\n",
        "df_tot_patient = has_long_data.patient_id.unique()\n",
        "df_long_data = has_long_data\n",
        "\n",
        "print(len(df_tot_patient),\" Patients had at least one visit\")"
      ],
      "execution_count": 34,
      "outputs": [
        {
          "output_type": "stream",
          "text": [
            "388  Patients had at least one visit\n"
          ],
          "name": "stdout"
        }
      ]
    },
    {
      "cell_type": "code",
      "metadata": {
        "id": "GWp956Zby7K9",
        "colab_type": "code",
        "colab": {
          "base_uri": "https://localhost:8080/",
          "height": 235
        },
        "outputId": "b5a69d66-0367-4e5c-a179-8b870ff07205"
      },
      "source": [
        "# Generete a summary of visits\n",
        "df_visits_summary = df_long_data.groupby(df_long_data['patient_id']).count()\n",
        "df_visits_summary.head()"
      ],
      "execution_count": 36,
      "outputs": [
        {
          "output_type": "execute_result",
          "data": {
            "text/html": [
              "<div>\n",
              "<style scoped>\n",
              "    .dataframe tbody tr th:only-of-type {\n",
              "        vertical-align: middle;\n",
              "    }\n",
              "\n",
              "    .dataframe tbody tr th {\n",
              "        vertical-align: top;\n",
              "    }\n",
              "\n",
              "    .dataframe thead th {\n",
              "        text-align: right;\n",
              "    }\n",
              "</style>\n",
              "<table border=\"1\" class=\"dataframe\">\n",
              "  <thead>\n",
              "    <tr style=\"text-align: right;\">\n",
              "      <th></th>\n",
              "      <th>visit_date</th>\n",
              "      <th>weight</th>\n",
              "      <th>height</th>\n",
              "      <th>systolic_pressure</th>\n",
              "      <th>diastolic_pressure</th>\n",
              "      <th>vl</th>\n",
              "      <th>cd_count</th>\n",
              "    </tr>\n",
              "    <tr>\n",
              "      <th>patient_id</th>\n",
              "      <th></th>\n",
              "      <th></th>\n",
              "      <th></th>\n",
              "      <th></th>\n",
              "      <th></th>\n",
              "      <th></th>\n",
              "      <th></th>\n",
              "    </tr>\n",
              "  </thead>\n",
              "  <tbody>\n",
              "    <tr>\n",
              "      <th>8</th>\n",
              "      <td>9</td>\n",
              "      <td>8</td>\n",
              "      <td>8</td>\n",
              "      <td>0</td>\n",
              "      <td>0</td>\n",
              "      <td>3</td>\n",
              "      <td>0</td>\n",
              "    </tr>\n",
              "    <tr>\n",
              "      <th>9</th>\n",
              "      <td>7</td>\n",
              "      <td>7</td>\n",
              "      <td>7</td>\n",
              "      <td>0</td>\n",
              "      <td>0</td>\n",
              "      <td>3</td>\n",
              "      <td>0</td>\n",
              "    </tr>\n",
              "    <tr>\n",
              "      <th>10</th>\n",
              "      <td>5</td>\n",
              "      <td>5</td>\n",
              "      <td>5</td>\n",
              "      <td>0</td>\n",
              "      <td>0</td>\n",
              "      <td>4</td>\n",
              "      <td>0</td>\n",
              "    </tr>\n",
              "    <tr>\n",
              "      <th>12</th>\n",
              "      <td>11</td>\n",
              "      <td>4</td>\n",
              "      <td>4</td>\n",
              "      <td>0</td>\n",
              "      <td>0</td>\n",
              "      <td>2</td>\n",
              "      <td>0</td>\n",
              "    </tr>\n",
              "    <tr>\n",
              "      <th>14</th>\n",
              "      <td>7</td>\n",
              "      <td>7</td>\n",
              "      <td>7</td>\n",
              "      <td>0</td>\n",
              "      <td>0</td>\n",
              "      <td>1</td>\n",
              "      <td>0</td>\n",
              "    </tr>\n",
              "  </tbody>\n",
              "</table>\n",
              "</div>"
            ],
            "text/plain": [
              "            visit_date  weight  height  ...  diastolic_pressure  vl  cd_count\n",
              "patient_id                              ...                                  \n",
              "8                    9       8       8  ...                   0   3         0\n",
              "9                    7       7       7  ...                   0   3         0\n",
              "10                   5       5       5  ...                   0   4         0\n",
              "12                  11       4       4  ...                   0   2         0\n",
              "14                   7       7       7  ...                   0   1         0\n",
              "\n",
              "[5 rows x 7 columns]"
            ]
          },
          "metadata": {
            "tags": []
          },
          "execution_count": 36
        }
      ]
    },
    {
      "cell_type": "code",
      "metadata": {
        "id": "4UkVtOUc0h2d",
        "colab_type": "code",
        "colab": {
          "base_uri": "https://localhost:8080/",
          "height": 170
        },
        "outputId": "2a9b5709-dd21-4fb9-aca7-370aa8407b8f"
      },
      "source": [
        "# Description of the number of visits\n",
        "df_visits_summary['visit_date'].describe()"
      ],
      "execution_count": 37,
      "outputs": [
        {
          "output_type": "execute_result",
          "data": {
            "text/plain": [
              "count    388.000000\n",
              "mean       7.443299\n",
              "std        2.162490\n",
              "min        2.000000\n",
              "25%        6.000000\n",
              "50%        7.000000\n",
              "75%        8.250000\n",
              "max       17.000000\n",
              "Name: visit_date, dtype: float64"
            ]
          },
          "metadata": {
            "tags": []
          },
          "execution_count": 37
        }
      ]
    },
    {
      "cell_type": "code",
      "metadata": {
        "id": "qoQkycAz6r8w",
        "colab_type": "code",
        "colab": {}
      },
      "source": [
        "# Description of the number of vls\n",
        "df_visits_summary['vl'].describe()"
      ],
      "execution_count": null,
      "outputs": []
    },
    {
      "cell_type": "code",
      "metadata": {
        "id": "98N220cR6xAt",
        "colab_type": "code",
        "colab": {}
      },
      "source": [
        "# Description of the number of cd 4 counts\n",
        "df_visits_summary['cd_count'].describe()"
      ],
      "execution_count": null,
      "outputs": []
    },
    {
      "cell_type": "code",
      "metadata": {
        "id": "ezokxY-Z1iRT",
        "colab_type": "code",
        "colab": {
          "base_uri": "https://localhost:8080/",
          "height": 227
        },
        "outputId": "5ff5400c-62c0-4483-e2f2-3e8effda72db"
      },
      "source": [
        "# Merge the two datasets\n",
        "df_merged = df_visits_summary.merge(df_patient,how=\"inner\",on=\"patient_id\")\n",
        "df_merged.head()\n",
        "#Select the cols of interest\n",
        "df_merged = df_merged[['patient_id','visit_date','vl','cd_count','sex']]\n",
        "df_merged.head()\n",
        "df_merged.groupby(df_merged['sex'])['visit_date','vl'].describe()"
      ],
      "execution_count": 56,
      "outputs": [
        {
          "output_type": "stream",
          "text": [
            "/usr/local/lib/python3.6/dist-packages/ipykernel_launcher.py:7: FutureWarning: Indexing with multiple keys (implicitly converted to a tuple of keys) will be deprecated, use a list instead.\n",
            "  import sys\n"
          ],
          "name": "stderr"
        },
        {
          "output_type": "execute_result",
          "data": {
            "text/html": [
              "<div>\n",
              "<style scoped>\n",
              "    .dataframe tbody tr th:only-of-type {\n",
              "        vertical-align: middle;\n",
              "    }\n",
              "\n",
              "    .dataframe tbody tr th {\n",
              "        vertical-align: top;\n",
              "    }\n",
              "\n",
              "    .dataframe thead tr th {\n",
              "        text-align: left;\n",
              "    }\n",
              "\n",
              "    .dataframe thead tr:last-of-type th {\n",
              "        text-align: right;\n",
              "    }\n",
              "</style>\n",
              "<table border=\"1\" class=\"dataframe\">\n",
              "  <thead>\n",
              "    <tr>\n",
              "      <th></th>\n",
              "      <th colspan=\"8\" halign=\"left\">visit_date</th>\n",
              "      <th colspan=\"8\" halign=\"left\">vl</th>\n",
              "    </tr>\n",
              "    <tr>\n",
              "      <th></th>\n",
              "      <th>count</th>\n",
              "      <th>mean</th>\n",
              "      <th>std</th>\n",
              "      <th>min</th>\n",
              "      <th>25%</th>\n",
              "      <th>50%</th>\n",
              "      <th>75%</th>\n",
              "      <th>max</th>\n",
              "      <th>count</th>\n",
              "      <th>mean</th>\n",
              "      <th>std</th>\n",
              "      <th>min</th>\n",
              "      <th>25%</th>\n",
              "      <th>50%</th>\n",
              "      <th>75%</th>\n",
              "      <th>max</th>\n",
              "    </tr>\n",
              "    <tr>\n",
              "      <th>sex</th>\n",
              "      <th></th>\n",
              "      <th></th>\n",
              "      <th></th>\n",
              "      <th></th>\n",
              "      <th></th>\n",
              "      <th></th>\n",
              "      <th></th>\n",
              "      <th></th>\n",
              "      <th></th>\n",
              "      <th></th>\n",
              "      <th></th>\n",
              "      <th></th>\n",
              "      <th></th>\n",
              "      <th></th>\n",
              "      <th></th>\n",
              "      <th></th>\n",
              "    </tr>\n",
              "  </thead>\n",
              "  <tbody>\n",
              "    <tr>\n",
              "      <th>0</th>\n",
              "      <td>190.0</td>\n",
              "      <td>7.689474</td>\n",
              "      <td>2.277889</td>\n",
              "      <td>4.0</td>\n",
              "      <td>6.0</td>\n",
              "      <td>7.0</td>\n",
              "      <td>9.0</td>\n",
              "      <td>16.0</td>\n",
              "      <td>190.0</td>\n",
              "      <td>2.784211</td>\n",
              "      <td>0.803934</td>\n",
              "      <td>1.0</td>\n",
              "      <td>2.0</td>\n",
              "      <td>3.0</td>\n",
              "      <td>3.0</td>\n",
              "      <td>5.0</td>\n",
              "    </tr>\n",
              "    <tr>\n",
              "      <th>1</th>\n",
              "      <td>198.0</td>\n",
              "      <td>7.207071</td>\n",
              "      <td>2.023354</td>\n",
              "      <td>2.0</td>\n",
              "      <td>6.0</td>\n",
              "      <td>7.0</td>\n",
              "      <td>8.0</td>\n",
              "      <td>17.0</td>\n",
              "      <td>198.0</td>\n",
              "      <td>2.808081</td>\n",
              "      <td>0.930878</td>\n",
              "      <td>0.0</td>\n",
              "      <td>2.0</td>\n",
              "      <td>3.0</td>\n",
              "      <td>3.0</td>\n",
              "      <td>6.0</td>\n",
              "    </tr>\n",
              "  </tbody>\n",
              "</table>\n",
              "</div>"
            ],
            "text/plain": [
              "    visit_date                                ...   vl                    \n",
              "         count      mean       std  min  25%  ...  min  25%  50%  75%  max\n",
              "sex                                           ...                         \n",
              "0        190.0  7.689474  2.277889  4.0  6.0  ...  1.0  2.0  3.0  3.0  5.0\n",
              "1        198.0  7.207071  2.023354  2.0  6.0  ...  0.0  2.0  3.0  3.0  6.0\n",
              "\n",
              "[2 rows x 16 columns]"
            ]
          },
          "metadata": {
            "tags": []
          },
          "execution_count": 56
        }
      ]
    },
    {
      "cell_type": "code",
      "metadata": {
        "id": "gC8j5NLal6lB",
        "colab_type": "code",
        "colab": {
          "base_uri": "https://localhost:8080/",
          "height": 204
        },
        "outputId": "f779eb20-a7a5-4945-9a22-80ee39ac57d8"
      },
      "source": [
        "# ART History data\n",
        "df_art = pd.read_csv(\"art_history.csv\")\n",
        "df_art = df_art.drop(columns=['patient_clinic_number'])\n",
        "df_art.head()"
      ],
      "execution_count": 73,
      "outputs": [
        {
          "output_type": "execute_result",
          "data": {
            "text/html": [
              "<div>\n",
              "<style scoped>\n",
              "    .dataframe tbody tr th:only-of-type {\n",
              "        vertical-align: middle;\n",
              "    }\n",
              "\n",
              "    .dataframe tbody tr th {\n",
              "        vertical-align: top;\n",
              "    }\n",
              "\n",
              "    .dataframe thead th {\n",
              "        text-align: right;\n",
              "    }\n",
              "</style>\n",
              "<table border=\"1\" class=\"dataframe\">\n",
              "  <thead>\n",
              "    <tr style=\"text-align: right;\">\n",
              "      <th></th>\n",
              "      <th>patient_id</th>\n",
              "      <th>date_started</th>\n",
              "      <th>regimen_name</th>\n",
              "      <th>art_stop_date</th>\n",
              "    </tr>\n",
              "  </thead>\n",
              "  <tbody>\n",
              "    <tr>\n",
              "      <th>0</th>\n",
              "      <td>8</td>\n",
              "      <td>2007-01-23</td>\n",
              "      <td>D4T+3TC+NVP</td>\n",
              "      <td>2013-04-18</td>\n",
              "    </tr>\n",
              "    <tr>\n",
              "      <th>1</th>\n",
              "      <td>8</td>\n",
              "      <td>2013-04-18</td>\n",
              "      <td>TDF+3TC+EFV</td>\n",
              "      <td>2019-02-06</td>\n",
              "    </tr>\n",
              "    <tr>\n",
              "      <th>2</th>\n",
              "      <td>8</td>\n",
              "      <td>2019-02-06</td>\n",
              "      <td>TDF+3TC+DTG</td>\n",
              "      <td>NaN</td>\n",
              "    </tr>\n",
              "    <tr>\n",
              "      <th>3</th>\n",
              "      <td>9</td>\n",
              "      <td>2006-07-25</td>\n",
              "      <td>D4T+3TC+NVP</td>\n",
              "      <td>2019-01-14</td>\n",
              "    </tr>\n",
              "    <tr>\n",
              "      <th>4</th>\n",
              "      <td>9</td>\n",
              "      <td>2012-06-13</td>\n",
              "      <td>3TC+NVP+TDF</td>\n",
              "      <td>NaN</td>\n",
              "    </tr>\n",
              "  </tbody>\n",
              "</table>\n",
              "</div>"
            ],
            "text/plain": [
              "   patient_id date_started regimen_name art_stop_date\n",
              "0           8   2007-01-23  D4T+3TC+NVP    2013-04-18\n",
              "1           8   2013-04-18  TDF+3TC+EFV    2019-02-06\n",
              "2           8   2019-02-06  TDF+3TC+DTG           NaN\n",
              "3           9   2006-07-25  D4T+3TC+NVP    2019-01-14\n",
              "4           9   2012-06-13  3TC+NVP+TDF           NaN"
            ]
          },
          "metadata": {
            "tags": []
          },
          "execution_count": 73
        }
      ]
    },
    {
      "cell_type": "code",
      "metadata": {
        "id": "u6LJnFn5mYnU",
        "colab_type": "code",
        "colab": {
          "base_uri": "https://localhost:8080/",
          "height": 34
        },
        "outputId": "772eb661-aa5a-4187-83d5-d3e9ee1d4a9a"
      },
      "source": [
        "df_art_distinct = df_art.drop_duplicates('patient_id', keep = 'first')\n",
        "df_art_distinct['patient_id'].count()"
      ],
      "execution_count": 60,
      "outputs": [
        {
          "output_type": "execute_result",
          "data": {
            "text/plain": [
              "389"
            ]
          },
          "metadata": {
            "tags": []
          },
          "execution_count": 60
        }
      ]
    },
    {
      "cell_type": "code",
      "metadata": {
        "id": "Li4icmllnT7g",
        "colab_type": "code",
        "colab": {
          "base_uri": "https://localhost:8080/",
          "height": 390
        },
        "outputId": "58e04194-deaa-43b6-c8da-7e776f70284f"
      },
      "source": [
        "df_art_summary = df_art.groupby(['regimen_name'])['patient_id'].describe()\n",
        "df_art_summary"
      ],
      "execution_count": 68,
      "outputs": [
        {
          "output_type": "execute_result",
          "data": {
            "text/html": [
              "<div>\n",
              "<style scoped>\n",
              "    .dataframe tbody tr th:only-of-type {\n",
              "        vertical-align: middle;\n",
              "    }\n",
              "\n",
              "    .dataframe tbody tr th {\n",
              "        vertical-align: top;\n",
              "    }\n",
              "\n",
              "    .dataframe thead th {\n",
              "        text-align: right;\n",
              "    }\n",
              "</style>\n",
              "<table border=\"1\" class=\"dataframe\">\n",
              "  <thead>\n",
              "    <tr style=\"text-align: right;\">\n",
              "      <th></th>\n",
              "      <th>count</th>\n",
              "      <th>mean</th>\n",
              "      <th>std</th>\n",
              "      <th>min</th>\n",
              "      <th>25%</th>\n",
              "      <th>50%</th>\n",
              "      <th>75%</th>\n",
              "      <th>max</th>\n",
              "    </tr>\n",
              "    <tr>\n",
              "      <th>regimen_name</th>\n",
              "      <th></th>\n",
              "      <th></th>\n",
              "      <th></th>\n",
              "      <th></th>\n",
              "      <th></th>\n",
              "      <th></th>\n",
              "      <th></th>\n",
              "      <th></th>\n",
              "    </tr>\n",
              "  </thead>\n",
              "  <tbody>\n",
              "    <tr>\n",
              "      <th>3TC+NVP+TDF</th>\n",
              "      <td>100.0</td>\n",
              "      <td>649.480000</td>\n",
              "      <td>650.956475</td>\n",
              "      <td>9.0</td>\n",
              "      <td>290.75</td>\n",
              "      <td>533.0</td>\n",
              "      <td>689.75</td>\n",
              "      <td>3155.0</td>\n",
              "    </tr>\n",
              "    <tr>\n",
              "      <th>ABC+3TC+EFV</th>\n",
              "      <td>1.0</td>\n",
              "      <td>2870.000000</td>\n",
              "      <td>NaN</td>\n",
              "      <td>2870.0</td>\n",
              "      <td>2870.00</td>\n",
              "      <td>2870.0</td>\n",
              "      <td>2870.00</td>\n",
              "      <td>2870.0</td>\n",
              "    </tr>\n",
              "    <tr>\n",
              "      <th>AZT+3TC+ABC</th>\n",
              "      <td>1.0</td>\n",
              "      <td>626.000000</td>\n",
              "      <td>NaN</td>\n",
              "      <td>626.0</td>\n",
              "      <td>626.00</td>\n",
              "      <td>626.0</td>\n",
              "      <td>626.00</td>\n",
              "      <td>626.0</td>\n",
              "    </tr>\n",
              "    <tr>\n",
              "      <th>AZT+3TC+EFV</th>\n",
              "      <td>20.0</td>\n",
              "      <td>693.900000</td>\n",
              "      <td>710.415216</td>\n",
              "      <td>20.0</td>\n",
              "      <td>237.25</td>\n",
              "      <td>547.5</td>\n",
              "      <td>686.00</td>\n",
              "      <td>3157.0</td>\n",
              "    </tr>\n",
              "    <tr>\n",
              "      <th>AZT+3TC+NVP</th>\n",
              "      <td>107.0</td>\n",
              "      <td>756.485981</td>\n",
              "      <td>677.678367</td>\n",
              "      <td>14.0</td>\n",
              "      <td>365.50</td>\n",
              "      <td>586.0</td>\n",
              "      <td>924.00</td>\n",
              "      <td>3261.0</td>\n",
              "    </tr>\n",
              "    <tr>\n",
              "      <th>D4T+3TC+EFV</th>\n",
              "      <td>8.0</td>\n",
              "      <td>434.875000</td>\n",
              "      <td>373.685291</td>\n",
              "      <td>21.0</td>\n",
              "      <td>204.25</td>\n",
              "      <td>372.0</td>\n",
              "      <td>576.50</td>\n",
              "      <td>1187.0</td>\n",
              "    </tr>\n",
              "    <tr>\n",
              "      <th>D4T+3TC+NVP</th>\n",
              "      <td>88.0</td>\n",
              "      <td>592.454545</td>\n",
              "      <td>464.452933</td>\n",
              "      <td>8.0</td>\n",
              "      <td>421.25</td>\n",
              "      <td>574.5</td>\n",
              "      <td>676.25</td>\n",
              "      <td>2996.0</td>\n",
              "    </tr>\n",
              "    <tr>\n",
              "      <th>TDF+3TC+DTG</th>\n",
              "      <td>389.0</td>\n",
              "      <td>971.393316</td>\n",
              "      <td>985.753818</td>\n",
              "      <td>8.0</td>\n",
              "      <td>320.00</td>\n",
              "      <td>601.0</td>\n",
              "      <td>1130.00</td>\n",
              "      <td>4452.0</td>\n",
              "    </tr>\n",
              "    <tr>\n",
              "      <th>TDF+3TC+EFV</th>\n",
              "      <td>186.0</td>\n",
              "      <td>1242.306452</td>\n",
              "      <td>1183.642773</td>\n",
              "      <td>8.0</td>\n",
              "      <td>258.25</td>\n",
              "      <td>626.0</td>\n",
              "      <td>2744.00</td>\n",
              "      <td>4452.0</td>\n",
              "    </tr>\n",
              "    <tr>\n",
              "      <th>TDF+3TC+LPV/r</th>\n",
              "      <td>1.0</td>\n",
              "      <td>1106.000000</td>\n",
              "      <td>NaN</td>\n",
              "      <td>1106.0</td>\n",
              "      <td>1106.00</td>\n",
              "      <td>1106.0</td>\n",
              "      <td>1106.00</td>\n",
              "      <td>1106.0</td>\n",
              "    </tr>\n",
              "  </tbody>\n",
              "</table>\n",
              "</div>"
            ],
            "text/plain": [
              "               count         mean          std  ...     50%      75%     max\n",
              "regimen_name                                    ...                         \n",
              "3TC+NVP+TDF    100.0   649.480000   650.956475  ...   533.0   689.75  3155.0\n",
              "ABC+3TC+EFV      1.0  2870.000000          NaN  ...  2870.0  2870.00  2870.0\n",
              "AZT+3TC+ABC      1.0   626.000000          NaN  ...   626.0   626.00   626.0\n",
              "AZT+3TC+EFV     20.0   693.900000   710.415216  ...   547.5   686.00  3157.0\n",
              "AZT+3TC+NVP    107.0   756.485981   677.678367  ...   586.0   924.00  3261.0\n",
              "D4T+3TC+EFV      8.0   434.875000   373.685291  ...   372.0   576.50  1187.0\n",
              "D4T+3TC+NVP     88.0   592.454545   464.452933  ...   574.5   676.25  2996.0\n",
              "TDF+3TC+DTG    389.0   971.393316   985.753818  ...   601.0  1130.00  4452.0\n",
              "TDF+3TC+EFV    186.0  1242.306452  1183.642773  ...   626.0  2744.00  4452.0\n",
              "TDF+3TC+LPV/r    1.0  1106.000000          NaN  ...  1106.0  1106.00  1106.0\n",
              "\n",
              "[10 rows x 8 columns]"
            ]
          },
          "metadata": {
            "tags": []
          },
          "execution_count": 68
        }
      ]
    }
  ]
}