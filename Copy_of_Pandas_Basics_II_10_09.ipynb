{
  "nbformat": 4,
  "nbformat_minor": 0,
  "metadata": {
    "colab": {
      "name": "Copy of Pandas Basics II 10/09",
      "provenance": [],
      "collapsed_sections": [
        "v2Rb2q_Epd9P",
        "5b5cMg9vpg3D",
        "juUUmvj5r1U1",
        "UvgWwvdBpxIF",
        "9_XCQAP5sF5r",
        "C2opvjY3p6zc",
        "BfpO_aWfsXXQ",
        "IwxDABvUp97g",
        "66Fjm3xmslG7",
        "7jHC3c0jqFHy",
        "yOI_UEXDs0XI"
      ],
      "toc_visible": true,
      "include_colab_link": true
    },
    "kernelspec": {
      "name": "python3",
      "display_name": "Python 3"
    }
  },
  "cells": [
    {
      "cell_type": "markdown",
      "metadata": {
        "id": "view-in-github",
        "colab_type": "text"
      },
      "source": [
        "<a href=\"https://colab.research.google.com/github/Werick/Google_colab/blob/master/Copy_of_Pandas_Basics_II_10_09.ipynb\" target=\"_parent\"><img src=\"https://colab.research.google.com/assets/colab-badge.svg\" alt=\"Open In Colab\"/></a>"
      ]
    },
    {
      "cell_type": "markdown",
      "metadata": {
        "id": "9I110jHWZkwL",
        "colab_type": "text"
      },
      "source": [
        "<font color=\"green\">*To start working on this notebook, or any other notebook that we will use in the Moringa Data Science Course, we will need to save our own copy of it. We can do this by clicking File > Save a Copy in Drive. We will then be able to make edits to our own copy of this notebook.*</font>"
      ]
    },
    {
      "cell_type": "markdown",
      "metadata": {
        "id": "YW4SN5OupJfN",
        "colab_type": "text"
      },
      "source": [
        "# Pandas Basics II\n"
      ]
    },
    {
      "cell_type": "markdown",
      "metadata": {
        "id": "v2Rb2q_Epd9P",
        "colab_type": "text"
      },
      "source": [
        "## 1.0 Importing the Libraries to be used "
      ]
    },
    {
      "cell_type": "code",
      "metadata": {
        "id": "frw-YOvjpCiw",
        "colab_type": "code",
        "colab": {}
      },
      "source": [
        "# Let's import the pandas library\n",
        "#\n",
        "import pandas as pd\n",
        "# as well as the Numpy library\n",
        "import numpy as np\n"
      ],
      "execution_count": 1,
      "outputs": []
    },
    {
      "cell_type": "markdown",
      "metadata": {
        "id": "5b5cMg9vpg3D",
        "colab_type": "text"
      },
      "source": [
        "## 1.1 Loading our Datasets"
      ]
    },
    {
      "cell_type": "code",
      "metadata": {
        "id": "-9gmYBvxptCI",
        "colab_type": "code",
        "colab": {
          "base_uri": "https://localhost:8080/",
          "height": 356
        },
        "outputId": "e72f263a-ac0a-406e-ed61-c465657c9195"
      },
      "source": [
        "# Example 1\n",
        "# We will begin learning how we can load datasets from different types of sources\n",
        "# Let's first begin with loading datasets from a JSON file \n",
        "#\n",
        "\n",
        "\n",
        "# First, we get the URL to the JSON file (alternatively this can be a filepath)\n",
        "url = 'https://raw.githubusercontent.com/algolia/datasets/master/airports/airports.json'\n",
        "\n",
        "# Then load, the first sheet of the JSON file into a data frame. \n",
        "# We are going to use pandas read_json method. This method works the same as read_csv. You can read more about it from the documentation: https://pandas.pydata.org/pandas-docs/stable/reference/api/pandas.read_json.html\n",
        "df = pd.read_json(url, orient='columns')\n",
        "df\n",
        "\n",
        "# Lastly, view the first ten rows\n",
        "df.head(10)"
      ],
      "execution_count": null,
      "outputs": [
        {
          "output_type": "execute_result",
          "data": {
            "text/html": [
              "<div>\n",
              "<style scoped>\n",
              "    .dataframe tbody tr th:only-of-type {\n",
              "        vertical-align: middle;\n",
              "    }\n",
              "\n",
              "    .dataframe tbody tr th {\n",
              "        vertical-align: top;\n",
              "    }\n",
              "\n",
              "    .dataframe thead th {\n",
              "        text-align: right;\n",
              "    }\n",
              "</style>\n",
              "<table border=\"1\" class=\"dataframe\">\n",
              "  <thead>\n",
              "    <tr style=\"text-align: right;\">\n",
              "      <th></th>\n",
              "      <th>name</th>\n",
              "      <th>city</th>\n",
              "      <th>country</th>\n",
              "      <th>iata_code</th>\n",
              "      <th>_geoloc</th>\n",
              "      <th>links_count</th>\n",
              "      <th>objectID</th>\n",
              "    </tr>\n",
              "  </thead>\n",
              "  <tbody>\n",
              "    <tr>\n",
              "      <th>0</th>\n",
              "      <td>Hartsfield Jackson Atlanta Intl</td>\n",
              "      <td>Atlanta</td>\n",
              "      <td>United States</td>\n",
              "      <td>ATL</td>\n",
              "      <td>{'lat': 33.636719, 'lng': -84.428067}</td>\n",
              "      <td>1826</td>\n",
              "      <td>3682</td>\n",
              "    </tr>\n",
              "    <tr>\n",
              "      <th>1</th>\n",
              "      <td>Chicago Ohare Intl</td>\n",
              "      <td>Chicago</td>\n",
              "      <td>United States</td>\n",
              "      <td>ORD</td>\n",
              "      <td>{'lat': 41.978603, 'lng': -87.904842}</td>\n",
              "      <td>1108</td>\n",
              "      <td>3830</td>\n",
              "    </tr>\n",
              "    <tr>\n",
              "      <th>2</th>\n",
              "      <td>Capital Intl</td>\n",
              "      <td>Beijing</td>\n",
              "      <td>China</td>\n",
              "      <td>PEK</td>\n",
              "      <td>{'lat': 40.080111, 'lng': 116.584556}</td>\n",
              "      <td>1069</td>\n",
              "      <td>3364</td>\n",
              "    </tr>\n",
              "    <tr>\n",
              "      <th>3</th>\n",
              "      <td>Heathrow</td>\n",
              "      <td>London</td>\n",
              "      <td>United Kingdom</td>\n",
              "      <td>LHR</td>\n",
              "      <td>{'lat': 51.4775, 'lng': -0.461389}</td>\n",
              "      <td>1051</td>\n",
              "      <td>507</td>\n",
              "    </tr>\n",
              "    <tr>\n",
              "      <th>4</th>\n",
              "      <td>Charles De Gaulle</td>\n",
              "      <td>Paris</td>\n",
              "      <td>France</td>\n",
              "      <td>CDG</td>\n",
              "      <td>{'lat': 49.012779, 'lng': 2.55}</td>\n",
              "      <td>1041</td>\n",
              "      <td>1382</td>\n",
              "    </tr>\n",
              "    <tr>\n",
              "      <th>5</th>\n",
              "      <td>Los Angeles Intl</td>\n",
              "      <td>Los Angeles</td>\n",
              "      <td>United States</td>\n",
              "      <td>LAX</td>\n",
              "      <td>{'lat': 33.942536, 'lng': -118.408075}</td>\n",
              "      <td>990</td>\n",
              "      <td>3484</td>\n",
              "    </tr>\n",
              "    <tr>\n",
              "      <th>6</th>\n",
              "      <td>Frankfurt Main</td>\n",
              "      <td>Frankfurt</td>\n",
              "      <td>Germany</td>\n",
              "      <td>FRA</td>\n",
              "      <td>{'lat': 50.026421, 'lng': 8.543125}</td>\n",
              "      <td>990</td>\n",
              "      <td>340</td>\n",
              "    </tr>\n",
              "    <tr>\n",
              "      <th>7</th>\n",
              "      <td>Dallas Fort Worth Intl</td>\n",
              "      <td>Dallas-Fort Worth</td>\n",
              "      <td>United States</td>\n",
              "      <td>DFW</td>\n",
              "      <td>{'lat': 32.896828, 'lng': -97.037997}</td>\n",
              "      <td>936</td>\n",
              "      <td>3670</td>\n",
              "    </tr>\n",
              "    <tr>\n",
              "      <th>8</th>\n",
              "      <td>John F Kennedy Intl</td>\n",
              "      <td>New York</td>\n",
              "      <td>United States</td>\n",
              "      <td>JFK</td>\n",
              "      <td>{'lat': 40.639751, 'lng': -73.778925}</td>\n",
              "      <td>911</td>\n",
              "      <td>3797</td>\n",
              "    </tr>\n",
              "    <tr>\n",
              "      <th>9</th>\n",
              "      <td>Schiphol</td>\n",
              "      <td>Amsterdam</td>\n",
              "      <td>Netherlands</td>\n",
              "      <td>AMS</td>\n",
              "      <td>{'lat': 52.308613, 'lng': 4.763889}</td>\n",
              "      <td>903</td>\n",
              "      <td>580</td>\n",
              "    </tr>\n",
              "  </tbody>\n",
              "</table>\n",
              "</div>"
            ],
            "text/plain": [
              "                              name               city  ... links_count objectID\n",
              "0  Hartsfield Jackson Atlanta Intl            Atlanta  ...        1826     3682\n",
              "1               Chicago Ohare Intl            Chicago  ...        1108     3830\n",
              "2                     Capital Intl            Beijing  ...        1069     3364\n",
              "3                         Heathrow             London  ...        1051      507\n",
              "4                Charles De Gaulle              Paris  ...        1041     1382\n",
              "5                 Los Angeles Intl        Los Angeles  ...         990     3484\n",
              "6                   Frankfurt Main          Frankfurt  ...         990      340\n",
              "7           Dallas Fort Worth Intl  Dallas-Fort Worth  ...         936     3670\n",
              "8              John F Kennedy Intl           New York  ...         911     3797\n",
              "9                         Schiphol          Amsterdam  ...         903      580\n",
              "\n",
              "[10 rows x 7 columns]"
            ]
          },
          "metadata": {
            "tags": []
          },
          "execution_count": 35
        }
      ]
    },
    {
      "cell_type": "code",
      "metadata": {
        "id": "xaY5MQdxptu0",
        "colab_type": "code",
        "colab": {
          "base_uri": "https://localhost:8080/",
          "height": 356
        },
        "outputId": "428a6c59-08d0-4033-a924-81541347946d"
      },
      "source": [
        "# Example 2\n",
        "# We can also load an Excel file as shown below\n",
        "# \n",
        "\n",
        "# We create a URL to Excel file (alternatively this can be a filepath)\n",
        "url = 'https://raw.githubusercontent.com/chrisalbon/simulated_datasets/master/data.xlsx'\n",
        "\n",
        "# Then load the first sheet of the Excel file into a data frame\n",
        "df = pd.read_excel(url, sheet_name=0, header=1)\n",
        "\n",
        "# Lastly, view the first ten rows\n",
        "df.head(10)"
      ],
      "execution_count": null,
      "outputs": [
        {
          "output_type": "execute_result",
          "data": {
            "text/html": [
              "<div>\n",
              "<style scoped>\n",
              "    .dataframe tbody tr th:only-of-type {\n",
              "        vertical-align: middle;\n",
              "    }\n",
              "\n",
              "    .dataframe tbody tr th {\n",
              "        vertical-align: top;\n",
              "    }\n",
              "\n",
              "    .dataframe thead th {\n",
              "        text-align: right;\n",
              "    }\n",
              "</style>\n",
              "<table border=\"1\" class=\"dataframe\">\n",
              "  <thead>\n",
              "    <tr style=\"text-align: right;\">\n",
              "      <th></th>\n",
              "      <th>5</th>\n",
              "      <th>2015-01-01 00:00:00</th>\n",
              "      <th>0</th>\n",
              "    </tr>\n",
              "  </thead>\n",
              "  <tbody>\n",
              "    <tr>\n",
              "      <th>0</th>\n",
              "      <td>5</td>\n",
              "      <td>2015-01-01 00:00:01</td>\n",
              "      <td>0</td>\n",
              "    </tr>\n",
              "    <tr>\n",
              "      <th>1</th>\n",
              "      <td>9</td>\n",
              "      <td>2015-01-01 00:00:02</td>\n",
              "      <td>0</td>\n",
              "    </tr>\n",
              "    <tr>\n",
              "      <th>2</th>\n",
              "      <td>6</td>\n",
              "      <td>2015-01-01 00:00:03</td>\n",
              "      <td>0</td>\n",
              "    </tr>\n",
              "    <tr>\n",
              "      <th>3</th>\n",
              "      <td>6</td>\n",
              "      <td>2015-01-01 00:00:04</td>\n",
              "      <td>0</td>\n",
              "    </tr>\n",
              "    <tr>\n",
              "      <th>4</th>\n",
              "      <td>9</td>\n",
              "      <td>2015-01-01 00:00:05</td>\n",
              "      <td>0</td>\n",
              "    </tr>\n",
              "    <tr>\n",
              "      <th>5</th>\n",
              "      <td>7</td>\n",
              "      <td>2015-01-01 00:00:06</td>\n",
              "      <td>0</td>\n",
              "    </tr>\n",
              "    <tr>\n",
              "      <th>6</th>\n",
              "      <td>1</td>\n",
              "      <td>2015-01-01 00:00:07</td>\n",
              "      <td>0</td>\n",
              "    </tr>\n",
              "    <tr>\n",
              "      <th>7</th>\n",
              "      <td>6</td>\n",
              "      <td>2015-01-01 00:00:08</td>\n",
              "      <td>0</td>\n",
              "    </tr>\n",
              "    <tr>\n",
              "      <th>8</th>\n",
              "      <td>9</td>\n",
              "      <td>2015-01-01 00:00:09</td>\n",
              "      <td>0</td>\n",
              "    </tr>\n",
              "    <tr>\n",
              "      <th>9</th>\n",
              "      <td>5</td>\n",
              "      <td>2015-01-01 00:00:10</td>\n",
              "      <td>0</td>\n",
              "    </tr>\n",
              "  </tbody>\n",
              "</table>\n",
              "</div>"
            ],
            "text/plain": [
              "   5 2015-01-01 00:00:00  0\n",
              "0  5 2015-01-01 00:00:01  0\n",
              "1  9 2015-01-01 00:00:02  0\n",
              "2  6 2015-01-01 00:00:03  0\n",
              "3  6 2015-01-01 00:00:04  0\n",
              "4  9 2015-01-01 00:00:05  0\n",
              "5  7 2015-01-01 00:00:06  0\n",
              "6  1 2015-01-01 00:00:07  0\n",
              "7  6 2015-01-01 00:00:08  0\n",
              "8  9 2015-01-01 00:00:09  0\n",
              "9  5 2015-01-01 00:00:10  0"
            ]
          },
          "metadata": {
            "tags": []
          },
          "execution_count": 44
        }
      ]
    },
    {
      "cell_type": "code",
      "metadata": {
        "id": "sfmKllkvptir",
        "colab_type": "code",
        "colab": {
          "base_uri": "https://localhost:8080/",
          "height": 202
        },
        "outputId": "aedcb065-dc75-442a-b4a5-5e9d846a7f22"
      },
      "source": [
        "# Example 3\n",
        "# We can also load A CSV Into pandas\n",
        "# \n",
        "\n",
        "# We create a csv file or import from a url\n",
        "\n",
        "# First, creating a dataframe (that we will be importing)\n",
        "raw_data = {'first_name': ['Jason', 'Molly', 'Tina', 'Jake', 'Amy'], \n",
        "        'last_name': ['Miller', 'Jacobson', \".\", 'Milner', 'Cooze'], \n",
        "        'age': [42, 52, 36, 24, 73], \n",
        "        'preTestScore': [4, 24, 31, \".\", \".\"],\n",
        "        'postTestScore': [\"25,000\", \"94,000\", 57, 62, 70]}\n",
        "df = pd.DataFrame(raw_data, columns = ['first_name', 'last_name', 'age', 'preTestScore', 'postTestScore'])\n",
        "df\n",
        "\n",
        "# Saving the above dataframe as csv in the working directory\n",
        "df.to_csv('example.csv')\n",
        "df\n",
        "\n",
        "\n",
        "# Loading a csv\n",
        "df = pd.read_csv('example.csv')\n",
        "df\n",
        "\n",
        "# Loading a csv with no headers\n",
        "# Uncomment the lines below after running previous lines.\n",
        "df = pd.read_csv('example.csv', header=None) \n",
        "df\n",
        "\n",
        "# Loading a csv while specifying column names\n",
        "# Uncomment the lines below after running previous lines.\n",
        "df = pd.read_csv('example.csv', names=['UID', 'First Name', 'Last Name', 'Age', 'Pre-Test Score', 'Post-Test Score'])\n",
        "df\n",
        "\n",
        "# Loading a csv while setting the index columns to First Name and Last Name\n",
        "# Uncomment the lines below after running previous lines.\n",
        "df = pd.read_csv('example.csv', index_col=['First Name', 'Last Name'], names=['UID', 'First Name', 'Last Name', 'Age', 'Pre-Test Score', 'Post-Test Score'])\n",
        "df\n",
        "\n",
        "# Loading a csv while specifying “.” and “NA” as missing values in the Last Name column and “.” as missing values in Pre-Test Score column\n",
        "#\n",
        "# Uncomment the lines below after running previous lines.\n",
        "sentinels = {'Last Name': ['.', 'NA'], 'Pre-Test Score': ['.']}\n",
        "df = pd.read_csv('example.csv', na_values=sentinels)\n",
        "df"
      ],
      "execution_count": null,
      "outputs": [
        {
          "output_type": "execute_result",
          "data": {
            "text/html": [
              "<div>\n",
              "<style scoped>\n",
              "    .dataframe tbody tr th:only-of-type {\n",
              "        vertical-align: middle;\n",
              "    }\n",
              "\n",
              "    .dataframe tbody tr th {\n",
              "        vertical-align: top;\n",
              "    }\n",
              "\n",
              "    .dataframe thead th {\n",
              "        text-align: right;\n",
              "    }\n",
              "</style>\n",
              "<table border=\"1\" class=\"dataframe\">\n",
              "  <thead>\n",
              "    <tr style=\"text-align: right;\">\n",
              "      <th></th>\n",
              "      <th>Unnamed: 0</th>\n",
              "      <th>first_name</th>\n",
              "      <th>last_name</th>\n",
              "      <th>age</th>\n",
              "      <th>preTestScore</th>\n",
              "      <th>postTestScore</th>\n",
              "    </tr>\n",
              "  </thead>\n",
              "  <tbody>\n",
              "    <tr>\n",
              "      <th>0</th>\n",
              "      <td>0</td>\n",
              "      <td>Jason</td>\n",
              "      <td>Miller</td>\n",
              "      <td>42</td>\n",
              "      <td>4</td>\n",
              "      <td>25,000</td>\n",
              "    </tr>\n",
              "    <tr>\n",
              "      <th>1</th>\n",
              "      <td>1</td>\n",
              "      <td>Molly</td>\n",
              "      <td>Jacobson</td>\n",
              "      <td>52</td>\n",
              "      <td>24</td>\n",
              "      <td>94,000</td>\n",
              "    </tr>\n",
              "    <tr>\n",
              "      <th>2</th>\n",
              "      <td>2</td>\n",
              "      <td>Tina</td>\n",
              "      <td>.</td>\n",
              "      <td>36</td>\n",
              "      <td>31</td>\n",
              "      <td>57</td>\n",
              "    </tr>\n",
              "    <tr>\n",
              "      <th>3</th>\n",
              "      <td>3</td>\n",
              "      <td>Jake</td>\n",
              "      <td>Milner</td>\n",
              "      <td>24</td>\n",
              "      <td>.</td>\n",
              "      <td>62</td>\n",
              "    </tr>\n",
              "    <tr>\n",
              "      <th>4</th>\n",
              "      <td>4</td>\n",
              "      <td>Amy</td>\n",
              "      <td>Cooze</td>\n",
              "      <td>73</td>\n",
              "      <td>.</td>\n",
              "      <td>70</td>\n",
              "    </tr>\n",
              "  </tbody>\n",
              "</table>\n",
              "</div>"
            ],
            "text/plain": [
              "   Unnamed: 0 first_name last_name  age preTestScore postTestScore\n",
              "0           0      Jason    Miller   42            4        25,000\n",
              "1           1      Molly  Jacobson   52           24        94,000\n",
              "2           2       Tina         .   36           31            57\n",
              "3           3       Jake    Milner   24            .            62\n",
              "4           4        Amy     Cooze   73            .            70"
            ]
          },
          "metadata": {
            "tags": []
          },
          "execution_count": 31
        }
      ]
    },
    {
      "cell_type": "markdown",
      "metadata": {
        "id": "juUUmvj5r1U1",
        "colab_type": "text"
      },
      "source": [
        "### <font color=\"green\">1.1 Challenges</font>"
      ]
    },
    {
      "cell_type": "code",
      "metadata": {
        "id": "4OSrlmj2r-vR",
        "colab_type": "code",
        "colab": {
          "base_uri": "https://localhost:8080/",
          "height": 416
        },
        "outputId": "a9b5fea0-f69d-4ecb-b8fe-cef9079a0739"
      },
      "source": [
        "# Challenge 1\n",
        "# Load the first 10 records of the JSON file from the following url\n",
        "# url = https://raw.githubusercontent.com/dariusk/corpora/master/data/books/academic_subjects.json\n",
        "#\n",
        "url = \"https://raw.githubusercontent.com/dariusk/corpora/master/data/books/academic_subjects.json\"\n",
        "df = pd.read_json(url, orient='columns')\n",
        "df"
      ],
      "execution_count": null,
      "outputs": [
        {
          "output_type": "execute_result",
          "data": {
            "text/html": [
              "<div>\n",
              "<style scoped>\n",
              "    .dataframe tbody tr th:only-of-type {\n",
              "        vertical-align: middle;\n",
              "    }\n",
              "\n",
              "    .dataframe tbody tr th {\n",
              "        vertical-align: top;\n",
              "    }\n",
              "\n",
              "    .dataframe thead th {\n",
              "        text-align: right;\n",
              "    }\n",
              "</style>\n",
              "<table border=\"1\" class=\"dataframe\">\n",
              "  <thead>\n",
              "    <tr style=\"text-align: right;\">\n",
              "      <th></th>\n",
              "      <th>description</th>\n",
              "      <th>source</th>\n",
              "      <th>subjects</th>\n",
              "    </tr>\n",
              "  </thead>\n",
              "  <tbody>\n",
              "    <tr>\n",
              "      <th>0</th>\n",
              "      <td>Academic subjects</td>\n",
              "      <td>Classification of Instructional Programs (CIP ...</td>\n",
              "      <td>Accounting</td>\n",
              "    </tr>\n",
              "    <tr>\n",
              "      <th>1</th>\n",
              "      <td>Academic subjects</td>\n",
              "      <td>Classification of Instructional Programs (CIP ...</td>\n",
              "      <td>Administration of Special Education</td>\n",
              "    </tr>\n",
              "    <tr>\n",
              "      <th>2</th>\n",
              "      <td>Academic subjects</td>\n",
              "      <td>Classification of Instructional Programs (CIP ...</td>\n",
              "      <td>Adult &amp; Continuing Teacher Education</td>\n",
              "    </tr>\n",
              "    <tr>\n",
              "      <th>3</th>\n",
              "      <td>Academic subjects</td>\n",
              "      <td>Classification of Instructional Programs (CIP ...</td>\n",
              "      <td>Advertising</td>\n",
              "    </tr>\n",
              "    <tr>\n",
              "      <th>4</th>\n",
              "      <td>Academic subjects</td>\n",
              "      <td>Classification of Instructional Programs (CIP ...</td>\n",
              "      <td>African Studies</td>\n",
              "    </tr>\n",
              "    <tr>\n",
              "      <th>...</th>\n",
              "      <td>...</td>\n",
              "      <td>...</td>\n",
              "      <td>...</td>\n",
              "    </tr>\n",
              "    <tr>\n",
              "      <th>250</th>\n",
              "      <td>Academic subjects</td>\n",
              "      <td>Classification of Instructional Programs (CIP ...</td>\n",
              "      <td>Veterinary Medicine</td>\n",
              "    </tr>\n",
              "    <tr>\n",
              "      <th>251</th>\n",
              "      <td>Academic subjects</td>\n",
              "      <td>Classification of Instructional Programs (CIP ...</td>\n",
              "      <td>Visual &amp; Performing Arts</td>\n",
              "    </tr>\n",
              "    <tr>\n",
              "      <th>252</th>\n",
              "      <td>Academic subjects</td>\n",
              "      <td>Classification of Instructional Programs (CIP ...</td>\n",
              "      <td>Welding Technology</td>\n",
              "    </tr>\n",
              "    <tr>\n",
              "      <th>253</th>\n",
              "      <td>Academic subjects</td>\n",
              "      <td>Classification of Instructional Programs (CIP ...</td>\n",
              "      <td>Western European Studies</td>\n",
              "    </tr>\n",
              "    <tr>\n",
              "      <th>254</th>\n",
              "      <td>Academic subjects</td>\n",
              "      <td>Classification of Instructional Programs (CIP ...</td>\n",
              "      <td>Wildlife &amp; Wildlands Management</td>\n",
              "    </tr>\n",
              "  </tbody>\n",
              "</table>\n",
              "<p>255 rows × 3 columns</p>\n",
              "</div>"
            ],
            "text/plain": [
              "           description  ...                              subjects\n",
              "0    Academic subjects  ...                            Accounting\n",
              "1    Academic subjects  ...   Administration of Special Education\n",
              "2    Academic subjects  ...  Adult & Continuing Teacher Education\n",
              "3    Academic subjects  ...                           Advertising\n",
              "4    Academic subjects  ...                       African Studies\n",
              "..                 ...  ...                                   ...\n",
              "250  Academic subjects  ...                   Veterinary Medicine\n",
              "251  Academic subjects  ...              Visual & Performing Arts\n",
              "252  Academic subjects  ...                    Welding Technology\n",
              "253  Academic subjects  ...              Western European Studies\n",
              "254  Academic subjects  ...       Wildlife & Wildlands Management\n",
              "\n",
              "[255 rows x 3 columns]"
            ]
          },
          "metadata": {
            "tags": []
          },
          "execution_count": 32
        }
      ]
    },
    {
      "cell_type": "code",
      "metadata": {
        "id": "YLAQVIq-sAWZ",
        "colab_type": "code",
        "colab": {
          "base_uri": "https://localhost:8080/",
          "height": 676
        },
        "outputId": "4f0660ad-b6b1-48c7-db18-5307918252bc"
      },
      "source": [
        "# Challenge 2\n",
        "# Preview the excel spreadsheet from the following url\n",
        "# url = http://ww2.amstat.org/publications/jse/v20n3/delzell/conflictdata.xlsx\n",
        "# \n",
        "url = \"http://ww2.amstat.org/publications/jse/v20n3/delzell/conflictdata.xlsx\"\n",
        "df= df = pd.read_excel(url, sheet_name=0,header=1)\n",
        "df"
      ],
      "execution_count": null,
      "outputs": [
        {
          "output_type": "execute_result",
          "data": {
            "text/html": [
              "<div>\n",
              "<style scoped>\n",
              "    .dataframe tbody tr th:only-of-type {\n",
              "        vertical-align: middle;\n",
              "    }\n",
              "\n",
              "    .dataframe tbody tr th {\n",
              "        vertical-align: top;\n",
              "    }\n",
              "\n",
              "    .dataframe thead th {\n",
              "        text-align: right;\n",
              "    }\n",
              "</style>\n",
              "<table border=\"1\" class=\"dataframe\">\n",
              "  <thead>\n",
              "    <tr style=\"text-align: right;\">\n",
              "      <th></th>\n",
              "      <th>2005</th>\n",
              "      <th>Riots</th>\n",
              "      <th>Protesters (Algeria)</th>\n",
              "      <th>Unnamed: 3</th>\n",
              "      <th>Algeria</th>\n",
              "      <th>Chlef</th>\n",
              "      <th>Sidi Ammar</th>\n",
              "      <th>36.47</th>\n",
              "      <th>1.45</th>\n",
              "      <th>604300</th>\n",
              "      <th>20050125</th>\n",
              "      <th>35.79</th>\n",
              "      <th>MILIANA</th>\n",
              "      <th>2.23</th>\n",
              "      <th>36.29</th>\n",
              "      <th>C</th>\n",
              "    </tr>\n",
              "  </thead>\n",
              "  <tbody>\n",
              "    <tr>\n",
              "      <th>0</th>\n",
              "      <td>2003</td>\n",
              "      <td>Riots</td>\n",
              "      <td>Protesters (Algeria)</td>\n",
              "      <td>NaN</td>\n",
              "      <td>Algeria</td>\n",
              "      <td>NaN</td>\n",
              "      <td>Tadjenanet</td>\n",
              "      <td>36.11</td>\n",
              "      <td>5.98</td>\n",
              "      <td>604680</td>\n",
              "      <td>20030201</td>\n",
              "      <td>38.50</td>\n",
              "      <td>BATNA</td>\n",
              "      <td>6.31</td>\n",
              "      <td>35.75</td>\n",
              "      <td>C</td>\n",
              "    </tr>\n",
              "    <tr>\n",
              "      <th>1</th>\n",
              "      <td>2002</td>\n",
              "      <td>Battles</td>\n",
              "      <td>Military Forces of Ethiopia (1991-)</td>\n",
              "      <td>ONLF: Ogaden National Liberation Front</td>\n",
              "      <td>Ethiopia</td>\n",
              "      <td>Degeh Bur</td>\n",
              "      <td>Afweyne</td>\n",
              "      <td>9.38</td>\n",
              "      <td>43.06</td>\n",
              "      <td>696754</td>\n",
              "      <td>20020224</td>\n",
              "      <td>39.20</td>\n",
              "      <td>CAMP LEMONIER</td>\n",
              "      <td>43.15</td>\n",
              "      <td>11.55</td>\n",
              "      <td>C</td>\n",
              "    </tr>\n",
              "    <tr>\n",
              "      <th>2</th>\n",
              "      <td>2003</td>\n",
              "      <td>Riots</td>\n",
              "      <td>Protesters (Algeria)</td>\n",
              "      <td>Police Forces of Algeria (1999-)</td>\n",
              "      <td>Algeria</td>\n",
              "      <td>Bordj Bou Arreridj</td>\n",
              "      <td>Bordj Bou Arerridj</td>\n",
              "      <td>36.07</td>\n",
              "      <td>4.77</td>\n",
              "      <td>604440</td>\n",
              "      <td>20030217</td>\n",
              "      <td>39.40</td>\n",
              "      <td>BORDJ-BOU-ARRERIDJ</td>\n",
              "      <td>4.76</td>\n",
              "      <td>36.06</td>\n",
              "      <td>C</td>\n",
              "    </tr>\n",
              "    <tr>\n",
              "      <th>3</th>\n",
              "      <td>1999</td>\n",
              "      <td>Violence against civilians</td>\n",
              "      <td>GIA: Armed Islamic Group of Algeria</td>\n",
              "      <td>Civilians (Algeria)</td>\n",
              "      <td>Algeria</td>\n",
              "      <td>Relizane</td>\n",
              "      <td>Relizane</td>\n",
              "      <td>35.74</td>\n",
              "      <td>0.55</td>\n",
              "      <td>605060</td>\n",
              "      <td>19991217</td>\n",
              "      <td>39.90</td>\n",
              "      <td>MASCARA-MATEMORE</td>\n",
              "      <td>0.30</td>\n",
              "      <td>35.59</td>\n",
              "      <td>C</td>\n",
              "    </tr>\n",
              "    <tr>\n",
              "      <th>4</th>\n",
              "      <td>2005</td>\n",
              "      <td>Riots</td>\n",
              "      <td>Protesters (Algeria)</td>\n",
              "      <td>NaN</td>\n",
              "      <td>Algeria</td>\n",
              "      <td>Bordj Bou Arreridj</td>\n",
              "      <td>Bordj Bou Arreridj</td>\n",
              "      <td>36.07</td>\n",
              "      <td>4.77</td>\n",
              "      <td>604440</td>\n",
              "      <td>20050125</td>\n",
              "      <td>39.90</td>\n",
              "      <td>BORDJ-BOU-ARRERIDJ</td>\n",
              "      <td>4.76</td>\n",
              "      <td>36.06</td>\n",
              "      <td>C</td>\n",
              "    </tr>\n",
              "    <tr>\n",
              "      <th>...</th>\n",
              "      <td>...</td>\n",
              "      <td>...</td>\n",
              "      <td>...</td>\n",
              "      <td>...</td>\n",
              "      <td>...</td>\n",
              "      <td>...</td>\n",
              "      <td>...</td>\n",
              "      <td>...</td>\n",
              "      <td>...</td>\n",
              "      <td>...</td>\n",
              "      <td>...</td>\n",
              "      <td>...</td>\n",
              "      <td>...</td>\n",
              "      <td>...</td>\n",
              "      <td>...</td>\n",
              "      <td>...</td>\n",
              "    </tr>\n",
              "    <tr>\n",
              "      <th>35967</th>\n",
              "      <td>2007</td>\n",
              "      <td>Violence against civilians</td>\n",
              "      <td>FDLR: Democratic Forces for the Liberation of ...</td>\n",
              "      <td>Civilians (DRC)</td>\n",
              "      <td>Democratic Republic of Congo</td>\n",
              "      <td>Kivu</td>\n",
              "      <td>Bukavu</td>\n",
              "      <td>-2.50</td>\n",
              "      <td>28.86</td>\n",
              "      <td>643900</td>\n",
              "      <td>20070601</td>\n",
              "      <td>48.20</td>\n",
              "      <td>BUJUMBURA</td>\n",
              "      <td>29.31</td>\n",
              "      <td>-3.31</td>\n",
              "      <td>C</td>\n",
              "    </tr>\n",
              "    <tr>\n",
              "      <th>35968</th>\n",
              "      <td>2007</td>\n",
              "      <td>Battles</td>\n",
              "      <td>Military Forces of Democratic Republic of Cong...</td>\n",
              "      <td>FDLR: Democratic Forces for the Liberation of ...</td>\n",
              "      <td>Democratic Republic of Congo</td>\n",
              "      <td>Kivu</td>\n",
              "      <td>Bukavu</td>\n",
              "      <td>-2.50</td>\n",
              "      <td>28.86</td>\n",
              "      <td>643900</td>\n",
              "      <td>20070609</td>\n",
              "      <td>48.20</td>\n",
              "      <td>BUJUMBURA</td>\n",
              "      <td>29.31</td>\n",
              "      <td>-3.31</td>\n",
              "      <td>C</td>\n",
              "    </tr>\n",
              "    <tr>\n",
              "      <th>35969</th>\n",
              "      <td>2007</td>\n",
              "      <td>Battles</td>\n",
              "      <td>Unidentified Armed Group (Nigeria)</td>\n",
              "      <td>Military Forces of Nigeria-Joint Task Force (2...</td>\n",
              "      <td>Nigeria</td>\n",
              "      <td>Delta State</td>\n",
              "      <td>Niger Delta</td>\n",
              "      <td>5.32</td>\n",
              "      <td>6.47</td>\n",
              "      <td>648100</td>\n",
              "      <td>20070904</td>\n",
              "      <td>75.19</td>\n",
              "      <td>MALABO</td>\n",
              "      <td>8.76</td>\n",
              "      <td>3.75</td>\n",
              "      <td>C</td>\n",
              "    </tr>\n",
              "    <tr>\n",
              "      <th>35970</th>\n",
              "      <td>2007</td>\n",
              "      <td>Violence against civilians</td>\n",
              "      <td>Unidentified Armed Group (Nigeria)</td>\n",
              "      <td>Civilians (Nigeria)</td>\n",
              "      <td>Nigeria</td>\n",
              "      <td>Oyo State</td>\n",
              "      <td>Ibadan</td>\n",
              "      <td>7.38</td>\n",
              "      <td>3.89</td>\n",
              "      <td>652010</td>\n",
              "      <td>20070912</td>\n",
              "      <td>75.19</td>\n",
              "      <td>LAGOS/IKEJA</td>\n",
              "      <td>3.33</td>\n",
              "      <td>6.58</td>\n",
              "      <td>C</td>\n",
              "    </tr>\n",
              "    <tr>\n",
              "      <th>35971</th>\n",
              "      <td>2007</td>\n",
              "      <td>Violence against civilians</td>\n",
              "      <td>Unidentified Armed Group (Nigeria)</td>\n",
              "      <td>Civilians (Nigeria)</td>\n",
              "      <td>Nigeria</td>\n",
              "      <td>Oyo State</td>\n",
              "      <td>Oyo State</td>\n",
              "      <td>8.00</td>\n",
              "      <td>4.00</td>\n",
              "      <td>652010</td>\n",
              "      <td>20070912</td>\n",
              "      <td>75.19</td>\n",
              "      <td>LAGOS/IKEJA</td>\n",
              "      <td>3.33</td>\n",
              "      <td>6.58</td>\n",
              "      <td>C</td>\n",
              "    </tr>\n",
              "  </tbody>\n",
              "</table>\n",
              "<p>35972 rows × 16 columns</p>\n",
              "</div>"
            ],
            "text/plain": [
              "       2005                       Riots  ...  36.29  C\n",
              "0      2003                       Riots  ...  35.75  C\n",
              "1      2002                     Battles  ...  11.55  C\n",
              "2      2003                       Riots  ...  36.06  C\n",
              "3      1999  Violence against civilians  ...  35.59  C\n",
              "4      2005                       Riots  ...  36.06  C\n",
              "...     ...                         ...  ...    ... ..\n",
              "35967  2007  Violence against civilians  ...  -3.31  C\n",
              "35968  2007                     Battles  ...  -3.31  C\n",
              "35969  2007                     Battles  ...   3.75  C\n",
              "35970  2007  Violence against civilians  ...   6.58  C\n",
              "35971  2007  Violence against civilians  ...   6.58  C\n",
              "\n",
              "[35972 rows x 16 columns]"
            ]
          },
          "metadata": {
            "tags": []
          },
          "execution_count": 45
        }
      ]
    },
    {
      "cell_type": "code",
      "metadata": {
        "id": "obhaE1tisAOE",
        "colab_type": "code",
        "colab": {
          "base_uri": "https://localhost:8080/",
          "height": 416
        },
        "outputId": "1a382bc0-2038-4eaa-8c65-bf071b4c4b32"
      },
      "source": [
        "# Challenge 3\n",
        "# Download and upload the csv file from this url (http://bit.ly/NairobiBusesDatdase) (Not Load from Url)\n",
        "# Then preview the dataset while specifying column names \n",
        "# \n",
        "df_url = \"http://bit.ly/NairobiBusesDataset\"\n",
        "df = pd.read_csv(df_url)\n",
        "#\n",
        "df =pd.read_csv(df_url, names=[\"ride_id\",\"seat_number\", \"payment_method\", \"payment_receipt\", \"travel_date\", \"travel_time\", \"\ttravel_from\", \"travel_to\", \"car_type\", \"max_capacity\" ])\n",
        "df\n"
      ],
      "execution_count": null,
      "outputs": [
        {
          "output_type": "execute_result",
          "data": {
            "text/html": [
              "<div>\n",
              "<style scoped>\n",
              "    .dataframe tbody tr th:only-of-type {\n",
              "        vertical-align: middle;\n",
              "    }\n",
              "\n",
              "    .dataframe tbody tr th {\n",
              "        vertical-align: top;\n",
              "    }\n",
              "\n",
              "    .dataframe thead th {\n",
              "        text-align: right;\n",
              "    }\n",
              "</style>\n",
              "<table border=\"1\" class=\"dataframe\">\n",
              "  <thead>\n",
              "    <tr style=\"text-align: right;\">\n",
              "      <th></th>\n",
              "      <th>ride_id</th>\n",
              "      <th>seat_number</th>\n",
              "      <th>payment_method</th>\n",
              "      <th>payment_receipt</th>\n",
              "      <th>travel_date</th>\n",
              "      <th>travel_time</th>\n",
              "      <th>\\ttravel_from</th>\n",
              "      <th>travel_to</th>\n",
              "      <th>car_type</th>\n",
              "      <th>max_capacity</th>\n",
              "    </tr>\n",
              "  </thead>\n",
              "  <tbody>\n",
              "    <tr>\n",
              "      <th>0</th>\n",
              "      <td>ride_id</td>\n",
              "      <td>seat_number</td>\n",
              "      <td>payment_method</td>\n",
              "      <td>payment_receipt</td>\n",
              "      <td>travel_date</td>\n",
              "      <td>travel_time</td>\n",
              "      <td>travel_from</td>\n",
              "      <td>travel_to</td>\n",
              "      <td>car_type</td>\n",
              "      <td>max_capacity</td>\n",
              "    </tr>\n",
              "    <tr>\n",
              "      <th>1</th>\n",
              "      <td>1442</td>\n",
              "      <td>15A</td>\n",
              "      <td>Mpesa</td>\n",
              "      <td>UZUEHCBUSO</td>\n",
              "      <td>17-10-17</td>\n",
              "      <td>7:15</td>\n",
              "      <td>Migori</td>\n",
              "      <td>Nairobi</td>\n",
              "      <td>Bus</td>\n",
              "      <td>49</td>\n",
              "    </tr>\n",
              "    <tr>\n",
              "      <th>2</th>\n",
              "      <td>5437</td>\n",
              "      <td>14A</td>\n",
              "      <td>Mpesa</td>\n",
              "      <td>TIHLBUSGTE</td>\n",
              "      <td>19-11-17</td>\n",
              "      <td>7:12</td>\n",
              "      <td>Migori</td>\n",
              "      <td>Nairobi</td>\n",
              "      <td>Bus</td>\n",
              "      <td>49</td>\n",
              "    </tr>\n",
              "    <tr>\n",
              "      <th>3</th>\n",
              "      <td>5710</td>\n",
              "      <td>8B</td>\n",
              "      <td>Mpesa</td>\n",
              "      <td>EQX8Q5G19O</td>\n",
              "      <td>26-11-17</td>\n",
              "      <td>7:05</td>\n",
              "      <td>Keroka</td>\n",
              "      <td>Nairobi</td>\n",
              "      <td>Bus</td>\n",
              "      <td>49</td>\n",
              "    </tr>\n",
              "    <tr>\n",
              "      <th>4</th>\n",
              "      <td>5777</td>\n",
              "      <td>19A</td>\n",
              "      <td>Mpesa</td>\n",
              "      <td>SGP18CL0ME</td>\n",
              "      <td>27-11-17</td>\n",
              "      <td>7:10</td>\n",
              "      <td>Homa Bay</td>\n",
              "      <td>Nairobi</td>\n",
              "      <td>Bus</td>\n",
              "      <td>49</td>\n",
              "    </tr>\n",
              "    <tr>\n",
              "      <th>...</th>\n",
              "      <td>...</td>\n",
              "      <td>...</td>\n",
              "      <td>...</td>\n",
              "      <td>...</td>\n",
              "      <td>...</td>\n",
              "      <td>...</td>\n",
              "      <td>...</td>\n",
              "      <td>...</td>\n",
              "      <td>...</td>\n",
              "      <td>...</td>\n",
              "    </tr>\n",
              "    <tr>\n",
              "      <th>51641</th>\n",
              "      <td>13826</td>\n",
              "      <td>9B</td>\n",
              "      <td>Mpesa</td>\n",
              "      <td>8V2XDDZR6V</td>\n",
              "      <td>20-04-18</td>\n",
              "      <td>8:00</td>\n",
              "      <td>Awendo</td>\n",
              "      <td>Nairobi</td>\n",
              "      <td>Bus</td>\n",
              "      <td>49</td>\n",
              "    </tr>\n",
              "    <tr>\n",
              "      <th>51642</th>\n",
              "      <td>13809</td>\n",
              "      <td>18A</td>\n",
              "      <td>Mpesa</td>\n",
              "      <td>4PEBSVJSNK</td>\n",
              "      <td>20-04-18</td>\n",
              "      <td>8:00</td>\n",
              "      <td>Migori</td>\n",
              "      <td>Nairobi</td>\n",
              "      <td>Bus</td>\n",
              "      <td>49</td>\n",
              "    </tr>\n",
              "    <tr>\n",
              "      <th>51643</th>\n",
              "      <td>13809</td>\n",
              "      <td>17A</td>\n",
              "      <td>Mpesa</td>\n",
              "      <td>LVN64LZDNN</td>\n",
              "      <td>20-04-18</td>\n",
              "      <td>8:00</td>\n",
              "      <td>Migori</td>\n",
              "      <td>Nairobi</td>\n",
              "      <td>Bus</td>\n",
              "      <td>49</td>\n",
              "    </tr>\n",
              "    <tr>\n",
              "      <th>51644</th>\n",
              "      <td>13796</td>\n",
              "      <td>16B</td>\n",
              "      <td>Mpesa</td>\n",
              "      <td>REYBSKTYWN</td>\n",
              "      <td>20-04-18</td>\n",
              "      <td>7:08</td>\n",
              "      <td>Awendo</td>\n",
              "      <td>Nairobi</td>\n",
              "      <td>Bus</td>\n",
              "      <td>49</td>\n",
              "    </tr>\n",
              "    <tr>\n",
              "      <th>51645</th>\n",
              "      <td>14304</td>\n",
              "      <td>7</td>\n",
              "      <td>Mpesa</td>\n",
              "      <td>AQN7FBUSGP</td>\n",
              "      <td>14-11-17</td>\n",
              "      <td>5:10</td>\n",
              "      <td>Kisii</td>\n",
              "      <td>Nairobi</td>\n",
              "      <td>Bus</td>\n",
              "      <td>49</td>\n",
              "    </tr>\n",
              "  </tbody>\n",
              "</table>\n",
              "<p>51646 rows × 10 columns</p>\n",
              "</div>"
            ],
            "text/plain": [
              "       ride_id  seat_number  payment_method  ...  travel_to  car_type  max_capacity\n",
              "0      ride_id  seat_number  payment_method  ...  travel_to  car_type  max_capacity\n",
              "1         1442          15A           Mpesa  ...    Nairobi       Bus            49\n",
              "2         5437          14A           Mpesa  ...    Nairobi       Bus            49\n",
              "3         5710           8B           Mpesa  ...    Nairobi       Bus            49\n",
              "4         5777          19A           Mpesa  ...    Nairobi       Bus            49\n",
              "...        ...          ...             ...  ...        ...       ...           ...\n",
              "51641    13826           9B           Mpesa  ...    Nairobi       Bus            49\n",
              "51642    13809          18A           Mpesa  ...    Nairobi       Bus            49\n",
              "51643    13809          17A           Mpesa  ...    Nairobi       Bus            49\n",
              "51644    13796          16B           Mpesa  ...    Nairobi       Bus            49\n",
              "51645    14304            7           Mpesa  ...    Nairobi       Bus            49\n",
              "\n",
              "[51646 rows x 10 columns]"
            ]
          },
          "metadata": {
            "tags": []
          },
          "execution_count": 46
        }
      ]
    },
    {
      "cell_type": "code",
      "metadata": {
        "id": "Uk1pYV6pbTEK",
        "colab_type": "code",
        "colab": {}
      },
      "source": [
        "# Challenge 4 \n",
        "# Create a Dataframe from the following dictionary then fill in the missing values with \".\"\n",
        "#\n",
        "\n",
        "# Dictionary\n",
        "dict = {'First Score':[100, 90, np.nan, 95], \n",
        "        'Second Score': [30, 45, 56, np.nan], \n",
        "        'Third Score':[np.nan, 40, 80, 98]} \n",
        "#\n",
        "#creating Dataframe\n",
        "df1 = pd.DataFrame(dict, columns = ['First Score', 'Second Score', 'Third Score'])\n",
        "df1\n",
        "#\n",
        "# Saving the above dataframe as csv in the working directory\n",
        "df1.to_csv('scores.csv')\n",
        "df1\n",
        "#\n",
        "#Loading a csv while specifying “.” and “NA” as missing values in the Last Name column and “.” as missing values in Pre-Test Score column\n",
        "sentinels = {'First Score': ['.', 'Na'], 'Third Score': ['.']}\n",
        "df1 = pd.read_csv('scores.csv', na_values=sentinels)\n",
        "df1\n"
      ],
      "execution_count": null,
      "outputs": []
    },
    {
      "cell_type": "markdown",
      "metadata": {
        "id": "UvgWwvdBpxIF",
        "colab_type": "text"
      },
      "source": [
        "## 1.2 Exploration"
      ]
    },
    {
      "cell_type": "code",
      "metadata": {
        "id": "3E_v5OjSpzZa",
        "colab_type": "code",
        "colab": {
          "base_uri": "https://localhost:8080/",
          "height": 121
        },
        "outputId": "9d01c071-d7be-44d5-fc72-d6265945d3be"
      },
      "source": [
        "# Example 1\n",
        "# We will now see how we can filter pandas Dataframes as shown below\n",
        "# \n",
        "\n",
        "# Creating the following Dataframe\n",
        "data = {'name': ['Kevin', 'Jane', 'Mary', 'Jared', 'Elizabeth'], \n",
        "        'year': [2012, 2012, 2013, 2014, 2014], \n",
        "        'reports': [4, 24, 31, 2, 3],\n",
        "        'coverage': [25, 94, 57, 62, 70]}\n",
        "df = pd.DataFrame(data, index = ['Nairobi', 'Nakuru', 'Kisumu', 'Kericho', 'Eldoret'])\n",
        "df\n",
        "\n",
        "# Viewing a column\n",
        "# Uncomment the line below after running previous line\n",
        "df['name']\n",
        "\n",
        "# Viewing two Columns\n",
        "# Uncomment the line below after running previous line\n",
        "df[['name', 'reports']]\n",
        "\n",
        "# Viewing the first two Rows\n",
        "# Uncomment the line below after running previous line\n",
        "df[:2]\n",
        "\n",
        "# Viewing rows where coverage is greater than 50\n",
        "#Uncomment the line below after running previous line\n",
        "df[df['coverage'] > 50]\n",
        "\n",
        "\n",
        "# Viewing rows where coverage is greater than 50 and reports less than 4\n",
        "# Uncomment the line below after running previous line\n",
        "df[(df['coverage']  > 50) & (df['reports'] < 4)]"
      ],
      "execution_count": null,
      "outputs": [
        {
          "output_type": "execute_result",
          "data": {
            "text/plain": [
              "Nairobi        Kevin\n",
              "Nakuru          Jane\n",
              "Kisumu          Mary\n",
              "Kericho        Jared\n",
              "Eldoret    Elizabeth\n",
              "Name: name, dtype: object"
            ]
          },
          "metadata": {
            "tags": []
          },
          "execution_count": 110
        }
      ]
    },
    {
      "cell_type": "code",
      "metadata": {
        "id": "_R-B-0cwp0t5",
        "colab_type": "code",
        "colab": {
          "base_uri": "https://localhost:8080/",
          "height": 34
        },
        "outputId": "0d86c850-405e-443c-e277-e264d705d631"
      },
      "source": [
        "# Example 2\n",
        "# Then find the largest value in a Dataframe column\n",
        "# \n",
        "\n",
        "# First creating a Dataframe\n",
        "raw_data = {'first_name': ['Jason', 'Molly', 'Tina', 'Jake', 'Amy'], \n",
        "        'last_name': ['Miller', 'Jacobson', 'Ali', 'Milner', 'Cooze'], \n",
        "        'age': [42, 52, 36, 24, 73], \n",
        "        'preTestScore': [4, 24, 31, 2, 3],\n",
        "        'postTestScore': [25, 94, 57, 62, 70]}\n",
        "df = pd.DataFrame(raw_data, columns = ['first_name', 'last_name', 'age', 'preTestScore', 'postTestScore'])\n",
        "df\n",
        "\n",
        "# Then Indexing of the row with the highest value in the preTestScore column\n",
        "# Uncomment the line below after running previous line\n",
        "df['preTestScore'].max()"
      ],
      "execution_count": null,
      "outputs": [
        {
          "output_type": "execute_result",
          "data": {
            "text/plain": [
              "31"
            ]
          },
          "metadata": {
            "tags": []
          },
          "execution_count": 162
        }
      ]
    },
    {
      "cell_type": "code",
      "metadata": {
        "id": "esmZmojypz0a",
        "colab_type": "code",
        "colab": {
          "base_uri": "https://localhost:8080/",
          "height": 34
        },
        "outputId": "4d29bf54-63ff-4950-d53a-5e4577abebca"
      },
      "source": [
        "# Example 3\n",
        "# Finding also Unique Values In the Pandas Dataframes\n",
        "import numpy as np\n",
        "\n",
        "# First creating a Dataframe from a Dictionary\n",
        "raw_data = {'regiment': ['51st', '29th', '2nd', '19th', '12th', '101st', '90th', '30th', '193th', '1st', '94th', '91th'], \n",
        "            'trucks': ['MAZ-7310', np.nan, 'MAZ-7310', 'MAZ-7310', 'Tatra 810', 'Tatra 810', 'Tatra 810', 'Tatra 810', 'ZIS-150', 'Tatra 810', 'ZIS-150', 'ZIS-150'],\n",
        "            'tanks': ['Merkava Mark 4', 'Merkava Mark 4', 'Merkava Mark 4', 'Leopard 2A6M', 'Leopard 2A6M', 'Leopard 2A6M', 'Arjun MBT', 'Leopard 2A6M', 'Arjun MBT', 'Arjun MBT', 'Arjun MBT', 'Arjun MBT'],\n",
        "            'aircraft': ['none', 'none', 'none', 'Harbin Z-9', 'Harbin Z-9', 'none', 'Harbin Z-9', 'SH-60B Seahawk', 'SH-60B Seahawk', 'SH-60B Seahawk', 'SH-60B Seahawk', 'SH-60B Seahawk']}\n",
        "df = pd.DataFrame(raw_data, columns = ['regiment', 'trucks', 'tanks', 'aircraft'])\n",
        "df\n",
        "\n",
        "# Viewing the top few rows\n",
        "# Uncomment the line below after running previous lines\n",
        "df.head()\n",
        "\n",
        "# We can create a list of unique values by turning the pandas column into a set\n",
        "# Uncomment the line below after running previous lines\n",
        "list(set(df.trucks))\n",
        "\n",
        "# Here's another way of creating a list of unique values in df.trucks\n",
        "# Uncomment the line below after running previous lines\n",
        "list(df['trucks'].unique())\n"
      ],
      "execution_count": null,
      "outputs": [
        {
          "output_type": "execute_result",
          "data": {
            "text/plain": [
              "['MAZ-7310', nan, 'Tatra 810', 'ZIS-150']"
            ]
          },
          "metadata": {
            "tags": []
          },
          "execution_count": 96
        }
      ]
    },
    {
      "cell_type": "code",
      "metadata": {
        "id": "B3RH0pXqqRbH",
        "colab_type": "code",
        "colab": {}
      },
      "source": [
        "# Example 4\n",
        "# listing Unique Values In A pandas Column\n",
        "#\n",
        "\n",
        "# Create an example dataframe\n",
        "data = {'name': ['Jason', 'Molly', 'Tina', 'Jake', 'Amy'], \n",
        "        'year': [2012, 2012, 2013, 2014, 2014], \n",
        "        'reports': [4, 24, 31, 2, 3]}\n",
        "df = pd.DataFrame(data, index = ['Cochice', 'Pima', 'Santa Cruz', 'Maricopa', 'Yuma'])\n",
        "df\n",
        "\n",
        "# List unique values in the df['name'] column\n",
        "# Uncomment the line below after running previous lines\n",
        "# df.name.unique()"
      ],
      "execution_count": null,
      "outputs": []
    },
    {
      "cell_type": "code",
      "metadata": {
        "id": "QcCOrEo5qpfS",
        "colab_type": "code",
        "colab": {
          "base_uri": "https://localhost:8080/",
          "height": 104
        },
        "outputId": "c11f2416-91a0-47b8-fcf4-506e78c91100"
      },
      "source": [
        "# Example 5\n",
        "# Grouping Rows In pandas\n",
        "# \n",
        "\n",
        "# Creating a Dataframe\n",
        "raw_data = {'regiment': ['Nighthawks', 'Nighthawks', 'Nighthawks', 'Nighthawks', 'Dragoons', 'Dragoons', 'Dragoons', 'Dragoons', 'Scouts', 'Scouts', 'Scouts', 'Scouts'], \n",
        "        'company': ['1st', '1st', '2nd', '2nd', '1st', '1st', '2nd', '2nd','1st', '1st', '2nd', '2nd'], \n",
        "        'name': ['Miller', 'Jacobson', 'Ali', 'Milner', 'Cooze', 'Jacon', 'Ryaner', 'Sone', 'Sloan', 'Piger', 'Riani', 'Ali'], \n",
        "        'preTestScore': [4, 24, 31, 2, 3, 4, 24, 31, 2, 3, 2, 3],\n",
        "        'postTestScore': [25, 94, 57, 62, 70, 25, 94, 57, 62, 70, 62, 70]}\n",
        "df = pd.DataFrame(raw_data, columns = ['regiment', 'company', 'name', 'preTestScore', 'postTestScore'])\n",
        "df\n",
        "\n",
        "# Creating a grouping object. In other words, create an object that\n",
        "# represents that particular grouping. In this case we group\n",
        "#pre-test scores by the regiment.\n",
        "# Uncomment the line below after running previous lines\n",
        "regiment_preScore = df['preTestScore'].groupby(df['regiment'])\n",
        "\n",
        "# Displaying the mean value of the each regiment's pre-test score\n",
        "# Uncomment the line below after running previous lines\n",
        "regiment_preScore.mean()\n"
      ],
      "execution_count": null,
      "outputs": [
        {
          "output_type": "execute_result",
          "data": {
            "text/plain": [
              "regiment\n",
              "Dragoons      15.50\n",
              "Nighthawks    15.25\n",
              "Scouts         2.50\n",
              "Name: preTestScore, dtype: float64"
            ]
          },
          "metadata": {
            "tags": []
          },
          "execution_count": 101
        }
      ]
    },
    {
      "cell_type": "markdown",
      "metadata": {
        "id": "9_XCQAP5sF5r",
        "colab_type": "text"
      },
      "source": [
        "### <font color=\"green\"> 1.2 Challenges</font>"
      ]
    },
    {
      "cell_type": "code",
      "metadata": {
        "id": "h_MYzHTPsFWe",
        "colab_type": "code",
        "colab": {
          "base_uri": "https://localhost:8080/",
          "height": 141
        },
        "outputId": "e8c093aa-fbd9-495c-d39b-a2ddd48c7efd"
      },
      "source": [
        "# Challenge 1\n",
        "# Let us view the following Dataframe upon creation from the following Dictionary\n",
        "#\n",
        "data = {'name': ['Alice', 'Robert', 'Charles', 'David', 'Eric'],\n",
        "        'year of joining': [2014, 2015, 2013, 2014, 2013],\n",
        "        'salary': [40000, 25000, 35000, 200000, 30000]}\n",
        "df = pd.DataFrame(data, index = ['I&M', 'I&M', 'KCB', 'KCB', 'KCB'])\n",
        "\n",
        "\n",
        "# Let us view salary column\n",
        "#\n",
        "df['salary']\n",
        "df\n",
        "\n",
        "# We would like to compare the name and the salary columns\n",
        "df[[\"name\", \"salary\"]]\n",
        "df\n",
        "\n",
        "# Let's view the first three records of the dataframe\n",
        "df[:3]\n",
        "\n",
        "# Which employee(s) earn(s) a salary of more than 30000\n",
        "df[df[\"salary\"] > 30000]\n",
        "\n",
        "# Which employee(s) earn(s) a salary of less than 30000 and joined before 2015\n",
        "df[(df['salary']  > 30000) & (df['year of joining'] < 2015)]\n"
      ],
      "execution_count": null,
      "outputs": [
        {
          "output_type": "execute_result",
          "data": {
            "text/html": [
              "<div>\n",
              "<style scoped>\n",
              "    .dataframe tbody tr th:only-of-type {\n",
              "        vertical-align: middle;\n",
              "    }\n",
              "\n",
              "    .dataframe tbody tr th {\n",
              "        vertical-align: top;\n",
              "    }\n",
              "\n",
              "    .dataframe thead th {\n",
              "        text-align: right;\n",
              "    }\n",
              "</style>\n",
              "<table border=\"1\" class=\"dataframe\">\n",
              "  <thead>\n",
              "    <tr style=\"text-align: right;\">\n",
              "      <th></th>\n",
              "      <th>name</th>\n",
              "      <th>year of joining</th>\n",
              "      <th>salary</th>\n",
              "    </tr>\n",
              "  </thead>\n",
              "  <tbody>\n",
              "    <tr>\n",
              "      <th>I&amp;M</th>\n",
              "      <td>Alice</td>\n",
              "      <td>2014</td>\n",
              "      <td>40000</td>\n",
              "    </tr>\n",
              "    <tr>\n",
              "      <th>KCB</th>\n",
              "      <td>Charles</td>\n",
              "      <td>2013</td>\n",
              "      <td>35000</td>\n",
              "    </tr>\n",
              "    <tr>\n",
              "      <th>KCB</th>\n",
              "      <td>David</td>\n",
              "      <td>2014</td>\n",
              "      <td>200000</td>\n",
              "    </tr>\n",
              "  </tbody>\n",
              "</table>\n",
              "</div>"
            ],
            "text/plain": [
              "        name  year of joining  salary\n",
              "I&M    Alice             2014   40000\n",
              "KCB  Charles             2013   35000\n",
              "KCB    David             2014  200000"
            ]
          },
          "metadata": {
            "tags": []
          },
          "execution_count": 129
        }
      ]
    },
    {
      "cell_type": "code",
      "metadata": {
        "id": "SQ-lM05NsOfM",
        "colab_type": "code",
        "colab": {
          "base_uri": "https://localhost:8080/",
          "height": 34
        },
        "outputId": "6f98b9ca-b898-4318-b8da-69ec2c03396d"
      },
      "source": [
        "# Challenge 2\n",
        "# Find out the person with greatest age from the Dataframe that you will create\n",
        "# upon creating the Dictionary below\n",
        "# \n",
        "\n",
        "# Create a DataFrame\n",
        "df = {'Name':['Audrey','Kwasi','Parul','Lohinee','James','Catherine',\n",
        "'Val','Robert','Alex','Alisa','Murkomen','Judy'],\n",
        "'Age':[26,24,23,22,23,24,26,24,22,23,24,24],\n",
        "'Score':[85,63,55,74,31,77,85,63,42,62,89,77]}\n",
        "#\n",
        "df1 = pd.DataFrame(df, columns=['Name', 'Age', 'Score'])\n",
        "df1\n",
        "#\n",
        "#greatest age\n",
        "df1['Age'].max()"
      ],
      "execution_count": null,
      "outputs": [
        {
          "output_type": "execute_result",
          "data": {
            "text/plain": [
              "26"
            ]
          },
          "metadata": {
            "tags": []
          },
          "execution_count": 141
        }
      ]
    },
    {
      "cell_type": "code",
      "metadata": {
        "id": "o1h4cB76sPbm",
        "colab_type": "code",
        "colab": {
          "base_uri": "https://localhost:8080/",
          "height": 34
        },
        "outputId": "8d070664-6966-4e3c-eadb-ca630399f084"
      },
      "source": [
        "# Challenge 3\n",
        "# Get the unique values of the continent column from the Dataset below\n",
        "# url = http://bit.ly/FiveYearData\n",
        "#\n",
        "df_url = \"http://bit.ly/FiveYearData\"\n",
        "#\n",
        "df = pd.read_csv(df_url)\n",
        "df\n",
        "#1st method of getting unique value\n",
        "df.continent.unique()"
      ],
      "execution_count": null,
      "outputs": [
        {
          "output_type": "execute_result",
          "data": {
            "text/plain": [
              "array(['Asia', 'Europe', 'Africa', 'Americas', 'Oceania'], dtype=object)"
            ]
          },
          "metadata": {
            "tags": []
          },
          "execution_count": 50
        }
      ]
    },
    {
      "cell_type": "code",
      "metadata": {
        "id": "EzTfglcZ36vr",
        "colab_type": "code",
        "colab": {}
      },
      "source": [
        "#2nd method for getting unique value\n",
        "#list(set(df.continent))"
      ],
      "execution_count": null,
      "outputs": []
    },
    {
      "cell_type": "code",
      "metadata": {
        "id": "tg4YYl3esQt6",
        "colab_type": "code",
        "colab": {
          "base_uri": "https://localhost:8080/",
          "height": 34
        },
        "outputId": "4c6224b2-1016-44a8-fe90-c9fb99769a8f"
      },
      "source": [
        "# Challenge 4\n",
        "# How many countries are there in the dataset on challenge 3\n",
        "# \n",
        "df[\"country\"].count()"
      ],
      "execution_count": null,
      "outputs": [
        {
          "output_type": "execute_result",
          "data": {
            "text/plain": [
              "1704"
            ]
          },
          "metadata": {
            "tags": []
          },
          "execution_count": 169
        }
      ]
    },
    {
      "cell_type": "code",
      "metadata": {
        "id": "aRwUwGONsRr3",
        "colab_type": "code",
        "colab": {}
      },
      "source": [
        "# Challenge 5\n",
        "# What is the average number of goals per teams from the dictionary below\n",
        "# \n",
        "\n",
        "# Creating our dataframe\n",
        "football = {'Team':['Arsenal', 'Manchester United', 'Arsenal', \n",
        "                   'Arsenal', 'Chelsea', 'Manchester United', \n",
        "                   'Manchester United', 'Chelsea', 'Chelsea', 'Chelsea'],     \n",
        "           'Player':['Ozil', 'Pogba', 'Lucas', 'Aubameyang', \n",
        "                       'Hazard', 'Mata', 'Lukaku', 'Morata',  \n",
        "                                         'Giroud', 'Kante'],                          \n",
        "           'Goals':[6, 4, 7, 5, 10, 3, 1, 6, 3, 4]} \n",
        "\n",
        "df = pd.DataFrame(football, columns=['Team', 'Player', 'Goals'])\n",
        "df\n",
        "# average number of goals per team\n",
        "Team_Goals= df[\"Goals\"]. groupby(df[\"Team\"])\n",
        "df\n",
        "#\n",
        "#everage\n",
        "#Team_Goals.sum()"
      ],
      "execution_count": null,
      "outputs": []
    },
    {
      "cell_type": "markdown",
      "metadata": {
        "id": "C2opvjY3p6zc",
        "colab_type": "text"
      },
      "source": [
        "## 1.3 Selecting and Sorting\n"
      ]
    },
    {
      "cell_type": "code",
      "metadata": {
        "id": "5zZPvy29p9bE",
        "colab_type": "code",
        "colab": {
          "base_uri": "https://localhost:8080/",
          "height": 202
        },
        "outputId": "ab8221e2-1992-4597-c649-e4122f6d1d24"
      },
      "source": [
        "# Example 1\n",
        "# In this section, we will select and sort our dataframes\n",
        "# We will start off by ranking Rows Of Pandas Dataframes as shown \n",
        "#\n",
        "\n",
        "# Creating dataframe\n",
        "data = {'name': ['Jason', 'Molly', 'Tina', 'Jake', 'Amy'], \n",
        "        'year': [2012, 2012, 2013, 2014, 2014], \n",
        "        'reports': [4, 24, 31, 2, 3],\n",
        "        'coverage': [25, 94, 57, 62, 70]}\n",
        "df = pd.DataFrame(data, index = ['Cochice', 'Pima', 'Santa Cruz', 'Maricopa', 'Yuma'])\n",
        "df\n",
        "\n",
        "# Creating a new column that is the rank of the value of coverage in ascending order\n",
        "# Uncomment the line below after running previous lines\n",
        "df['coverageRanked'] = df['coverage'].rank(ascending=1)\n",
        "df"
      ],
      "execution_count": null,
      "outputs": [
        {
          "output_type": "execute_result",
          "data": {
            "text/html": [
              "<div>\n",
              "<style scoped>\n",
              "    .dataframe tbody tr th:only-of-type {\n",
              "        vertical-align: middle;\n",
              "    }\n",
              "\n",
              "    .dataframe tbody tr th {\n",
              "        vertical-align: top;\n",
              "    }\n",
              "\n",
              "    .dataframe thead th {\n",
              "        text-align: right;\n",
              "    }\n",
              "</style>\n",
              "<table border=\"1\" class=\"dataframe\">\n",
              "  <thead>\n",
              "    <tr style=\"text-align: right;\">\n",
              "      <th></th>\n",
              "      <th>name</th>\n",
              "      <th>year</th>\n",
              "      <th>reports</th>\n",
              "      <th>coverage</th>\n",
              "      <th>coverageRanked</th>\n",
              "    </tr>\n",
              "  </thead>\n",
              "  <tbody>\n",
              "    <tr>\n",
              "      <th>Cochice</th>\n",
              "      <td>Jason</td>\n",
              "      <td>2012</td>\n",
              "      <td>4</td>\n",
              "      <td>25</td>\n",
              "      <td>1.0</td>\n",
              "    </tr>\n",
              "    <tr>\n",
              "      <th>Pima</th>\n",
              "      <td>Molly</td>\n",
              "      <td>2012</td>\n",
              "      <td>24</td>\n",
              "      <td>94</td>\n",
              "      <td>5.0</td>\n",
              "    </tr>\n",
              "    <tr>\n",
              "      <th>Santa Cruz</th>\n",
              "      <td>Tina</td>\n",
              "      <td>2013</td>\n",
              "      <td>31</td>\n",
              "      <td>57</td>\n",
              "      <td>2.0</td>\n",
              "    </tr>\n",
              "    <tr>\n",
              "      <th>Maricopa</th>\n",
              "      <td>Jake</td>\n",
              "      <td>2014</td>\n",
              "      <td>2</td>\n",
              "      <td>62</td>\n",
              "      <td>3.0</td>\n",
              "    </tr>\n",
              "    <tr>\n",
              "      <th>Yuma</th>\n",
              "      <td>Amy</td>\n",
              "      <td>2014</td>\n",
              "      <td>3</td>\n",
              "      <td>70</td>\n",
              "      <td>4.0</td>\n",
              "    </tr>\n",
              "  </tbody>\n",
              "</table>\n",
              "</div>"
            ],
            "text/plain": [
              "             name  year  reports  coverage  coverageRanked\n",
              "Cochice     Jason  2012        4        25             1.0\n",
              "Pima        Molly  2012       24        94             5.0\n",
              "Santa Cruz   Tina  2013       31        57             2.0\n",
              "Maricopa     Jake  2014        2        62             3.0\n",
              "Yuma          Amy  2014        3        70             4.0"
            ]
          },
          "metadata": {
            "tags": []
          },
          "execution_count": 195
        }
      ]
    },
    {
      "cell_type": "code",
      "metadata": {
        "id": "vLhFrqNiqWDX",
        "colab_type": "code",
        "colab": {
          "base_uri": "https://localhost:8080/",
          "height": 110
        },
        "outputId": "c67b4ee4-a7d2-430f-b6e5-7dfab8f7cbce"
      },
      "source": [
        "# Example 2\n",
        "# Next, we will Select Rows When Columns that Contain Certain Values\n",
        "# \n",
        "\n",
        "# Create an example dataframe\n",
        "data = {'name': ['Jason', 'Molly', 'Tina', 'Jake', 'Amy'], \n",
        "        'year': [2012, 2012, 2013, 2014, 2014], \n",
        "        'reports': [4, 24, 31, 2, 3]}\n",
        "df = pd.DataFrame(data, index = ['Cochice', 'Pima', 'Santa Cruz', 'Maricopa', 'Yuma'])\n",
        "df\n",
        "\n",
        "# Get rows where column has certain values\n",
        "# Uncomment the line below after running previous lines\n",
        "value_list = ['Tina', 'Molly', 'Jason']\n",
        "df[df.name.isin(value_list)]\n",
        "\n",
        "# Get rows where column doesn't have certain values\n",
        "# Uncomment the line below after running previous lines\n",
        "df[~df.name.isin(value_list)]"
      ],
      "execution_count": null,
      "outputs": [
        {
          "output_type": "execute_result",
          "data": {
            "text/html": [
              "<div>\n",
              "<style scoped>\n",
              "    .dataframe tbody tr th:only-of-type {\n",
              "        vertical-align: middle;\n",
              "    }\n",
              "\n",
              "    .dataframe tbody tr th {\n",
              "        vertical-align: top;\n",
              "    }\n",
              "\n",
              "    .dataframe thead th {\n",
              "        text-align: right;\n",
              "    }\n",
              "</style>\n",
              "<table border=\"1\" class=\"dataframe\">\n",
              "  <thead>\n",
              "    <tr style=\"text-align: right;\">\n",
              "      <th></th>\n",
              "      <th>name</th>\n",
              "      <th>year</th>\n",
              "      <th>reports</th>\n",
              "    </tr>\n",
              "  </thead>\n",
              "  <tbody>\n",
              "    <tr>\n",
              "      <th>Maricopa</th>\n",
              "      <td>Jake</td>\n",
              "      <td>2014</td>\n",
              "      <td>2</td>\n",
              "    </tr>\n",
              "    <tr>\n",
              "      <th>Yuma</th>\n",
              "      <td>Amy</td>\n",
              "      <td>2014</td>\n",
              "      <td>3</td>\n",
              "    </tr>\n",
              "  </tbody>\n",
              "</table>\n",
              "</div>"
            ],
            "text/plain": [
              "          name  year  reports\n",
              "Maricopa  Jake  2014        2\n",
              "Yuma       Amy  2014        3"
            ]
          },
          "metadata": {
            "tags": []
          },
          "execution_count": 4
        }
      ]
    },
    {
      "cell_type": "code",
      "metadata": {
        "id": "Q8wjaHL3qV-1",
        "colab_type": "code",
        "colab": {
          "base_uri": "https://localhost:8080/",
          "height": 110
        },
        "outputId": "ea5be7ea-1b75-430b-ba88-c87f23bf9878"
      },
      "source": [
        "# Example 3\n",
        "# Then, Select Rows With A Certain Value\n",
        "\n",
        "# Create an example dataframe\n",
        "data = {'name': ['Jason', 'Molly'], \n",
        "        'country': [['Syria', 'Lebanon'],['Spain', 'Morocco']]}\n",
        "df = pd.DataFrame(data)\n",
        "df\n",
        "\n",
        "# Uncomment the line below after running previous lines\n",
        "# df[df['country'].map(lambda country: 'Syria' in country)]\n"
      ],
      "execution_count": null,
      "outputs": [
        {
          "output_type": "execute_result",
          "data": {
            "text/html": [
              "<div>\n",
              "<style scoped>\n",
              "    .dataframe tbody tr th:only-of-type {\n",
              "        vertical-align: middle;\n",
              "    }\n",
              "\n",
              "    .dataframe tbody tr th {\n",
              "        vertical-align: top;\n",
              "    }\n",
              "\n",
              "    .dataframe thead th {\n",
              "        text-align: right;\n",
              "    }\n",
              "</style>\n",
              "<table border=\"1\" class=\"dataframe\">\n",
              "  <thead>\n",
              "    <tr style=\"text-align: right;\">\n",
              "      <th></th>\n",
              "      <th>name</th>\n",
              "      <th>country</th>\n",
              "    </tr>\n",
              "  </thead>\n",
              "  <tbody>\n",
              "    <tr>\n",
              "      <th>0</th>\n",
              "      <td>Jason</td>\n",
              "      <td>[Syria, Lebanon]</td>\n",
              "    </tr>\n",
              "    <tr>\n",
              "      <th>1</th>\n",
              "      <td>Molly</td>\n",
              "      <td>[Spain, Morocco]</td>\n",
              "    </tr>\n",
              "  </tbody>\n",
              "</table>\n",
              "</div>"
            ],
            "text/plain": [
              "    name           country\n",
              "0  Jason  [Syria, Lebanon]\n",
              "1  Molly  [Spain, Morocco]"
            ]
          },
          "metadata": {
            "tags": []
          },
          "execution_count": 199
        }
      ]
    },
    {
      "cell_type": "code",
      "metadata": {
        "id": "eGiiPkCvqu_W",
        "colab_type": "code",
        "colab": {
          "base_uri": "https://localhost:8080/",
          "height": 141
        },
        "outputId": "da5c10b2-6163-426a-c99d-d090b946b643"
      },
      "source": [
        "# Example 4\n",
        "# Select Rows With Multiple Filters\n",
        "#\n",
        "\n",
        "# Create an example dataframe\n",
        "data = {'name': ['A', 'B', 'C', 'D', 'E'], \n",
        "        'score': [1,2,3,4,5]}\n",
        "df = pd.DataFrame(data)\n",
        "df\n",
        "\n",
        "# Select rows of the dataframe where df.score is greater than 1 and less and 5\n",
        "# Uncomment the line below after running previous lines\n",
        "df[(df['score'] > 1) & (df['score'] < 5)]\n"
      ],
      "execution_count": null,
      "outputs": [
        {
          "output_type": "execute_result",
          "data": {
            "text/html": [
              "<div>\n",
              "<style scoped>\n",
              "    .dataframe tbody tr th:only-of-type {\n",
              "        vertical-align: middle;\n",
              "    }\n",
              "\n",
              "    .dataframe tbody tr th {\n",
              "        vertical-align: top;\n",
              "    }\n",
              "\n",
              "    .dataframe thead th {\n",
              "        text-align: right;\n",
              "    }\n",
              "</style>\n",
              "<table border=\"1\" class=\"dataframe\">\n",
              "  <thead>\n",
              "    <tr style=\"text-align: right;\">\n",
              "      <th></th>\n",
              "      <th>name</th>\n",
              "      <th>score</th>\n",
              "    </tr>\n",
              "  </thead>\n",
              "  <tbody>\n",
              "    <tr>\n",
              "      <th>1</th>\n",
              "      <td>B</td>\n",
              "      <td>2</td>\n",
              "    </tr>\n",
              "    <tr>\n",
              "      <th>2</th>\n",
              "      <td>C</td>\n",
              "      <td>3</td>\n",
              "    </tr>\n",
              "    <tr>\n",
              "      <th>3</th>\n",
              "      <td>D</td>\n",
              "      <td>4</td>\n",
              "    </tr>\n",
              "  </tbody>\n",
              "</table>\n",
              "</div>"
            ],
            "text/plain": [
              "  name  score\n",
              "1    B      2\n",
              "2    C      3\n",
              "3    D      4"
            ]
          },
          "metadata": {
            "tags": []
          },
          "execution_count": 5
        }
      ]
    },
    {
      "cell_type": "code",
      "metadata": {
        "id": "qZb_iZhpqZ0T",
        "colab_type": "code",
        "colab": {
          "base_uri": "https://localhost:8080/",
          "height": 110
        },
        "outputId": "45641e19-844f-4be0-d7d6-3ea673bf0548"
      },
      "source": [
        "# Example 5\n",
        "# Selecting DataFrame Rows Based On Conditions\n",
        "# \n",
        "\n",
        "# import numpy\n",
        "import numpy as np\n",
        "\n",
        "# Creating a dataframe\n",
        "raw_data = {'first_name': ['Jason', 'Molly', np.nan, np.nan, np.nan], \n",
        "        'nationality': ['USA', 'USA', 'France', 'UK', 'UK'], \n",
        "        'age': [42, 52, 36, 24, 70]}\n",
        "df = pd.DataFrame(raw_data, columns = ['first_name', 'nationality', 'age'])\n",
        "df\n",
        "\n",
        "# Method 1: Using Boolean Variables\n",
        "# Create variable with TRUE if nationality is USA\n",
        "# Uncomment the line below after running previous lines\n",
        "american = df['nationality'] == \"USA\"\n",
        "american\n",
        "\n",
        "# Create variable with TRUE if age is greater than 50\n",
        "# Uncomment the line below after running previous lines\n",
        "elderly= df['age'] > 50\n",
        "elderly\n",
        "\n",
        "# Select all cases where nationality is USA and age is greater than 50\n",
        "# Uncomment the line below after running previous lines \n",
        "df[american & elderly]\n",
        "\n",
        "\n",
        "# Method 2: Using variable attributes\n",
        "#Select all cases where the first name is not missing and nationality is USA\n",
        "# Uncomment the line below after running previous lines\n",
        "df[df['first_name'].notnull() & (df['nationality'] == \"USA\")]"
      ],
      "execution_count": null,
      "outputs": [
        {
          "output_type": "execute_result",
          "data": {
            "text/html": [
              "<div>\n",
              "<style scoped>\n",
              "    .dataframe tbody tr th:only-of-type {\n",
              "        vertical-align: middle;\n",
              "    }\n",
              "\n",
              "    .dataframe tbody tr th {\n",
              "        vertical-align: top;\n",
              "    }\n",
              "\n",
              "    .dataframe thead th {\n",
              "        text-align: right;\n",
              "    }\n",
              "</style>\n",
              "<table border=\"1\" class=\"dataframe\">\n",
              "  <thead>\n",
              "    <tr style=\"text-align: right;\">\n",
              "      <th></th>\n",
              "      <th>first_name</th>\n",
              "      <th>nationality</th>\n",
              "      <th>age</th>\n",
              "    </tr>\n",
              "  </thead>\n",
              "  <tbody>\n",
              "    <tr>\n",
              "      <th>0</th>\n",
              "      <td>Jason</td>\n",
              "      <td>USA</td>\n",
              "      <td>42</td>\n",
              "    </tr>\n",
              "    <tr>\n",
              "      <th>1</th>\n",
              "      <td>Molly</td>\n",
              "      <td>USA</td>\n",
              "      <td>52</td>\n",
              "    </tr>\n",
              "  </tbody>\n",
              "</table>\n",
              "</div>"
            ],
            "text/plain": [
              "  first_name nationality  age\n",
              "0      Jason         USA   42\n",
              "1      Molly         USA   52"
            ]
          },
          "metadata": {
            "tags": []
          },
          "execution_count": 21
        }
      ]
    },
    {
      "cell_type": "code",
      "metadata": {
        "id": "7q-WUNwOqxgj",
        "colab_type": "code",
        "colab": {
          "base_uri": "https://localhost:8080/",
          "height": 202
        },
        "outputId": "7ac5434f-e0a5-4391-fd4a-51f66b8628b6"
      },
      "source": [
        "# Example 6\n",
        "# Sorting Rows In pandas Dataframes\n",
        "# \n",
        "\n",
        "# Creating a Dataframe to work with\n",
        "data = {'name': ['Jason', 'Molly', 'Tina', 'Jake', 'Amy'], \n",
        "        'year': [2012, 2012, 2013, 2014, 2014], \n",
        "        'reports': [1, 2, 1, 2, 3],\n",
        "        'coverage': [2, 2, 3, 3, 3]}\n",
        "df = pd.DataFrame(data, index = ['Cochice', 'Pima', 'Santa Cruz', 'Maricopa', 'Yuma'])\n",
        "df\n",
        "\n",
        "# Sort the dataframe’s rows by reports, in descending order\n",
        "# Uncomment the line below after running previous lines\n",
        "df.sort_values(by='reports', ascending=0)\n",
        "\n",
        "# Sort the dataframe’s rows by coverage and then by reports, in ascending order\n",
        "# Uncomment the line below after running previous lines\n",
        "df.sort_values(by=['coverage', 'reports'])\n"
      ],
      "execution_count": null,
      "outputs": [
        {
          "output_type": "execute_result",
          "data": {
            "text/html": [
              "<div>\n",
              "<style scoped>\n",
              "    .dataframe tbody tr th:only-of-type {\n",
              "        vertical-align: middle;\n",
              "    }\n",
              "\n",
              "    .dataframe tbody tr th {\n",
              "        vertical-align: top;\n",
              "    }\n",
              "\n",
              "    .dataframe thead th {\n",
              "        text-align: right;\n",
              "    }\n",
              "</style>\n",
              "<table border=\"1\" class=\"dataframe\">\n",
              "  <thead>\n",
              "    <tr style=\"text-align: right;\">\n",
              "      <th></th>\n",
              "      <th>name</th>\n",
              "      <th>year</th>\n",
              "      <th>reports</th>\n",
              "      <th>coverage</th>\n",
              "    </tr>\n",
              "  </thead>\n",
              "  <tbody>\n",
              "    <tr>\n",
              "      <th>Cochice</th>\n",
              "      <td>Jason</td>\n",
              "      <td>2012</td>\n",
              "      <td>1</td>\n",
              "      <td>2</td>\n",
              "    </tr>\n",
              "    <tr>\n",
              "      <th>Pima</th>\n",
              "      <td>Molly</td>\n",
              "      <td>2012</td>\n",
              "      <td>2</td>\n",
              "      <td>2</td>\n",
              "    </tr>\n",
              "    <tr>\n",
              "      <th>Santa Cruz</th>\n",
              "      <td>Tina</td>\n",
              "      <td>2013</td>\n",
              "      <td>1</td>\n",
              "      <td>3</td>\n",
              "    </tr>\n",
              "    <tr>\n",
              "      <th>Maricopa</th>\n",
              "      <td>Jake</td>\n",
              "      <td>2014</td>\n",
              "      <td>2</td>\n",
              "      <td>3</td>\n",
              "    </tr>\n",
              "    <tr>\n",
              "      <th>Yuma</th>\n",
              "      <td>Amy</td>\n",
              "      <td>2014</td>\n",
              "      <td>3</td>\n",
              "      <td>3</td>\n",
              "    </tr>\n",
              "  </tbody>\n",
              "</table>\n",
              "</div>"
            ],
            "text/plain": [
              "             name  year  reports  coverage\n",
              "Cochice     Jason  2012        1         2\n",
              "Pima        Molly  2012        2         2\n",
              "Santa Cruz   Tina  2013        1         3\n",
              "Maricopa     Jake  2014        2         3\n",
              "Yuma          Amy  2014        3         3"
            ]
          },
          "metadata": {
            "tags": []
          },
          "execution_count": 24
        }
      ]
    },
    {
      "cell_type": "markdown",
      "metadata": {
        "id": "BfpO_aWfsXXQ",
        "colab_type": "text"
      },
      "source": [
        "### <font color=\"green\">1.3 Challenges</font>"
      ]
    },
    {
      "cell_type": "code",
      "metadata": {
        "id": "EwS81YKwscx6",
        "colab_type": "code",
        "colab": {
          "base_uri": "https://localhost:8080/",
          "height": 172
        },
        "outputId": "cf8812ae-0699-41a5-e97b-62e6ec84b0c5"
      },
      "source": [
        "# Challenge 1\n",
        "# Create a new column ranking the following cars by price \n",
        "# \n",
        "\n",
        "Cars = {'Brand': ['Honda Civic', 'Toyota Corolla', 'Ford Focus', 'Audi A4'],\n",
        "        'Price': [22000, 25000, 27000, 35000],\n",
        "        'Year': [2015, 2013, 2018, 2018]}\n",
        "\n",
        "df = pd.DataFrame(Cars, columns = ['Brand', 'Price', 'Year'])\n",
        "df\n",
        "df[\"PriceRanked\"] = df[\"Price\"]\n",
        "df"
      ],
      "execution_count": null,
      "outputs": [
        {
          "output_type": "execute_result",
          "data": {
            "text/html": [
              "<div>\n",
              "<style scoped>\n",
              "    .dataframe tbody tr th:only-of-type {\n",
              "        vertical-align: middle;\n",
              "    }\n",
              "\n",
              "    .dataframe tbody tr th {\n",
              "        vertical-align: top;\n",
              "    }\n",
              "\n",
              "    .dataframe thead th {\n",
              "        text-align: right;\n",
              "    }\n",
              "</style>\n",
              "<table border=\"1\" class=\"dataframe\">\n",
              "  <thead>\n",
              "    <tr style=\"text-align: right;\">\n",
              "      <th></th>\n",
              "      <th>Brand</th>\n",
              "      <th>Price</th>\n",
              "      <th>Year</th>\n",
              "      <th>PriceRanked</th>\n",
              "    </tr>\n",
              "  </thead>\n",
              "  <tbody>\n",
              "    <tr>\n",
              "      <th>0</th>\n",
              "      <td>Honda Civic</td>\n",
              "      <td>22000</td>\n",
              "      <td>2015</td>\n",
              "      <td>22000</td>\n",
              "    </tr>\n",
              "    <tr>\n",
              "      <th>1</th>\n",
              "      <td>Toyota Corolla</td>\n",
              "      <td>25000</td>\n",
              "      <td>2013</td>\n",
              "      <td>25000</td>\n",
              "    </tr>\n",
              "    <tr>\n",
              "      <th>2</th>\n",
              "      <td>Ford Focus</td>\n",
              "      <td>27000</td>\n",
              "      <td>2018</td>\n",
              "      <td>27000</td>\n",
              "    </tr>\n",
              "    <tr>\n",
              "      <th>3</th>\n",
              "      <td>Audi A4</td>\n",
              "      <td>35000</td>\n",
              "      <td>2018</td>\n",
              "      <td>35000</td>\n",
              "    </tr>\n",
              "  </tbody>\n",
              "</table>\n",
              "</div>"
            ],
            "text/plain": [
              "            Brand  Price  Year  PriceRanked\n",
              "0     Honda Civic  22000  2015        22000\n",
              "1  Toyota Corolla  25000  2013        25000\n",
              "2      Ford Focus  27000  2018        27000\n",
              "3         Audi A4  35000  2018        35000"
            ]
          },
          "metadata": {
            "tags": []
          },
          "execution_count": 28
        }
      ]
    },
    {
      "cell_type": "code",
      "metadata": {
        "id": "q4SFJY8Xsd8p",
        "colab_type": "code",
        "colab": {
          "base_uri": "https://localhost:8080/",
          "height": 110
        },
        "outputId": "7b5a2a09-153c-4229-af4c-edab9aa661fe"
      },
      "source": [
        "# Challenge 2\n",
        "# Let's get the rows when the column contains certain values\n",
        "#\n",
        "\n",
        "data = {'model': ['Lisa', 'Lisa 2', 'Macintosh 128K', 'Macintosh 512K'],\n",
        "        'launched': [1983, 1984, 1984, 1984],\n",
        "        'discontinued': [1986, 1985, 1984, 1986]}\n",
        "columns = ['model', 'launched', 'discontinued']\n",
        "#\n",
        "df = pd.DataFrame(data, columns = ['model', 'launched', 'dicontinued'])\n",
        "df\n",
        "\n",
        "# Get the rows where the column model contains Lisa\n",
        "value_list = [\"Lisa\" , \"Lisa 2\", \"Mcintosh 128k\", \"Macintosh 512k\"]\n",
        "df[df.model.isin(value_list)]\n",
        "\n",
        "# Get the rows where the column model does not contain Macintosh 128K\n",
        "df[~df.model.isin(value_list)]"
      ],
      "execution_count": null,
      "outputs": [
        {
          "output_type": "execute_result",
          "data": {
            "text/html": [
              "<div>\n",
              "<style scoped>\n",
              "    .dataframe tbody tr th:only-of-type {\n",
              "        vertical-align: middle;\n",
              "    }\n",
              "\n",
              "    .dataframe tbody tr th {\n",
              "        vertical-align: top;\n",
              "    }\n",
              "\n",
              "    .dataframe thead th {\n",
              "        text-align: right;\n",
              "    }\n",
              "</style>\n",
              "<table border=\"1\" class=\"dataframe\">\n",
              "  <thead>\n",
              "    <tr style=\"text-align: right;\">\n",
              "      <th></th>\n",
              "      <th>model</th>\n",
              "      <th>launched</th>\n",
              "      <th>dicontinued</th>\n",
              "    </tr>\n",
              "  </thead>\n",
              "  <tbody>\n",
              "    <tr>\n",
              "      <th>2</th>\n",
              "      <td>Macintosh 128K</td>\n",
              "      <td>1984</td>\n",
              "      <td>NaN</td>\n",
              "    </tr>\n",
              "    <tr>\n",
              "      <th>3</th>\n",
              "      <td>Macintosh 512K</td>\n",
              "      <td>1984</td>\n",
              "      <td>NaN</td>\n",
              "    </tr>\n",
              "  </tbody>\n",
              "</table>\n",
              "</div>"
            ],
            "text/plain": [
              "            model  launched dicontinued\n",
              "2  Macintosh 128K      1984         NaN\n",
              "3  Macintosh 512K      1984         NaN"
            ]
          },
          "metadata": {
            "tags": []
          },
          "execution_count": 38
        }
      ]
    },
    {
      "cell_type": "code",
      "metadata": {
        "id": "fUZfz_79sfJO",
        "colab_type": "code",
        "colab": {}
      },
      "source": [
        "# Challenge 3\n",
        "# Select the rows with the value blue or yellow from the Dataframe below\n",
        "#\n",
        "data = {'name': ['Willam', 'Alex', 'Oliech', 'Julie'],\n",
        "'age': [20, 19, 22, 21],\n",
        "'favorite_color': ['blue', 'blue', 'yellow', \"green\"],\n",
        "'grade': [88, 92, 95, 70]}\n",
        "\n",
        "df1 = pd.DataFrame(data, columns=[\"name\", \"age\", \"favorite_color\", \"grade\"])\n",
        "df1\n",
        "#\n",
        "df[(df['favorite_color'] = \"blue\") & (df['favorite_color'] = \"yellow\"]\n"
      ],
      "execution_count": null,
      "outputs": []
    },
    {
      "cell_type": "code",
      "metadata": {
        "id": "OXMrd5EUsgMY",
        "colab_type": "code",
        "colab": {}
      },
      "source": [
        "# Challenge 4\n",
        "# Using the following dataset, which counties have less than 50,000 households?\n",
        "# url = http://bit.ly/KeHouseholds1\n",
        "# This dataset shows the distribution of households based on their age group, gender and household head.\n",
        "#\n",
        "df_url = \"http://bit.ly/KeHouseholds1\"\n",
        "#\n",
        "df = pd. read_csv (df_url)\n",
        "df"
      ],
      "execution_count": null,
      "outputs": []
    },
    {
      "cell_type": "code",
      "metadata": {
        "id": "nUd5qnwashOE",
        "colab_type": "code",
        "colab": {}
      },
      "source": [
        "# Challenge 5\n",
        "# Using the following dataset, Which top 3 municipalities have the highest population?\n",
        "# url = http://bit.ly/KePopulationDistribution1\n",
        "# \n"
      ],
      "execution_count": null,
      "outputs": []
    },
    {
      "cell_type": "code",
      "metadata": {
        "id": "d79MaLZ6si_o",
        "colab_type": "code",
        "colab": {}
      },
      "source": [
        "# Challenge 6\n",
        "# Using the dataset given in challenge 5, sort the rows by the total core urban population \n",
        "#\n",
        "OUR CODE GOES HERE"
      ],
      "execution_count": null,
      "outputs": []
    },
    {
      "cell_type": "code",
      "metadata": {
        "id": "5XzRgbIzBJ6d",
        "colab_type": "code",
        "colab": {
          "base_uri": "https://localhost:8080/",
          "height": 536
        },
        "outputId": "1e70acaa-796e-43e9-8c73-25582dbfdf25"
      },
      "source": [
        "# Challenge 7\n",
        "# Using the following dataset, Which quarter experienced the highest no. of visitors after 2007\n",
        "# url = http://bit.ly/VisitorsToKenya\n",
        "# This dataset comprises of visitor arrivals and departures Between 1991 up to 2014 by the purpose of visiting Kenya\n",
        "# \n",
        "import pandas as pd\n",
        "\n",
        "tst  = pd.read_csv(\"http://bit.ly/VisitorsToKenya\")\n",
        "tst.head(5)"
      ],
      "execution_count": null,
      "outputs": [
        {
          "output_type": "error",
          "ename": "ParserError",
          "evalue": "ignored",
          "traceback": [
            "\u001b[0;31m---------------------------------------------------------------------------\u001b[0m",
            "\u001b[0;31mParserError\u001b[0m                               Traceback (most recent call last)",
            "\u001b[0;32m<ipython-input-54-831639a65f6b>\u001b[0m in \u001b[0;36m<module>\u001b[0;34m()\u001b[0m\n\u001b[1;32m      6\u001b[0m \u001b[0;32mimport\u001b[0m \u001b[0mpandas\u001b[0m \u001b[0;32mas\u001b[0m \u001b[0mpd\u001b[0m\u001b[0;34m\u001b[0m\u001b[0;34m\u001b[0m\u001b[0m\n\u001b[1;32m      7\u001b[0m \u001b[0;34m\u001b[0m\u001b[0m\n\u001b[0;32m----> 8\u001b[0;31m \u001b[0mtst\u001b[0m  \u001b[0;34m=\u001b[0m \u001b[0mpd\u001b[0m\u001b[0;34m.\u001b[0m\u001b[0mread_csv\u001b[0m\u001b[0;34m(\u001b[0m\u001b[0;34m\"http://bit.ly/VisitorsToKenya\"\u001b[0m\u001b[0;34m)\u001b[0m\u001b[0;34m\u001b[0m\u001b[0;34m\u001b[0m\u001b[0m\n\u001b[0m\u001b[1;32m      9\u001b[0m \u001b[0mtst\u001b[0m\u001b[0;34m.\u001b[0m\u001b[0mhead\u001b[0m\u001b[0;34m(\u001b[0m\u001b[0;36m5\u001b[0m\u001b[0;34m)\u001b[0m\u001b[0;34m\u001b[0m\u001b[0;34m\u001b[0m\u001b[0m\n",
            "\u001b[0;32m/usr/local/lib/python3.6/dist-packages/pandas/io/parsers.py\u001b[0m in \u001b[0;36mparser_f\u001b[0;34m(filepath_or_buffer, sep, delimiter, header, names, index_col, usecols, squeeze, prefix, mangle_dupe_cols, dtype, engine, converters, true_values, false_values, skipinitialspace, skiprows, skipfooter, nrows, na_values, keep_default_na, na_filter, verbose, skip_blank_lines, parse_dates, infer_datetime_format, keep_date_col, date_parser, dayfirst, cache_dates, iterator, chunksize, compression, thousands, decimal, lineterminator, quotechar, quoting, doublequote, escapechar, comment, encoding, dialect, error_bad_lines, warn_bad_lines, delim_whitespace, low_memory, memory_map, float_precision)\u001b[0m\n\u001b[1;32m    674\u001b[0m         )\n\u001b[1;32m    675\u001b[0m \u001b[0;34m\u001b[0m\u001b[0m\n\u001b[0;32m--> 676\u001b[0;31m         \u001b[0;32mreturn\u001b[0m \u001b[0m_read\u001b[0m\u001b[0;34m(\u001b[0m\u001b[0mfilepath_or_buffer\u001b[0m\u001b[0;34m,\u001b[0m \u001b[0mkwds\u001b[0m\u001b[0;34m)\u001b[0m\u001b[0;34m\u001b[0m\u001b[0;34m\u001b[0m\u001b[0m\n\u001b[0m\u001b[1;32m    677\u001b[0m \u001b[0;34m\u001b[0m\u001b[0m\n\u001b[1;32m    678\u001b[0m     \u001b[0mparser_f\u001b[0m\u001b[0;34m.\u001b[0m\u001b[0m__name__\u001b[0m \u001b[0;34m=\u001b[0m \u001b[0mname\u001b[0m\u001b[0;34m\u001b[0m\u001b[0;34m\u001b[0m\u001b[0m\n",
            "\u001b[0;32m/usr/local/lib/python3.6/dist-packages/pandas/io/parsers.py\u001b[0m in \u001b[0;36m_read\u001b[0;34m(filepath_or_buffer, kwds)\u001b[0m\n\u001b[1;32m    452\u001b[0m \u001b[0;34m\u001b[0m\u001b[0m\n\u001b[1;32m    453\u001b[0m     \u001b[0;32mtry\u001b[0m\u001b[0;34m:\u001b[0m\u001b[0;34m\u001b[0m\u001b[0;34m\u001b[0m\u001b[0m\n\u001b[0;32m--> 454\u001b[0;31m         \u001b[0mdata\u001b[0m \u001b[0;34m=\u001b[0m \u001b[0mparser\u001b[0m\u001b[0;34m.\u001b[0m\u001b[0mread\u001b[0m\u001b[0;34m(\u001b[0m\u001b[0mnrows\u001b[0m\u001b[0;34m)\u001b[0m\u001b[0;34m\u001b[0m\u001b[0;34m\u001b[0m\u001b[0m\n\u001b[0m\u001b[1;32m    455\u001b[0m     \u001b[0;32mfinally\u001b[0m\u001b[0;34m:\u001b[0m\u001b[0;34m\u001b[0m\u001b[0;34m\u001b[0m\u001b[0m\n\u001b[1;32m    456\u001b[0m         \u001b[0mparser\u001b[0m\u001b[0;34m.\u001b[0m\u001b[0mclose\u001b[0m\u001b[0;34m(\u001b[0m\u001b[0;34m)\u001b[0m\u001b[0;34m\u001b[0m\u001b[0;34m\u001b[0m\u001b[0m\n",
            "\u001b[0;32m/usr/local/lib/python3.6/dist-packages/pandas/io/parsers.py\u001b[0m in \u001b[0;36mread\u001b[0;34m(self, nrows)\u001b[0m\n\u001b[1;32m   1131\u001b[0m     \u001b[0;32mdef\u001b[0m \u001b[0mread\u001b[0m\u001b[0;34m(\u001b[0m\u001b[0mself\u001b[0m\u001b[0;34m,\u001b[0m \u001b[0mnrows\u001b[0m\u001b[0;34m=\u001b[0m\u001b[0;32mNone\u001b[0m\u001b[0;34m)\u001b[0m\u001b[0;34m:\u001b[0m\u001b[0;34m\u001b[0m\u001b[0;34m\u001b[0m\u001b[0m\n\u001b[1;32m   1132\u001b[0m         \u001b[0mnrows\u001b[0m \u001b[0;34m=\u001b[0m \u001b[0m_validate_integer\u001b[0m\u001b[0;34m(\u001b[0m\u001b[0;34m\"nrows\"\u001b[0m\u001b[0;34m,\u001b[0m \u001b[0mnrows\u001b[0m\u001b[0;34m)\u001b[0m\u001b[0;34m\u001b[0m\u001b[0;34m\u001b[0m\u001b[0m\n\u001b[0;32m-> 1133\u001b[0;31m         \u001b[0mret\u001b[0m \u001b[0;34m=\u001b[0m \u001b[0mself\u001b[0m\u001b[0;34m.\u001b[0m\u001b[0m_engine\u001b[0m\u001b[0;34m.\u001b[0m\u001b[0mread\u001b[0m\u001b[0;34m(\u001b[0m\u001b[0mnrows\u001b[0m\u001b[0;34m)\u001b[0m\u001b[0;34m\u001b[0m\u001b[0;34m\u001b[0m\u001b[0m\n\u001b[0m\u001b[1;32m   1134\u001b[0m \u001b[0;34m\u001b[0m\u001b[0m\n\u001b[1;32m   1135\u001b[0m         \u001b[0;31m# May alter columns / col_dict\u001b[0m\u001b[0;34m\u001b[0m\u001b[0;34m\u001b[0m\u001b[0;34m\u001b[0m\u001b[0m\n",
            "\u001b[0;32m/usr/local/lib/python3.6/dist-packages/pandas/io/parsers.py\u001b[0m in \u001b[0;36mread\u001b[0;34m(self, nrows)\u001b[0m\n\u001b[1;32m   2035\u001b[0m     \u001b[0;32mdef\u001b[0m \u001b[0mread\u001b[0m\u001b[0;34m(\u001b[0m\u001b[0mself\u001b[0m\u001b[0;34m,\u001b[0m \u001b[0mnrows\u001b[0m\u001b[0;34m=\u001b[0m\u001b[0;32mNone\u001b[0m\u001b[0;34m)\u001b[0m\u001b[0;34m:\u001b[0m\u001b[0;34m\u001b[0m\u001b[0;34m\u001b[0m\u001b[0m\n\u001b[1;32m   2036\u001b[0m         \u001b[0;32mtry\u001b[0m\u001b[0;34m:\u001b[0m\u001b[0;34m\u001b[0m\u001b[0;34m\u001b[0m\u001b[0m\n\u001b[0;32m-> 2037\u001b[0;31m             \u001b[0mdata\u001b[0m \u001b[0;34m=\u001b[0m \u001b[0mself\u001b[0m\u001b[0;34m.\u001b[0m\u001b[0m_reader\u001b[0m\u001b[0;34m.\u001b[0m\u001b[0mread\u001b[0m\u001b[0;34m(\u001b[0m\u001b[0mnrows\u001b[0m\u001b[0;34m)\u001b[0m\u001b[0;34m\u001b[0m\u001b[0;34m\u001b[0m\u001b[0m\n\u001b[0m\u001b[1;32m   2038\u001b[0m         \u001b[0;32mexcept\u001b[0m \u001b[0mStopIteration\u001b[0m\u001b[0;34m:\u001b[0m\u001b[0;34m\u001b[0m\u001b[0;34m\u001b[0m\u001b[0m\n\u001b[1;32m   2039\u001b[0m             \u001b[0;32mif\u001b[0m \u001b[0mself\u001b[0m\u001b[0;34m.\u001b[0m\u001b[0m_first_chunk\u001b[0m\u001b[0;34m:\u001b[0m\u001b[0;34m\u001b[0m\u001b[0;34m\u001b[0m\u001b[0m\n",
            "\u001b[0;32mpandas/_libs/parsers.pyx\u001b[0m in \u001b[0;36mpandas._libs.parsers.TextReader.read\u001b[0;34m()\u001b[0m\n",
            "\u001b[0;32mpandas/_libs/parsers.pyx\u001b[0m in \u001b[0;36mpandas._libs.parsers.TextReader._read_low_memory\u001b[0;34m()\u001b[0m\n",
            "\u001b[0;32mpandas/_libs/parsers.pyx\u001b[0m in \u001b[0;36mpandas._libs.parsers.TextReader._read_rows\u001b[0;34m()\u001b[0m\n",
            "\u001b[0;32mpandas/_libs/parsers.pyx\u001b[0m in \u001b[0;36mpandas._libs.parsers.TextReader._tokenize_rows\u001b[0;34m()\u001b[0m\n",
            "\u001b[0;32mpandas/_libs/parsers.pyx\u001b[0m in \u001b[0;36mpandas._libs.parsers.raise_parser_error\u001b[0;34m()\u001b[0m\n",
            "\u001b[0;31mParserError\u001b[0m: Error tokenizing data. C error: Expected 277 fields in line 132, saw 434\n"
          ]
        }
      ]
    },
    {
      "cell_type": "markdown",
      "metadata": {
        "id": "IwxDABvUp97g",
        "colab_type": "text"
      },
      "source": [
        "## 1.4 Cleaning"
      ]
    },
    {
      "cell_type": "code",
      "metadata": {
        "id": "4yj3yDXQqbR2",
        "colab_type": "code",
        "colab": {
          "base_uri": "https://localhost:8080/",
          "height": 141
        },
        "outputId": "fb30caf6-83fb-44d2-dbf9-cdb3a27cf8f6"
      },
      "source": [
        "# Example 1\n",
        "# Assign a new column to a Pandas DataFrame\n",
        "# \n",
        "\n",
        "# Create empty dataframe\n",
        "df = pd.DataFrame() \n",
        "df['name'] = ['John', 'Steve', 'Sarah'] \n",
        "df\n",
        " \n",
        "# Assign a new column to df called 'age' with a list of ages\n",
        "# Uncomment the line below after running previous lines\n",
        "df.assign(age = [31, 32, 19]) "
      ],
      "execution_count": null,
      "outputs": [
        {
          "output_type": "execute_result",
          "data": {
            "text/html": [
              "<div>\n",
              "<style scoped>\n",
              "    .dataframe tbody tr th:only-of-type {\n",
              "        vertical-align: middle;\n",
              "    }\n",
              "\n",
              "    .dataframe tbody tr th {\n",
              "        vertical-align: top;\n",
              "    }\n",
              "\n",
              "    .dataframe thead th {\n",
              "        text-align: right;\n",
              "    }\n",
              "</style>\n",
              "<table border=\"1\" class=\"dataframe\">\n",
              "  <thead>\n",
              "    <tr style=\"text-align: right;\">\n",
              "      <th></th>\n",
              "      <th>name</th>\n",
              "      <th>age</th>\n",
              "    </tr>\n",
              "  </thead>\n",
              "  <tbody>\n",
              "    <tr>\n",
              "      <th>0</th>\n",
              "      <td>John</td>\n",
              "      <td>31</td>\n",
              "    </tr>\n",
              "    <tr>\n",
              "      <th>1</th>\n",
              "      <td>Steve</td>\n",
              "      <td>32</td>\n",
              "    </tr>\n",
              "    <tr>\n",
              "      <th>2</th>\n",
              "      <td>Sarah</td>\n",
              "      <td>19</td>\n",
              "    </tr>\n",
              "  </tbody>\n",
              "</table>\n",
              "</div>"
            ],
            "text/plain": [
              "    name  age\n",
              "0   John   31\n",
              "1  Steve   32\n",
              "2  Sarah   19"
            ]
          },
          "metadata": {
            "tags": []
          },
          "execution_count": 82
        }
      ]
    },
    {
      "cell_type": "code",
      "metadata": {
        "id": "m05L3x9YqbJa",
        "colab_type": "code",
        "colab": {}
      },
      "source": [
        "# Example 2\n",
        "# Lowercase column names in Pandas Dataframe\n",
        "#\n",
        "\n",
        "# Let's first set ipython's max row display\n",
        "pd.set_option('display.max_row', 1000)\n",
        "\n",
        "# Let's first set iPython's max column width to 50\n",
        "pd.set_option('display.max_columns', 50)\n",
        "\n",
        "# Create an example dataframe\n",
        "data = {'NAME': ['Jason', 'Molly', 'Tina', 'Jake', 'Amy'], \n",
        "        'YEAR': [2012, 2012, 2013, 2014, 2014], \n",
        "        'REPORTS': [4, 24, 31, 2, 3]}\n",
        "df = pd.DataFrame(data, index = ['Cochice', 'Pima', 'Santa Cruz', 'Maricopa', 'Yuma'])\n",
        "df\n",
        " \n",
        "# Map the lowering function to all column names\n",
        "# Uncomment the line below after running previous lines\n",
        "# df.columns = map(str.lower, df.columns)\n",
        "# df"
      ],
      "execution_count": null,
      "outputs": []
    },
    {
      "cell_type": "code",
      "metadata": {
        "id": "qo5k1y_7qBto",
        "colab_type": "code",
        "colab": {}
      },
      "source": [
        "# Example 3\n",
        "# While doing data analysis, finding duplicates in your data is very important. \n",
        "# Delete duplicates in pandas\n",
        "#\n",
        "\n",
        "\n",
        "# Create dataframe with duplicates\n",
        "raw_data = {'first_name': ['Jason', 'Jason', 'Jason','Tina', 'Jake', 'Amy'], \n",
        "        'last_name': ['Miller', 'Miller', 'Miller','Ali', 'Milner', 'Cooze'], \n",
        "        'age': [42, 42, 1111111, 36, 24, 73], \n",
        "        'preTestScore': [4, 4, 4, 31, 2, 3],\n",
        "        'postTestScore': [25, 25, 25, 57, 62, 70]}\n",
        "df = pd.DataFrame(raw_data, columns = ['first_name', 'last_name', 'age', 'preTestScore', 'postTestScore'])\n",
        "df\n",
        "\n",
        "# Identify which observations are duplicates\n",
        "# Uncomment the line below after running previous lines\n",
        "df.duplicated()\n",
        "\n",
        "# Drop duplicates\n",
        "# Uncomment the line below after running previous lines\n",
        "# df.drop_duplicates()\n",
        "\n",
        "# Drop duplicates in a specific column\n",
        "# Uncomment the line below after running previous lines\n",
        "#df.drop_duplicates(['first_name'], keep='last')"
      ],
      "execution_count": null,
      "outputs": []
    },
    {
      "cell_type": "code",
      "metadata": {
        "id": "SuVreA2DqCuS",
        "colab_type": "code",
        "colab": {
          "base_uri": "https://localhost:8080/",
          "height": 172
        },
        "outputId": "69a19e4c-8b61-43c9-a397-c95cb6e6e0f9"
      },
      "source": [
        "# Example 4\n",
        "# Another crucial part of data analysis is finding missing data and deleting them. Let's lookd at how to deal with missing data \n",
        "# Missing data in pandas Dataframes\n",
        "#\n",
        "\n",
        "raw_data = {'first_name': ['Jason', np.nan, 'Tina', 'Jake', 'Amy'], \n",
        "        'last_name': ['Miller', np.nan, 'Ali', 'Milner', 'Cooze'], \n",
        "        'age': [42, np.nan, 36, 24, 73], \n",
        "        'sex': ['m', np.nan, 'f', 'm', 'f'], \n",
        "        'preTestScore': [4, np.nan, np.nan, 2, 3],\n",
        "        'postTestScore': [25, np.nan, np.nan, 62, 70]}\n",
        "df = pd.DataFrame(raw_data, columns = ['first_name', 'last_name', 'age', 'sex', 'preTestScore', 'postTestScore'])\n",
        "df\n",
        "\n",
        "# Checking if there are missing values in your data\n",
        "# Uncomment the line below after running previous lines\n",
        "df.isnull() #returns a boolean value for all the cells that have Nan  value\n",
        "\n",
        "\n",
        "#Drop missing observations\n",
        "# Uncomment the line below after running previous lines\n",
        "df_no_missing = df.dropna()\n",
        "df_no_missing\n",
        "\n",
        "# Drop rows where all cells in that row is NA\n",
        "# Uncomment the line below after running previous lines\n",
        "df_cleaned = df.dropna(how='all')\n",
        "df_cleaned\n",
        "\n",
        "# Drop column if they only contain missing values\n",
        "# Uncomment the line below after running previous lines\n",
        "df.dropna(axis=1, how='all')\n",
        "\n",
        "# Drop rows that contain less than five observations\n",
        "# Uncomment the line below after running previous lines\n",
        "# df.dropna(thresh=5)\n",
        "\n",
        "# Fill in missing data with zeros\n",
        "# Uncomment the line below after running previous lines\n",
        "# df.fillna(0)\n",
        "\n",
        "# Fill in missing in preTestScore with the mean value of preTestScore\n",
        "# Uncomment the line below after running previous lines\n",
        "# df[\"preTestScore\"].fillna(df[\"preTestScore\"].mean(), inplace=True)\n",
        "# df"
      ],
      "execution_count": null,
      "outputs": [
        {
          "output_type": "execute_result",
          "data": {
            "text/html": [
              "<div>\n",
              "<style scoped>\n",
              "    .dataframe tbody tr th:only-of-type {\n",
              "        vertical-align: middle;\n",
              "    }\n",
              "\n",
              "    .dataframe tbody tr th {\n",
              "        vertical-align: top;\n",
              "    }\n",
              "\n",
              "    .dataframe thead th {\n",
              "        text-align: right;\n",
              "    }\n",
              "</style>\n",
              "<table border=\"1\" class=\"dataframe\">\n",
              "  <thead>\n",
              "    <tr style=\"text-align: right;\">\n",
              "      <th></th>\n",
              "      <th>first_name</th>\n",
              "      <th>last_name</th>\n",
              "      <th>age</th>\n",
              "      <th>sex</th>\n",
              "      <th>preTestScore</th>\n",
              "      <th>postTestScore</th>\n",
              "    </tr>\n",
              "  </thead>\n",
              "  <tbody>\n",
              "    <tr>\n",
              "      <th>0</th>\n",
              "      <td>Jason</td>\n",
              "      <td>Miller</td>\n",
              "      <td>42.0</td>\n",
              "      <td>m</td>\n",
              "      <td>4.0</td>\n",
              "      <td>25.0</td>\n",
              "    </tr>\n",
              "    <tr>\n",
              "      <th>2</th>\n",
              "      <td>Tina</td>\n",
              "      <td>Ali</td>\n",
              "      <td>36.0</td>\n",
              "      <td>f</td>\n",
              "      <td>NaN</td>\n",
              "      <td>NaN</td>\n",
              "    </tr>\n",
              "    <tr>\n",
              "      <th>3</th>\n",
              "      <td>Jake</td>\n",
              "      <td>Milner</td>\n",
              "      <td>24.0</td>\n",
              "      <td>m</td>\n",
              "      <td>2.0</td>\n",
              "      <td>62.0</td>\n",
              "    </tr>\n",
              "    <tr>\n",
              "      <th>4</th>\n",
              "      <td>Amy</td>\n",
              "      <td>Cooze</td>\n",
              "      <td>73.0</td>\n",
              "      <td>f</td>\n",
              "      <td>3.0</td>\n",
              "      <td>70.0</td>\n",
              "    </tr>\n",
              "  </tbody>\n",
              "</table>\n",
              "</div>"
            ],
            "text/plain": [
              "  first_name last_name   age sex  preTestScore  postTestScore\n",
              "0      Jason    Miller  42.0   m           4.0           25.0\n",
              "2       Tina       Ali  36.0   f           NaN            NaN\n",
              "3       Jake    Milner  24.0   m           2.0           62.0\n",
              "4        Amy     Cooze  73.0   f           3.0           70.0"
            ]
          },
          "metadata": {
            "tags": []
          },
          "execution_count": 93
        }
      ]
    },
    {
      "cell_type": "code",
      "metadata": {
        "id": "U_7vT83gq0TP",
        "colab_type": "code",
        "colab": {}
      },
      "source": [
        "# Example 5\n",
        "# Dropping rows and columns in pandas Dataframe\n",
        "#\n",
        "\n",
        "# Create a dataframe\n",
        "data = {'name': ['Jason', 'Molly', 'Tina', 'Jake', 'Amy'], \n",
        "        'year': [2012, 2012, 2013, 2014, 2014], \n",
        "        'reports': [4, 24, 31, 2, 3]}\n",
        "df = pd.DataFrame(data, index = ['Cochice', 'Pima', 'Santa Cruz', 'Maricopa', 'Yuma'])\n",
        "df\n",
        "\n",
        "# Drop an observation (row)\n",
        "# Uncomment the line below after running previous lines\n",
        "# df.drop(['Cochice', 'Pima'])\n",
        "\n",
        "# Drop a variable (column). \n",
        "# NB: axis=1 denotes that we are referring to a column, not a row\n",
        "# Uncomment the line below after running previous lines\n",
        "# df.drop('reports', axis=1)\n",
        "\n",
        "# Drop a row if it contains a certain value (in this case, “Tina”)\n",
        "# Create a new dataframe called df that includes all rows where \n",
        "# the value of a cell in the name column does not equal “Tina”\n",
        "# Uncomment the line below after running previous lines\n",
        "# df[df.name != 'Tina']\n"
      ],
      "execution_count": null,
      "outputs": []
    },
    {
      "cell_type": "markdown",
      "metadata": {
        "id": "66Fjm3xmslG7",
        "colab_type": "text"
      },
      "source": [
        "### <font color=\"green\">1.4 Challenges</font>"
      ]
    },
    {
      "cell_type": "code",
      "metadata": {
        "id": "RH_6cmIostHA",
        "colab_type": "code",
        "colab": {
          "base_uri": "https://localhost:8080/",
          "height": 172
        },
        "outputId": "3511eeb7-667f-4e0e-bc9f-af99ec509ef9"
      },
      "source": [
        "# Challenge 1\n",
        "# Let's assign the new column address to the created dataframe frow the dictionary below\n",
        "#\n",
        "\n",
        "# Define a dictionary containing Students data \n",
        "finals = {'Name': ['Robert', 'Thomas', 'Susan', 'Irene'], \n",
        "        'Height': [5.1, 6.2, 5.1, 5.2], \n",
        "        'Qualification': ['Msc', 'MA', 'Msc', 'Msc']} \n",
        "address = ['UoN', 'Strathmore', 'JKUAT', 'JKUAT'] \n",
        "\n",
        "df = pd.DataFrame(finals, columns=[\"Name\", \"Height\", \"Qualificatio\"])\n",
        "df\n",
        "df.assign(address=[\"UoN\",\"Stratnmore\", \"JKUAT\", \"JKUAT\"])"
      ],
      "execution_count": null,
      "outputs": [
        {
          "output_type": "execute_result",
          "data": {
            "text/html": [
              "<div>\n",
              "<style scoped>\n",
              "    .dataframe tbody tr th:only-of-type {\n",
              "        vertical-align: middle;\n",
              "    }\n",
              "\n",
              "    .dataframe tbody tr th {\n",
              "        vertical-align: top;\n",
              "    }\n",
              "\n",
              "    .dataframe thead th {\n",
              "        text-align: right;\n",
              "    }\n",
              "</style>\n",
              "<table border=\"1\" class=\"dataframe\">\n",
              "  <thead>\n",
              "    <tr style=\"text-align: right;\">\n",
              "      <th></th>\n",
              "      <th>Name</th>\n",
              "      <th>Height</th>\n",
              "      <th>Qualificatio</th>\n",
              "      <th>address</th>\n",
              "    </tr>\n",
              "  </thead>\n",
              "  <tbody>\n",
              "    <tr>\n",
              "      <th>0</th>\n",
              "      <td>Robert</td>\n",
              "      <td>5.1</td>\n",
              "      <td>NaN</td>\n",
              "      <td>UoN</td>\n",
              "    </tr>\n",
              "    <tr>\n",
              "      <th>1</th>\n",
              "      <td>Thomas</td>\n",
              "      <td>6.2</td>\n",
              "      <td>NaN</td>\n",
              "      <td>Stratnmore</td>\n",
              "    </tr>\n",
              "    <tr>\n",
              "      <th>2</th>\n",
              "      <td>Susan</td>\n",
              "      <td>5.1</td>\n",
              "      <td>NaN</td>\n",
              "      <td>JKUAT</td>\n",
              "    </tr>\n",
              "    <tr>\n",
              "      <th>3</th>\n",
              "      <td>Irene</td>\n",
              "      <td>5.2</td>\n",
              "      <td>NaN</td>\n",
              "      <td>JKUAT</td>\n",
              "    </tr>\n",
              "  </tbody>\n",
              "</table>\n",
              "</div>"
            ],
            "text/plain": [
              "     Name  Height Qualificatio     address\n",
              "0  Robert     5.1          NaN         UoN\n",
              "1  Thomas     6.2          NaN  Stratnmore\n",
              "2   Susan     5.1          NaN       JKUAT\n",
              "3   Irene     5.2          NaN       JKUAT"
            ]
          },
          "metadata": {
            "tags": []
          },
          "execution_count": 96
        }
      ]
    },
    {
      "cell_type": "code",
      "metadata": {
        "id": "73tUDU64stqu",
        "colab_type": "code",
        "colab": {}
      },
      "source": [
        "# Challenge 2\n",
        "# Let us lowercase the column names in the following dataset\n",
        "# url = http://bit.ly/KePopulationDistribution1\n",
        "#\n",
        "df_url = \"http://bit.ly/KePopulationDistribution1\"\n",
        "df1 = pd.read_csv(df_url)"
      ],
      "execution_count": null,
      "outputs": []
    },
    {
      "cell_type": "code",
      "metadata": {
        "id": "1Q0-ybtZstks",
        "colab_type": "code",
        "colab": {
          "base_uri": "https://localhost:8080/",
          "height": 202
        },
        "outputId": "a56f97a3-5002-4234-a3c1-af9358f91742"
      },
      "source": [
        "# Challenge 3\n",
        "# Delete duplicate values from the dictionary below\n",
        "# \n",
        "\n",
        "# First creating the following DataFrame\n",
        "d = {\n",
        "    'Name':['Alice','Brian','Rhoda','Pauline','Julius','Catherine',\n",
        "            'Alice','Brian','Kellen','Alice','Alex','Yvonne'],\n",
        "    'Age':[26,24,23,22,23,24,26,24,22,23,24,24],\n",
        "    'Score':[85,63,55,74,31,77,85,63,42,62,89,77]}\n",
        "\n",
        "df = pd.DataFrame(d, columns=[\"Name\", \"Age\", \"Score\"])\n",
        "df\n",
        "#identifing the deplicae values\n",
        "df.duplicated()\n",
        "#\n",
        "#deleting duplicates\n",
        "df.drop_duplicates()\n",
        "df.head(5)"
      ],
      "execution_count": null,
      "outputs": [
        {
          "output_type": "execute_result",
          "data": {
            "text/html": [
              "<div>\n",
              "<style scoped>\n",
              "    .dataframe tbody tr th:only-of-type {\n",
              "        vertical-align: middle;\n",
              "    }\n",
              "\n",
              "    .dataframe tbody tr th {\n",
              "        vertical-align: top;\n",
              "    }\n",
              "\n",
              "    .dataframe thead th {\n",
              "        text-align: right;\n",
              "    }\n",
              "</style>\n",
              "<table border=\"1\" class=\"dataframe\">\n",
              "  <thead>\n",
              "    <tr style=\"text-align: right;\">\n",
              "      <th></th>\n",
              "      <th>Name</th>\n",
              "      <th>Age</th>\n",
              "      <th>Score</th>\n",
              "    </tr>\n",
              "  </thead>\n",
              "  <tbody>\n",
              "    <tr>\n",
              "      <th>0</th>\n",
              "      <td>Alice</td>\n",
              "      <td>26</td>\n",
              "      <td>85</td>\n",
              "    </tr>\n",
              "    <tr>\n",
              "      <th>1</th>\n",
              "      <td>Brian</td>\n",
              "      <td>24</td>\n",
              "      <td>63</td>\n",
              "    </tr>\n",
              "    <tr>\n",
              "      <th>2</th>\n",
              "      <td>Rhoda</td>\n",
              "      <td>23</td>\n",
              "      <td>55</td>\n",
              "    </tr>\n",
              "    <tr>\n",
              "      <th>3</th>\n",
              "      <td>Pauline</td>\n",
              "      <td>22</td>\n",
              "      <td>74</td>\n",
              "    </tr>\n",
              "    <tr>\n",
              "      <th>4</th>\n",
              "      <td>Julius</td>\n",
              "      <td>23</td>\n",
              "      <td>31</td>\n",
              "    </tr>\n",
              "  </tbody>\n",
              "</table>\n",
              "</div>"
            ],
            "text/plain": [
              "      Name  Age  Score\n",
              "0    Alice   26     85\n",
              "1    Brian   24     63\n",
              "2    Rhoda   23     55\n",
              "3  Pauline   22     74\n",
              "4   Julius   23     31"
            ]
          },
          "metadata": {
            "tags": []
          },
          "execution_count": 110
        }
      ]
    },
    {
      "cell_type": "code",
      "metadata": {
        "id": "54xutk3fstfP",
        "colab_type": "code",
        "colab": {
          "base_uri": "https://localhost:8080/",
          "height": 233
        },
        "outputId": "e41c77d0-855a-4e88-d4ad-941b0a6bf924"
      },
      "source": [
        "# Challenge 4\n",
        "# Drop the missing columns \n",
        "#\n",
        "\n",
        "# Creating our DataFrame\n",
        "df = {'Name':['George','Andrea','micheal','maggie','Ravi','Xien','Jalpa',np.nan],\n",
        "    'State':['Arizona','Georgia','Newyork','Indiana','Florida','California',np.nan,np.nan],\n",
        "    'Gender':[\"M\",\"F\",\"M\",\"F\",\"M\",\"M\",np.nan,np.nan],      \n",
        "    'Score':[63,48,56,75,np.nan,77,np.nan,np.nan]}\n",
        "#\n",
        "df1 = pd.DataFrame(df, columns=[\"Name\", \"State\", \"Gender\", \"Score\"])\n",
        "df1\n",
        "# Drop all rows that have any NaN (missing) values\n",
        "df1_cleaned = df1.dropna(how='all')\n",
        "df1_cleaned\n",
        "\n",
        "# Drop records which have more than 2 missing values\n",
        "\n",
        "df1.dropna(thresh=2)\n"
      ],
      "execution_count": null,
      "outputs": [
        {
          "output_type": "execute_result",
          "data": {
            "text/html": [
              "<div>\n",
              "<style scoped>\n",
              "    .dataframe tbody tr th:only-of-type {\n",
              "        vertical-align: middle;\n",
              "    }\n",
              "\n",
              "    .dataframe tbody tr th {\n",
              "        vertical-align: top;\n",
              "    }\n",
              "\n",
              "    .dataframe thead th {\n",
              "        text-align: right;\n",
              "    }\n",
              "</style>\n",
              "<table border=\"1\" class=\"dataframe\">\n",
              "  <thead>\n",
              "    <tr style=\"text-align: right;\">\n",
              "      <th></th>\n",
              "      <th>Name</th>\n",
              "      <th>State</th>\n",
              "      <th>Gender</th>\n",
              "      <th>Score</th>\n",
              "    </tr>\n",
              "  </thead>\n",
              "  <tbody>\n",
              "    <tr>\n",
              "      <th>0</th>\n",
              "      <td>George</td>\n",
              "      <td>Arizona</td>\n",
              "      <td>M</td>\n",
              "      <td>63.0</td>\n",
              "    </tr>\n",
              "    <tr>\n",
              "      <th>1</th>\n",
              "      <td>Andrea</td>\n",
              "      <td>Georgia</td>\n",
              "      <td>F</td>\n",
              "      <td>48.0</td>\n",
              "    </tr>\n",
              "    <tr>\n",
              "      <th>2</th>\n",
              "      <td>micheal</td>\n",
              "      <td>Newyork</td>\n",
              "      <td>M</td>\n",
              "      <td>56.0</td>\n",
              "    </tr>\n",
              "    <tr>\n",
              "      <th>3</th>\n",
              "      <td>maggie</td>\n",
              "      <td>Indiana</td>\n",
              "      <td>F</td>\n",
              "      <td>75.0</td>\n",
              "    </tr>\n",
              "    <tr>\n",
              "      <th>4</th>\n",
              "      <td>Ravi</td>\n",
              "      <td>Florida</td>\n",
              "      <td>M</td>\n",
              "      <td>NaN</td>\n",
              "    </tr>\n",
              "    <tr>\n",
              "      <th>5</th>\n",
              "      <td>Xien</td>\n",
              "      <td>California</td>\n",
              "      <td>M</td>\n",
              "      <td>77.0</td>\n",
              "    </tr>\n",
              "  </tbody>\n",
              "</table>\n",
              "</div>"
            ],
            "text/plain": [
              "      Name       State Gender  Score\n",
              "0   George     Arizona      M   63.0\n",
              "1   Andrea     Georgia      F   48.0\n",
              "2  micheal     Newyork      M   56.0\n",
              "3   maggie     Indiana      F   75.0\n",
              "4     Ravi     Florida      M    NaN\n",
              "5     Xien  California      M   77.0"
            ]
          },
          "metadata": {
            "tags": []
          },
          "execution_count": 121
        }
      ]
    },
    {
      "cell_type": "code",
      "metadata": {
        "id": "J-4ZiKtrsySp",
        "colab_type": "code",
        "colab": {}
      },
      "source": [
        "# Challenge 5\n",
        "# Using the following dataset given, get the records which contain missing observations,\n",
        "# then make a decision which records to delete based on the context.\n",
        "# Act on the decision taken (i.e. Drop/Not dropping) and state your decision below\n",
        "# url = http://bit.ly/KePopulationDistribution1\n",
        "# \n",
        "\n",
        "\n",
        "\n",
        "# Decision Taken:\n",
        "# YOUR DECISION GOES HERE\n",
        "#"
      ],
      "execution_count": null,
      "outputs": []
    },
    {
      "cell_type": "markdown",
      "metadata": {
        "id": "7jHC3c0jqFHy",
        "colab_type": "text"
      },
      "source": [
        "## 1.5 Analysis"
      ]
    },
    {
      "cell_type": "code",
      "metadata": {
        "id": "avpOVTs-qIPl",
        "colab_type": "code",
        "colab": {
          "base_uri": "https://localhost:8080/",
          "height": 141
        },
        "outputId": "9af74484-8f0f-4ca8-ee25-76b45888a8a3"
      },
      "source": [
        "# Example 1\n",
        "# Descriptive Statistics For pandas Dataframe\n",
        "#\n",
        "\n",
        "data = {'name': ['Jason', 'Molly', 'Tina', 'Jake', 'Amy'], \n",
        "        'age': [42, 52, 36, 24, 73], \n",
        "        'preTestScore': [4, 24, 31, 2, 3],\n",
        "        'postTestScore': [25, 94, 57, 62, 70]}\n",
        "df = pd.DataFrame(data, columns = ['name', 'age', 'preTestScore', 'postTestScore'])\n",
        "df\n",
        "\n",
        "\n",
        "# The sum of all the ages\n",
        "# Uncomment the line below after running previous lines\n",
        "df['age'].sum()\n",
        "\n",
        "# Mean preTestScore\n",
        "# Uncomment the line below after running previous lines\n",
        "# df['preTestScore'].mean()\n",
        "\n",
        "# Cumulative sum of preTestScores, moving from the rows from the top\n",
        "# Uncomment the line below after running previous lines\n",
        "df['preTestScore'].cumsum()\n",
        "\n",
        "# Summary statistics on preTestScore\n",
        "# Uncomment the line below after running previous lines.\n",
        "# The output for this summary will be; the total number of rows there is in the column, the mean value for the data in the column, \n",
        "# the standard deviation of the data , min and max values of the data, the 25th 50th 75th percentile of the data.\n",
        "df['preTestScore'].describe()\n",
        "\n",
        "# Count the number of non-NA values\n",
        "# Uncomment the line below after running previous lines\n",
        "df['preTestScore'].count()\n",
        "\n",
        "# Minimum value of preTestScore\n",
        "# Uncomment the line below after running previous lines\n",
        "df['preTestScore'].min()\n",
        "\n",
        "# Maximum value of preTestScore\n",
        "# Uncomment the line below after running previous lines\n",
        "df['preTestScore'].max()\n",
        "\n",
        "# Median value of preTestScore\n",
        "# Uncomment the line below after running previous lines\n",
        "# df['preTestScore'].median()\n",
        "\n",
        "# Sample variance of preTestScore values\n",
        "# Uncomment the line below after running previous lines\n",
        "# df['preTestScore'].var()\n",
        "\n",
        "# Sample standard deviation of preTestScore values\n",
        "# Uncomment the line below after running previous lines\n",
        "df['preTestScore'].std()\n",
        "\n",
        "# Skewness of preTestScore values\n",
        "# Uncomment the line below after running previous lines\n",
        "df['preTestScore'].skew()\n",
        "\n",
        "# Kurtosis of preTestScore values\n",
        "# Uncomment the line below after running previous lines\n",
        "# df['preTestScore'].kurt()\n",
        "\n",
        "# Correlation Matrix Of Values\n",
        "# A correlation matrix is a table showing correlation coefficents of different variables. In other words, it shows how different columns corelate to each other. The coefficients range between -1 and 1.\n",
        "# The closer the values are to -1 indicates that the variables do not correlate while the closer the values are to 1 indicates that the values have a high correlation.\n",
        "# A correlation matrix is very important when we are trying to understand our data as it serves as input for advanced analysis.\n",
        "# Uncomment the line below after running previous lines\n",
        "df.corr()"
      ],
      "execution_count": null,
      "outputs": [
        {
          "output_type": "execute_result",
          "data": {
            "text/html": [
              "<div>\n",
              "<style scoped>\n",
              "    .dataframe tbody tr th:only-of-type {\n",
              "        vertical-align: middle;\n",
              "    }\n",
              "\n",
              "    .dataframe tbody tr th {\n",
              "        vertical-align: top;\n",
              "    }\n",
              "\n",
              "    .dataframe thead th {\n",
              "        text-align: right;\n",
              "    }\n",
              "</style>\n",
              "<table border=\"1\" class=\"dataframe\">\n",
              "  <thead>\n",
              "    <tr style=\"text-align: right;\">\n",
              "      <th></th>\n",
              "      <th>age</th>\n",
              "      <th>preTestScore</th>\n",
              "      <th>postTestScore</th>\n",
              "    </tr>\n",
              "  </thead>\n",
              "  <tbody>\n",
              "    <tr>\n",
              "      <th>age</th>\n",
              "      <td>1.000000</td>\n",
              "      <td>-0.105651</td>\n",
              "      <td>0.328852</td>\n",
              "    </tr>\n",
              "    <tr>\n",
              "      <th>preTestScore</th>\n",
              "      <td>-0.105651</td>\n",
              "      <td>1.000000</td>\n",
              "      <td>0.378039</td>\n",
              "    </tr>\n",
              "    <tr>\n",
              "      <th>postTestScore</th>\n",
              "      <td>0.328852</td>\n",
              "      <td>0.378039</td>\n",
              "      <td>1.000000</td>\n",
              "    </tr>\n",
              "  </tbody>\n",
              "</table>\n",
              "</div>"
            ],
            "text/plain": [
              "                    age  preTestScore  postTestScore\n",
              "age            1.000000     -0.105651       0.328852\n",
              "preTestScore  -0.105651      1.000000       0.378039\n",
              "postTestScore  0.328852      0.378039       1.000000"
            ]
          },
          "metadata": {
            "tags": []
          },
          "execution_count": 10
        }
      ]
    },
    {
      "cell_type": "code",
      "metadata": {
        "id": "p7rE9W05qIGH",
        "colab_type": "code",
        "colab": {
          "base_uri": "https://localhost:8080/",
          "height": 156
        },
        "outputId": "25db55a1-b349-4617-a828-4789f3061ab8"
      },
      "source": [
        "# Example 2\n",
        "# Apply Operations To Groups In Pandas\n",
        "#\n",
        "\n",
        "# Create dataframe\n",
        "raw_data = {'regiment': ['Nighthawks', 'Nighthawks', 'Nighthawks', 'Nighthawks', 'Dragoons', 'Dragoons', 'Dragoons', 'Dragoons', 'Scouts', 'Scouts', 'Scouts', 'Scouts'], \n",
        "        'company': ['1st', '1st', '2nd', '2nd', '1st', '1st', '2nd', '2nd','1st', '1st', '2nd', '2nd'], \n",
        "        'name': ['Miller', 'Jacobson', 'Ali', 'Milner', 'Cooze', 'Jacon', 'Ryaner', 'Sone', 'Sloan', 'Piger', 'Riani', 'Ali'], \n",
        "        'preTestScore': [4, 24, 31, 2, 3, 4, 24, 31, 2, 3, 2, 3],\n",
        "        'postTestScore': [25, 94, 57, 62, 70, 25, 94, 57, 62, 70, 62, 70]}\n",
        "df = pd.DataFrame(raw_data, columns = ['regiment', 'company', 'name', 'preTestScore', 'postTestScore'])\n",
        "df\n",
        "\n",
        "# Create a groupby variable that groups preTestScores by regiment\n",
        "# Uncomment the line below after running previous lines\n",
        "groupby_regiment = df['preTestScore'].groupby(df['regiment'])\n",
        "groupby_regiment\n",
        "\n",
        "# Descriptive statistics by group\n",
        "# Uncomment the line below after running previous lines\n",
        "df['preTestScore'].groupby(df['regiment']).describe()\n",
        "\n",
        "# Mean of each regiment’s preTestScore\n",
        "# Uncomment the line below after running previous lines\n",
        "groupby_regiment.mean()\n",
        "\n",
        "# Mean preTestScores grouped by regiment and company\n",
        "# Uncomment the line below after running previous lines\n",
        "df['preTestScore'].groupby([df['regiment'], df['company']]).mean()\n",
        "\n",
        "# Number of observations in each regiment and company\n",
        "# Uncomment the line below after running previous lines\n",
        "df.groupby(['regiment', 'company']).size()\n"
      ],
      "execution_count": null,
      "outputs": [
        {
          "output_type": "execute_result",
          "data": {
            "text/plain": [
              "regiment    company\n",
              "Dragoons    1st        2\n",
              "            2nd        2\n",
              "Nighthawks  1st        2\n",
              "            2nd        2\n",
              "Scouts      1st        2\n",
              "            2nd        2\n",
              "dtype: int64"
            ]
          },
          "metadata": {
            "tags": []
          },
          "execution_count": 14
        }
      ]
    },
    {
      "cell_type": "code",
      "metadata": {
        "id": "LmExhKs_qjNX",
        "colab_type": "code",
        "colab": {
          "base_uri": "https://localhost:8080/",
          "height": 202
        },
        "outputId": "699a7673-d0b6-46cb-86b4-53932bab3a12"
      },
      "source": [
        "# Example 3\n",
        "# Random Sampling Dataframe\n",
        "# \n",
        "\n",
        "raw_data = {'first_name': ['Jason', 'Molly', 'Tina', 'Jake', 'Amy'], \n",
        "        'last_name': ['Miller', 'Jacobson', 'Ali', 'Milner', 'Cooze'], \n",
        "        'age': [42, 52, 36, 24, 73], \n",
        "        'preTestScore': [4, 24, 31, 2, 3],\n",
        "        'postTestScore': [25, 94, 57, 62, 70]}\n",
        "df = pd.DataFrame(raw_data, columns = ['first_name', 'last_name', 'age', 'preTestScore', 'postTestScore'])\n",
        "df\n",
        "\n",
        "# Select a random subset of 2 without replacement\n",
        "# Uncomment the line below after running previous lines\n",
        "# df.take(np.random.permutation(len(df))[:2])"
      ],
      "execution_count": null,
      "outputs": [
        {
          "output_type": "execute_result",
          "data": {
            "text/html": [
              "<div>\n",
              "<style scoped>\n",
              "    .dataframe tbody tr th:only-of-type {\n",
              "        vertical-align: middle;\n",
              "    }\n",
              "\n",
              "    .dataframe tbody tr th {\n",
              "        vertical-align: top;\n",
              "    }\n",
              "\n",
              "    .dataframe thead th {\n",
              "        text-align: right;\n",
              "    }\n",
              "</style>\n",
              "<table border=\"1\" class=\"dataframe\">\n",
              "  <thead>\n",
              "    <tr style=\"text-align: right;\">\n",
              "      <th></th>\n",
              "      <th>first_name</th>\n",
              "      <th>last_name</th>\n",
              "      <th>age</th>\n",
              "      <th>preTestScore</th>\n",
              "      <th>postTestScore</th>\n",
              "    </tr>\n",
              "  </thead>\n",
              "  <tbody>\n",
              "    <tr>\n",
              "      <th>0</th>\n",
              "      <td>Jason</td>\n",
              "      <td>Miller</td>\n",
              "      <td>42</td>\n",
              "      <td>4</td>\n",
              "      <td>25</td>\n",
              "    </tr>\n",
              "    <tr>\n",
              "      <th>1</th>\n",
              "      <td>Molly</td>\n",
              "      <td>Jacobson</td>\n",
              "      <td>52</td>\n",
              "      <td>24</td>\n",
              "      <td>94</td>\n",
              "    </tr>\n",
              "    <tr>\n",
              "      <th>2</th>\n",
              "      <td>Tina</td>\n",
              "      <td>Ali</td>\n",
              "      <td>36</td>\n",
              "      <td>31</td>\n",
              "      <td>57</td>\n",
              "    </tr>\n",
              "    <tr>\n",
              "      <th>3</th>\n",
              "      <td>Jake</td>\n",
              "      <td>Milner</td>\n",
              "      <td>24</td>\n",
              "      <td>2</td>\n",
              "      <td>62</td>\n",
              "    </tr>\n",
              "    <tr>\n",
              "      <th>4</th>\n",
              "      <td>Amy</td>\n",
              "      <td>Cooze</td>\n",
              "      <td>73</td>\n",
              "      <td>3</td>\n",
              "      <td>70</td>\n",
              "    </tr>\n",
              "  </tbody>\n",
              "</table>\n",
              "</div>"
            ],
            "text/plain": [
              "  first_name last_name  age  preTestScore  postTestScore\n",
              "0      Jason    Miller   42             4             25\n",
              "1      Molly  Jacobson   52            24             94\n",
              "2       Tina       Ali   36            31             57\n",
              "3       Jake    Milner   24             2             62\n",
              "4        Amy     Cooze   73             3             70"
            ]
          },
          "metadata": {
            "tags": []
          },
          "execution_count": 124
        }
      ]
    },
    {
      "cell_type": "code",
      "metadata": {
        "id": "iHg3qJbYq4iY",
        "colab_type": "code",
        "colab": {
          "base_uri": "https://localhost:8080/",
          "height": 264
        },
        "outputId": "d558b50d-8cce-49b0-9910-f9f25c23baa3"
      },
      "source": [
        "# Example 4\n",
        "# Pivot Tables In pandas\n",
        "#\n",
        "\n",
        "# Create dataframe\n",
        "raw_data = {'regiment': ['Nighthawks', 'Nighthawks', 'Nighthawks', 'Nighthawks', 'Dragoons', 'Dragoons', 'Dragoons', 'Dragoons', 'Scouts', 'Scouts', 'Scouts', 'Scouts'], \n",
        "        'company': ['1st', '1st', '2nd', '2nd', '1st', '1st', '2nd', '2nd','1st', '1st', '2nd', '2nd'], \n",
        "        'TestScore': [4, 24, 31, 2, 3, 4, 24, 31, 2, 3, 2, 3]}\n",
        "df = pd.DataFrame(raw_data, columns = ['regiment', 'company', 'TestScore'])\n",
        "df\n",
        "\n",
        "# Create a pivot table of group means, by company and regiment\n",
        "# Uncomment the line below after running previous lines\n",
        "#pd.pivot_table(df, index=['regiment','company'], aggfunc='mean')\n",
        "\n",
        "# Create a pivot table of group score counts, by company and regiments\n",
        "# Uncomment the line below after running previous lines\n",
        "df.pivot_table(index=['regiment','company'], aggfunc='count')"
      ],
      "execution_count": null,
      "outputs": [
        {
          "output_type": "execute_result",
          "data": {
            "text/html": [
              "<div>\n",
              "<style scoped>\n",
              "    .dataframe tbody tr th:only-of-type {\n",
              "        vertical-align: middle;\n",
              "    }\n",
              "\n",
              "    .dataframe tbody tr th {\n",
              "        vertical-align: top;\n",
              "    }\n",
              "\n",
              "    .dataframe thead th {\n",
              "        text-align: right;\n",
              "    }\n",
              "</style>\n",
              "<table border=\"1\" class=\"dataframe\">\n",
              "  <thead>\n",
              "    <tr style=\"text-align: right;\">\n",
              "      <th></th>\n",
              "      <th></th>\n",
              "      <th>TestScore</th>\n",
              "    </tr>\n",
              "    <tr>\n",
              "      <th>regiment</th>\n",
              "      <th>company</th>\n",
              "      <th></th>\n",
              "    </tr>\n",
              "  </thead>\n",
              "  <tbody>\n",
              "    <tr>\n",
              "      <th rowspan=\"2\" valign=\"top\">Dragoons</th>\n",
              "      <th>1st</th>\n",
              "      <td>2</td>\n",
              "    </tr>\n",
              "    <tr>\n",
              "      <th>2nd</th>\n",
              "      <td>2</td>\n",
              "    </tr>\n",
              "    <tr>\n",
              "      <th rowspan=\"2\" valign=\"top\">Nighthawks</th>\n",
              "      <th>1st</th>\n",
              "      <td>2</td>\n",
              "    </tr>\n",
              "    <tr>\n",
              "      <th>2nd</th>\n",
              "      <td>2</td>\n",
              "    </tr>\n",
              "    <tr>\n",
              "      <th rowspan=\"2\" valign=\"top\">Scouts</th>\n",
              "      <th>1st</th>\n",
              "      <td>2</td>\n",
              "    </tr>\n",
              "    <tr>\n",
              "      <th>2nd</th>\n",
              "      <td>2</td>\n",
              "    </tr>\n",
              "  </tbody>\n",
              "</table>\n",
              "</div>"
            ],
            "text/plain": [
              "                    TestScore\n",
              "regiment   company           \n",
              "Dragoons   1st              2\n",
              "           2nd              2\n",
              "Nighthawks 1st              2\n",
              "           2nd              2\n",
              "Scouts     1st              2\n",
              "           2nd              2"
            ]
          },
          "metadata": {
            "tags": []
          },
          "execution_count": 19
        }
      ]
    },
    {
      "cell_type": "markdown",
      "metadata": {
        "id": "yOI_UEXDs0XI",
        "colab_type": "text"
      },
      "source": [
        "### <font color=\"green\">1.5 Challenges</font>"
      ]
    },
    {
      "cell_type": "code",
      "metadata": {
        "id": "lK1ar12Ks7xI",
        "colab_type": "code",
        "colab": {
          "base_uri": "https://localhost:8080/",
          "height": 553
        },
        "outputId": "6f9a772c-919f-4c9d-ffbf-067b2133f908"
      },
      "source": [
        "# Challenge 1\n",
        "# Using the given dataset, calculate the descriptive statistics of the total population\n",
        "# url = http://bit.ly/KePopulationDistribution1\n",
        "#\n",
        "df_url  = \"http://bit.ly/KePopulationDistribution1\"\n",
        "\n",
        "df = pd.read_csv(df_url)\n",
        "\n",
        "# The total population in Kenya\n",
        "\n",
        "\n",
        "# The average population per urban center \n",
        " \n",
        "\n",
        "# The total urban population fo the cities \n",
        " \n",
        "\n",
        "# Summary statistics on total population\n",
        " \n",
        "\n",
        "# Count the number municipalities in the country\n",
        "\n",
        "\n",
        "# Which municipality/city/other/town is the most sparcely populated \n",
        "\n",
        "\n",
        "# Which municipality/city/other/town is the most densely populated \n",
        "\n",
        "# Median value of the total population \n",
        "\n",
        "\n",
        "# Sample variance of the total population\n",
        "\n",
        "\n",
        "# Sample standard deviation of the total population\n",
        "\n",
        "\n",
        "# Correlation of the variables in the given dataset\n"
      ],
      "execution_count": null,
      "outputs": [
        {
          "output_type": "error",
          "ename": "ParserError",
          "evalue": "ignored",
          "traceback": [
            "\u001b[0;31m---------------------------------------------------------------------------\u001b[0m",
            "\u001b[0;31mParserError\u001b[0m                               Traceback (most recent call last)",
            "\u001b[0;32m<ipython-input-49-bb3e9bfd41e9>\u001b[0m in \u001b[0;36m<module>\u001b[0;34m()\u001b[0m\n\u001b[1;32m      5\u001b[0m \u001b[0mdf_url\u001b[0m  \u001b[0;34m=\u001b[0m \u001b[0;34m\"http://bit.ly/KePopulationDistribution1\"\u001b[0m\u001b[0;34m\u001b[0m\u001b[0;34m\u001b[0m\u001b[0m\n\u001b[1;32m      6\u001b[0m \u001b[0;34m\u001b[0m\u001b[0m\n\u001b[0;32m----> 7\u001b[0;31m \u001b[0mdf\u001b[0m \u001b[0;34m=\u001b[0m \u001b[0mpd\u001b[0m\u001b[0;34m.\u001b[0m\u001b[0mread_csv\u001b[0m\u001b[0;34m(\u001b[0m\u001b[0mdf_url\u001b[0m\u001b[0;34m)\u001b[0m\u001b[0;34m\u001b[0m\u001b[0;34m\u001b[0m\u001b[0m\n\u001b[0m\u001b[1;32m      8\u001b[0m \u001b[0;34m\u001b[0m\u001b[0m\n\u001b[1;32m      9\u001b[0m \u001b[0;31m# The total population in Kenya\u001b[0m\u001b[0;34m\u001b[0m\u001b[0;34m\u001b[0m\u001b[0;34m\u001b[0m\u001b[0m\n",
            "\u001b[0;32m/usr/local/lib/python3.6/dist-packages/pandas/io/parsers.py\u001b[0m in \u001b[0;36mparser_f\u001b[0;34m(filepath_or_buffer, sep, delimiter, header, names, index_col, usecols, squeeze, prefix, mangle_dupe_cols, dtype, engine, converters, true_values, false_values, skipinitialspace, skiprows, skipfooter, nrows, na_values, keep_default_na, na_filter, verbose, skip_blank_lines, parse_dates, infer_datetime_format, keep_date_col, date_parser, dayfirst, cache_dates, iterator, chunksize, compression, thousands, decimal, lineterminator, quotechar, quoting, doublequote, escapechar, comment, encoding, dialect, error_bad_lines, warn_bad_lines, delim_whitespace, low_memory, memory_map, float_precision)\u001b[0m\n\u001b[1;32m    674\u001b[0m         )\n\u001b[1;32m    675\u001b[0m \u001b[0;34m\u001b[0m\u001b[0m\n\u001b[0;32m--> 676\u001b[0;31m         \u001b[0;32mreturn\u001b[0m \u001b[0m_read\u001b[0m\u001b[0;34m(\u001b[0m\u001b[0mfilepath_or_buffer\u001b[0m\u001b[0;34m,\u001b[0m \u001b[0mkwds\u001b[0m\u001b[0;34m)\u001b[0m\u001b[0;34m\u001b[0m\u001b[0;34m\u001b[0m\u001b[0m\n\u001b[0m\u001b[1;32m    677\u001b[0m \u001b[0;34m\u001b[0m\u001b[0m\n\u001b[1;32m    678\u001b[0m     \u001b[0mparser_f\u001b[0m\u001b[0;34m.\u001b[0m\u001b[0m__name__\u001b[0m \u001b[0;34m=\u001b[0m \u001b[0mname\u001b[0m\u001b[0;34m\u001b[0m\u001b[0;34m\u001b[0m\u001b[0m\n",
            "\u001b[0;32m/usr/local/lib/python3.6/dist-packages/pandas/io/parsers.py\u001b[0m in \u001b[0;36m_read\u001b[0;34m(filepath_or_buffer, kwds)\u001b[0m\n\u001b[1;32m    452\u001b[0m \u001b[0;34m\u001b[0m\u001b[0m\n\u001b[1;32m    453\u001b[0m     \u001b[0;32mtry\u001b[0m\u001b[0;34m:\u001b[0m\u001b[0;34m\u001b[0m\u001b[0;34m\u001b[0m\u001b[0m\n\u001b[0;32m--> 454\u001b[0;31m         \u001b[0mdata\u001b[0m \u001b[0;34m=\u001b[0m \u001b[0mparser\u001b[0m\u001b[0;34m.\u001b[0m\u001b[0mread\u001b[0m\u001b[0;34m(\u001b[0m\u001b[0mnrows\u001b[0m\u001b[0;34m)\u001b[0m\u001b[0;34m\u001b[0m\u001b[0;34m\u001b[0m\u001b[0m\n\u001b[0m\u001b[1;32m    455\u001b[0m     \u001b[0;32mfinally\u001b[0m\u001b[0;34m:\u001b[0m\u001b[0;34m\u001b[0m\u001b[0;34m\u001b[0m\u001b[0m\n\u001b[1;32m    456\u001b[0m         \u001b[0mparser\u001b[0m\u001b[0;34m.\u001b[0m\u001b[0mclose\u001b[0m\u001b[0;34m(\u001b[0m\u001b[0;34m)\u001b[0m\u001b[0;34m\u001b[0m\u001b[0;34m\u001b[0m\u001b[0m\n",
            "\u001b[0;32m/usr/local/lib/python3.6/dist-packages/pandas/io/parsers.py\u001b[0m in \u001b[0;36mread\u001b[0;34m(self, nrows)\u001b[0m\n\u001b[1;32m   1131\u001b[0m     \u001b[0;32mdef\u001b[0m \u001b[0mread\u001b[0m\u001b[0;34m(\u001b[0m\u001b[0mself\u001b[0m\u001b[0;34m,\u001b[0m \u001b[0mnrows\u001b[0m\u001b[0;34m=\u001b[0m\u001b[0;32mNone\u001b[0m\u001b[0;34m)\u001b[0m\u001b[0;34m:\u001b[0m\u001b[0;34m\u001b[0m\u001b[0;34m\u001b[0m\u001b[0m\n\u001b[1;32m   1132\u001b[0m         \u001b[0mnrows\u001b[0m \u001b[0;34m=\u001b[0m \u001b[0m_validate_integer\u001b[0m\u001b[0;34m(\u001b[0m\u001b[0;34m\"nrows\"\u001b[0m\u001b[0;34m,\u001b[0m \u001b[0mnrows\u001b[0m\u001b[0;34m)\u001b[0m\u001b[0;34m\u001b[0m\u001b[0;34m\u001b[0m\u001b[0m\n\u001b[0;32m-> 1133\u001b[0;31m         \u001b[0mret\u001b[0m \u001b[0;34m=\u001b[0m \u001b[0mself\u001b[0m\u001b[0;34m.\u001b[0m\u001b[0m_engine\u001b[0m\u001b[0;34m.\u001b[0m\u001b[0mread\u001b[0m\u001b[0;34m(\u001b[0m\u001b[0mnrows\u001b[0m\u001b[0;34m)\u001b[0m\u001b[0;34m\u001b[0m\u001b[0;34m\u001b[0m\u001b[0m\n\u001b[0m\u001b[1;32m   1134\u001b[0m \u001b[0;34m\u001b[0m\u001b[0m\n\u001b[1;32m   1135\u001b[0m         \u001b[0;31m# May alter columns / col_dict\u001b[0m\u001b[0;34m\u001b[0m\u001b[0;34m\u001b[0m\u001b[0;34m\u001b[0m\u001b[0m\n",
            "\u001b[0;32m/usr/local/lib/python3.6/dist-packages/pandas/io/parsers.py\u001b[0m in \u001b[0;36mread\u001b[0;34m(self, nrows)\u001b[0m\n\u001b[1;32m   2035\u001b[0m     \u001b[0;32mdef\u001b[0m \u001b[0mread\u001b[0m\u001b[0;34m(\u001b[0m\u001b[0mself\u001b[0m\u001b[0;34m,\u001b[0m \u001b[0mnrows\u001b[0m\u001b[0;34m=\u001b[0m\u001b[0;32mNone\u001b[0m\u001b[0;34m)\u001b[0m\u001b[0;34m:\u001b[0m\u001b[0;34m\u001b[0m\u001b[0;34m\u001b[0m\u001b[0m\n\u001b[1;32m   2036\u001b[0m         \u001b[0;32mtry\u001b[0m\u001b[0;34m:\u001b[0m\u001b[0;34m\u001b[0m\u001b[0;34m\u001b[0m\u001b[0m\n\u001b[0;32m-> 2037\u001b[0;31m             \u001b[0mdata\u001b[0m \u001b[0;34m=\u001b[0m \u001b[0mself\u001b[0m\u001b[0;34m.\u001b[0m\u001b[0m_reader\u001b[0m\u001b[0;34m.\u001b[0m\u001b[0mread\u001b[0m\u001b[0;34m(\u001b[0m\u001b[0mnrows\u001b[0m\u001b[0;34m)\u001b[0m\u001b[0;34m\u001b[0m\u001b[0;34m\u001b[0m\u001b[0m\n\u001b[0m\u001b[1;32m   2038\u001b[0m         \u001b[0;32mexcept\u001b[0m \u001b[0mStopIteration\u001b[0m\u001b[0;34m:\u001b[0m\u001b[0;34m\u001b[0m\u001b[0;34m\u001b[0m\u001b[0m\n\u001b[1;32m   2039\u001b[0m             \u001b[0;32mif\u001b[0m \u001b[0mself\u001b[0m\u001b[0;34m.\u001b[0m\u001b[0m_first_chunk\u001b[0m\u001b[0;34m:\u001b[0m\u001b[0;34m\u001b[0m\u001b[0;34m\u001b[0m\u001b[0m\n",
            "\u001b[0;32mpandas/_libs/parsers.pyx\u001b[0m in \u001b[0;36mpandas._libs.parsers.TextReader.read\u001b[0;34m()\u001b[0m\n",
            "\u001b[0;32mpandas/_libs/parsers.pyx\u001b[0m in \u001b[0;36mpandas._libs.parsers.TextReader._read_low_memory\u001b[0;34m()\u001b[0m\n",
            "\u001b[0;32mpandas/_libs/parsers.pyx\u001b[0m in \u001b[0;36mpandas._libs.parsers.TextReader._read_rows\u001b[0;34m()\u001b[0m\n",
            "\u001b[0;32mpandas/_libs/parsers.pyx\u001b[0m in \u001b[0;36mpandas._libs.parsers.TextReader._tokenize_rows\u001b[0;34m()\u001b[0m\n",
            "\u001b[0;32mpandas/_libs/parsers.pyx\u001b[0m in \u001b[0;36mpandas._libs.parsers.raise_parser_error\u001b[0;34m()\u001b[0m\n",
            "\u001b[0;31mParserError\u001b[0m: Error tokenizing data. C error: Expected 277 fields in line 132, saw 434\n"
          ]
        }
      ]
    },
    {
      "cell_type": "code",
      "metadata": {
        "id": "C8WhwyH2s9VI",
        "colab_type": "code",
        "colab": {}
      },
      "source": [
        "# Challenge 2\n",
        "# Using the given dictionary below, find out the mean and median of the points during the Years\n",
        "# \n",
        "\n",
        "kenyan_premier_league = {'Team': ['Gor Mahia', 'AFC', 'Mathare', 'Ushuru', 'Kariobangi Sharks',\n",
        "   'Tusker', 'Bandari', 'Mumias', 'Thika Utd', 'Kakamega', 'Nakuru Utd', 'Kibera Utd'], \n",
        "   'Year': [2018, 2019, 2017, 2019, 2017, 2019, 2016, 2017, 2016, 2018, 2019, 2017],\n",
        "   'Points':[87, 78, 86, 67, 74, 81, 75, 78, 69, 70, 80, 69]}\n",
        "\n",
        "OUR CODE GOES HERE"
      ],
      "execution_count": null,
      "outputs": []
    },
    {
      "cell_type": "code",
      "metadata": {
        "id": "-RqruGXas-pK",
        "colab_type": "code",
        "colab": {}
      },
      "source": [
        "# Challenge 3\n",
        "# Randomly select a municipality without replacement from the following dataset\n",
        "# url = http://bit.ly/KePopulationDistribution1\n",
        "# \n",
        "OUR CODE GOES HERE"
      ],
      "execution_count": null,
      "outputs": []
    },
    {
      "cell_type": "code",
      "metadata": {
        "id": "CSmCEJ2etAjt",
        "colab_type": "code",
        "colab": {}
      },
      "source": [
        "# Challenge 4\n",
        "# From the given dataset, create a pivot table of sum total population by District \n",
        "#\n",
        "OUR CODE GOES HERE"
      ],
      "execution_count": null,
      "outputs": []
    },
    {
      "cell_type": "code",
      "metadata": {
        "id": "giPMZ4IetBne",
        "colab_type": "code",
        "colab": {}
      },
      "source": [
        "# Challenge 5\n",
        "# From the given dataset, create a pivot table of sum total population by District \n",
        "# url = http://bit.ly/KePopulationDistribution1\n",
        "# \n",
        "OUR CODE GOES HERE"
      ],
      "execution_count": null,
      "outputs": []
    }
  ]
}