{
  "nbformat": 4,
  "nbformat_minor": 0,
  "metadata": {
    "colab": {
      "name": "SQLITE_IN_MEM_DB.ipynb",
      "provenance": [],
      "authorship_tag": "ABX9TyPZ5pNzmN3ddFqX59dWG72e",
      "include_colab_link": true
    },
    "kernelspec": {
      "name": "python3",
      "display_name": "Python 3"
    }
  },
  "cells": [
    {
      "cell_type": "markdown",
      "metadata": {
        "id": "view-in-github",
        "colab_type": "text"
      },
      "source": [
        "<a href=\"https://colab.research.google.com/github/Werick/Google_colab/blob/master/SQLITE_IN_MEM_DB.ipynb\" target=\"_parent\"><img src=\"https://colab.research.google.com/assets/colab-badge.svg\" alt=\"Open In Colab\"/></a>"
      ]
    },
    {
      "cell_type": "code",
      "metadata": {
        "id": "Q8NtySiWvTTU",
        "colab_type": "code",
        "colab": {
          "base_uri": "https://localhost:8080/",
          "height": 35
        },
        "outputId": "1eebc208-c26b-4f89-98d9-d45228581fea"
      },
      "source": [
        "# We will first load the sql extension into our environment\n",
        "#\n",
        "%load_ext sql\n",
        "\n",
        "# Then connect to our in memory sqlite database\n",
        "# NB: This database will cease to exist as soon as the database connection is closed\n",
        "#\n",
        "%sql sqlite://"
      ],
      "execution_count": 1,
      "outputs": [
        {
          "output_type": "execute_result",
          "data": {
            "application/vnd.google.colaboratory.intrinsic+json": {
              "type": "string"
            },
            "text/plain": [
              "'Connected: @None'"
            ]
          },
          "metadata": {
            "tags": []
          },
          "execution_count": 1
        }
      ]
    },
    {
      "cell_type": "code",
      "metadata": {
        "id": "2izAccm5v13Q",
        "colab_type": "code",
        "colab": {}
      },
      "source": [
        "# Importing the python libraries that we will need in this notebook\n",
        "#\n",
        "import csv\n",
        "import pandas as pd"
      ],
      "execution_count": 2,
      "outputs": []
    },
    {
      "cell_type": "code",
      "metadata": {
        "id": "IqpiEot4wBTw",
        "colab_type": "code",
        "colab": {
          "base_uri": "https://localhost:8080/",
          "height": 86
        },
        "outputId": "e8c934de-406c-4ba8-8f11-9b34cfdb8ebd"
      },
      "source": [
        "# Loading the first table from a local CSV file\n",
        "#\n",
        "with open('Countries.csv','r') as f:\n",
        "    Interpol = pd.read_csv(f, index_col=0, encoding='utf-8') \n",
        "\n",
        "Interpol.head()\n",
        "# Then storing it in an SQL table of our in memory sqlite database\n",
        "#\n",
        "%sql DROP TABLE if EXISTS Interpol;\n",
        "%sql PERSIST Interpol;"
      ],
      "execution_count": 6,
      "outputs": [
        {
          "output_type": "stream",
          "text": [
            " * sqlite://\n",
            "Done.\n",
            " * sqlite://\n"
          ],
          "name": "stdout"
        },
        {
          "output_type": "execute_result",
          "data": {
            "application/vnd.google.colaboratory.intrinsic+json": {
              "type": "string"
            },
            "text/plain": [
              "'Persisted interpol'"
            ]
          },
          "metadata": {
            "tags": []
          },
          "execution_count": 6
        }
      ]
    },
    {
      "cell_type": "code",
      "metadata": {
        "id": "zNuwrgtpxzkK",
        "colab_type": "code",
        "colab": {
          "base_uri": "https://localhost:8080/",
          "height": 86
        },
        "outputId": "c0e3b196-c08e-4892-e156-7b3212782b68"
      },
      "source": [
        "with open('WorldCup.csv','r') as f:\n",
        "  worldcup = pd.read_csv(f,index_col=0,encoding='utf-8')\n",
        "\n",
        "# store it in an SQL tab of our in Memory sqlite db\n",
        "\n",
        "%sql DROP TABLE if EXISTS worldcup\n",
        "%sql PERSIST worldcup"
      ],
      "execution_count": 7,
      "outputs": [
        {
          "output_type": "stream",
          "text": [
            " * sqlite://\n",
            "Done.\n",
            " * sqlite://\n"
          ],
          "name": "stdout"
        },
        {
          "output_type": "execute_result",
          "data": {
            "application/vnd.google.colaboratory.intrinsic+json": {
              "type": "string"
            },
            "text/plain": [
              "'Persisted worldcup'"
            ]
          },
          "metadata": {
            "tags": []
          },
          "execution_count": 7
        }
      ]
    },
    {
      "cell_type": "code",
      "metadata": {
        "id": "Yk0YxJEtzQys",
        "colab_type": "code",
        "colab": {
          "base_uri": "https://localhost:8080/",
          "height": 369
        },
        "outputId": "ccd8c4db-0b28-4021-9ee2-9f045a40d41f"
      },
      "source": [
        "# Let's preview our Interpol table so that we can understand it\n",
        "# Try to understand all the attributes (i.e columns) since this\n",
        "# will be one of the datasets that we will work with through this session\n",
        "#\n",
        "%sql select * from Interpol limit 10;"
      ],
      "execution_count": 8,
      "outputs": [
        {
          "output_type": "stream",
          "text": [
            " * sqlite://\n",
            "Done.\n"
          ],
          "name": "stdout"
        },
        {
          "output_type": "execute_result",
          "data": {
            "text/html": [
              "<table>\n",
              "    <tr>\n",
              "        <th>Country</th>\n",
              "        <th>National Fugitives</th>\n",
              "        <th>Wanted Fugitives</th>\n",
              "        <th>Possible Hosted Fugitives / Captured Fugitives</th>\n",
              "        <th>Region</th>\n",
              "        <th>Flag</th>\n",
              "    </tr>\n",
              "    <tr>\n",
              "        <td>Albania</td>\n",
              "        <td>3</td>\n",
              "        <td>3</td>\n",
              "        <td>0</td>\n",
              "        <td>Europe</td>\n",
              "        <td>http://www.crwflags.com/fotw/images/a/al.gif</td>\n",
              "    </tr>\n",
              "    <tr>\n",
              "        <td>Angola</td>\n",
              "        <td>0</td>\n",
              "        <td>0</td>\n",
              "        <td>1</td>\n",
              "        <td>Northern Africa</td>\n",
              "        <td>http://www.crwflags.com/fotw/images/a/ao.gif</td>\n",
              "    </tr>\n",
              "    <tr>\n",
              "        <td>Argentina</td>\n",
              "        <td>2</td>\n",
              "        <td>2</td>\n",
              "        <td>1</td>\n",
              "        <td>South America</td>\n",
              "        <td>http://www.crwflags.com/fotw/images/a/ar.gif</td>\n",
              "    </tr>\n",
              "    <tr>\n",
              "        <td>Australia</td>\n",
              "        <td>1</td>\n",
              "        <td>1</td>\n",
              "        <td>2</td>\n",
              "        <td>Oceania</td>\n",
              "        <td>http://www.crwflags.com/fotw/images/a/au.gif</td>\n",
              "    </tr>\n",
              "    <tr>\n",
              "        <td>Austria</td>\n",
              "        <td>1</td>\n",
              "        <td>1</td>\n",
              "        <td>0</td>\n",
              "        <td>Europe</td>\n",
              "        <td>http://www.crwflags.com/fotw/images/a/at.gif</td>\n",
              "    </tr>\n",
              "    <tr>\n",
              "        <td>Bangladesh</td>\n",
              "        <td>2</td>\n",
              "        <td>1</td>\n",
              "        <td>1</td>\n",
              "        <td>Asia</td>\n",
              "        <td>http://www.crwflags.com/fotw/images/b/bd.gif</td>\n",
              "    </tr>\n",
              "    <tr>\n",
              "        <td>Belarus</td>\n",
              "        <td>1</td>\n",
              "        <td>1</td>\n",
              "        <td>0</td>\n",
              "        <td>Europe</td>\n",
              "        <td>http://www.crwflags.com/fotw/images/b/by.gif</td>\n",
              "    </tr>\n",
              "    <tr>\n",
              "        <td>Belgium</td>\n",
              "        <td>0</td>\n",
              "        <td>2</td>\n",
              "        <td>0</td>\n",
              "        <td>Europe</td>\n",
              "        <td>http://www.crwflags.com/fotw/images/b/be.gif</td>\n",
              "    </tr>\n",
              "    <tr>\n",
              "        <td>Belize</td>\n",
              "        <td>1</td>\n",
              "        <td>1</td>\n",
              "        <td>0</td>\n",
              "        <td>Central America</td>\n",
              "        <td>http://www.crwflags.com/fotw/images/b/bz.gif</td>\n",
              "    </tr>\n",
              "    <tr>\n",
              "        <td>Bolivia</td>\n",
              "        <td>0</td>\n",
              "        <td>0</td>\n",
              "        <td>2</td>\n",
              "        <td>South America</td>\n",
              "        <td>http://www.crwflags.com/fotw/images/b/bo.gif</td>\n",
              "    </tr>\n",
              "</table>"
            ],
            "text/plain": [
              "[('Albania', 3, 3, 0, 'Europe', 'http://www.crwflags.com/fotw/images/a/al.gif'),\n",
              " ('Angola', 0, 0, 1, 'Northern Africa', 'http://www.crwflags.com/fotw/images/a/ao.gif'),\n",
              " ('Argentina', 2, 2, 1, 'South America', 'http://www.crwflags.com/fotw/images/a/ar.gif'),\n",
              " ('Australia', 1, 1, 2, 'Oceania', 'http://www.crwflags.com/fotw/images/a/au.gif'),\n",
              " ('Austria', 1, 1, 0, 'Europe', 'http://www.crwflags.com/fotw/images/a/at.gif'),\n",
              " ('Bangladesh', 2, 1, 1, 'Asia', 'http://www.crwflags.com/fotw/images/b/bd.gif'),\n",
              " ('Belarus', 1, 1, 0, 'Europe', 'http://www.crwflags.com/fotw/images/b/by.gif'),\n",
              " ('Belgium', 0, 2, 0, 'Europe', 'http://www.crwflags.com/fotw/images/b/be.gif'),\n",
              " ('Belize', 1, 1, 0, 'Central America', 'http://www.crwflags.com/fotw/images/b/bz.gif'),\n",
              " ('Bolivia', 0, 0, 2, 'South America', 'http://www.crwflags.com/fotw/images/b/bo.gif')]"
            ]
          },
          "metadata": {
            "tags": []
          },
          "execution_count": 8
        }
      ]
    },
    {
      "cell_type": "code",
      "metadata": {
        "id": "dHa5SE6Mzt3p",
        "colab_type": "code",
        "colab": {
          "base_uri": "https://localhost:8080/",
          "height": 644
        },
        "outputId": "310f7403-4c4b-4094-ada1-958e46b6bf3e"
      },
      "source": [
        "# Let's preview our worldcup table so that we can understand it\n",
        "# Try to understand all the attributes (i.e columns) since this\n",
        "# will be one of the datasets that we will work with through this session\n",
        "#\n",
        "%sql select * from worldcup limit 10"
      ],
      "execution_count": 10,
      "outputs": [
        {
          "output_type": "stream",
          "text": [
            " * sqlite://\n",
            "Done.\n"
          ],
          "name": "stdout"
        },
        {
          "output_type": "execute_result",
          "data": {
            "text/html": [
              "<table>\n",
              "    <tr>\n",
              "        <th>Year</th>\n",
              "        <th>Datetime</th>\n",
              "        <th>Stage</th>\n",
              "        <th>Stadium</th>\n",
              "        <th>City</th>\n",
              "        <th>Home_Team_Name</th>\n",
              "        <th>Home_Team_Goals</th>\n",
              "        <th>Away_Team_Goals</th>\n",
              "        <th>Away_Team_Name</th>\n",
              "        <th>Win_conditions</th>\n",
              "        <th>Attendance</th>\n",
              "        <th>Halftime_Home_Goals</th>\n",
              "        <th>Halftime_Away_Goals</th>\n",
              "        <th>Referee</th>\n",
              "        <th>Assistant1</th>\n",
              "        <th>Assistant2</th>\n",
              "        <th>RoundID</th>\n",
              "        <th>MatchID</th>\n",
              "        <th>Home_Team_Initials</th>\n",
              "        <th>Away_Team_Initials</th>\n",
              "    </tr>\n",
              "    <tr>\n",
              "        <td>1930</td>\n",
              "        <td>13 Jul 1930 - 15:00 </td>\n",
              "        <td>Group 1</td>\n",
              "        <td>Pocitos</td>\n",
              "        <td>Montevideo </td>\n",
              "        <td>France</td>\n",
              "        <td>4</td>\n",
              "        <td>1</td>\n",
              "        <td>Mexico</td>\n",
              "        <td> </td>\n",
              "        <td>4444.0</td>\n",
              "        <td>3</td>\n",
              "        <td>0</td>\n",
              "        <td>LOMBARDI Domingo (URU)</td>\n",
              "        <td>CRISTOPHE Henry (BEL)</td>\n",
              "        <td>REGO Gilberto (BRA)</td>\n",
              "        <td>201</td>\n",
              "        <td>1096</td>\n",
              "        <td>FRA</td>\n",
              "        <td>MEX</td>\n",
              "    </tr>\n",
              "    <tr>\n",
              "        <td>1930</td>\n",
              "        <td>13 Jul 1930 - 15:00 </td>\n",
              "        <td>Group 4</td>\n",
              "        <td>Parque Central</td>\n",
              "        <td>Montevideo </td>\n",
              "        <td>USA</td>\n",
              "        <td>3</td>\n",
              "        <td>0</td>\n",
              "        <td>Belgium</td>\n",
              "        <td> </td>\n",
              "        <td>18346.0</td>\n",
              "        <td>2</td>\n",
              "        <td>0</td>\n",
              "        <td>MACIAS Jose (ARG)</td>\n",
              "        <td>MATEUCCI Francisco (URU)</td>\n",
              "        <td>WARNKEN Alberto (CHI)</td>\n",
              "        <td>201</td>\n",
              "        <td>1090</td>\n",
              "        <td>USA</td>\n",
              "        <td>BEL</td>\n",
              "    </tr>\n",
              "    <tr>\n",
              "        <td>1930</td>\n",
              "        <td>14 Jul 1930 - 12:45 </td>\n",
              "        <td>Group 2</td>\n",
              "        <td>Parque Central</td>\n",
              "        <td>Montevideo </td>\n",
              "        <td>Yugoslavia</td>\n",
              "        <td>2</td>\n",
              "        <td>1</td>\n",
              "        <td>Brazil</td>\n",
              "        <td> </td>\n",
              "        <td>24059.0</td>\n",
              "        <td>2</td>\n",
              "        <td>0</td>\n",
              "        <td>TEJADA Anibal (URU)</td>\n",
              "        <td>VALLARINO Ricardo (URU)</td>\n",
              "        <td>BALWAY Thomas (FRA)</td>\n",
              "        <td>201</td>\n",
              "        <td>1093</td>\n",
              "        <td>YUG</td>\n",
              "        <td>BRA</td>\n",
              "    </tr>\n",
              "    <tr>\n",
              "        <td>1930</td>\n",
              "        <td>14 Jul 1930 - 14:50 </td>\n",
              "        <td>Group 3</td>\n",
              "        <td>Pocitos</td>\n",
              "        <td>Montevideo </td>\n",
              "        <td>Romania</td>\n",
              "        <td>3</td>\n",
              "        <td>1</td>\n",
              "        <td>Peru</td>\n",
              "        <td> </td>\n",
              "        <td>2549.0</td>\n",
              "        <td>1</td>\n",
              "        <td>0</td>\n",
              "        <td>WARNKEN Alberto (CHI)</td>\n",
              "        <td>LANGENUS Jean (BEL)</td>\n",
              "        <td>MATEUCCI Francisco (URU)</td>\n",
              "        <td>201</td>\n",
              "        <td>1098</td>\n",
              "        <td>ROU</td>\n",
              "        <td>PER</td>\n",
              "    </tr>\n",
              "    <tr>\n",
              "        <td>1930</td>\n",
              "        <td>15 Jul 1930 - 16:00 </td>\n",
              "        <td>Group 1</td>\n",
              "        <td>Parque Central</td>\n",
              "        <td>Montevideo </td>\n",
              "        <td>Argentina</td>\n",
              "        <td>1</td>\n",
              "        <td>0</td>\n",
              "        <td>France</td>\n",
              "        <td> </td>\n",
              "        <td>23409.0</td>\n",
              "        <td>0</td>\n",
              "        <td>0</td>\n",
              "        <td>REGO Gilberto (BRA)</td>\n",
              "        <td>SAUCEDO Ulises (BOL)</td>\n",
              "        <td>RADULESCU Constantin (ROU)</td>\n",
              "        <td>201</td>\n",
              "        <td>1085</td>\n",
              "        <td>ARG</td>\n",
              "        <td>FRA</td>\n",
              "    </tr>\n",
              "    <tr>\n",
              "        <td>1930</td>\n",
              "        <td>16 Jul 1930 - 14:45 </td>\n",
              "        <td>Group 1</td>\n",
              "        <td>Parque Central</td>\n",
              "        <td>Montevideo </td>\n",
              "        <td>Chile</td>\n",
              "        <td>3</td>\n",
              "        <td>0</td>\n",
              "        <td>Mexico</td>\n",
              "        <td> </td>\n",
              "        <td>9249.0</td>\n",
              "        <td>1</td>\n",
              "        <td>0</td>\n",
              "        <td>CRISTOPHE Henry (BEL)</td>\n",
              "        <td>APHESTEGUY Martin (URU)</td>\n",
              "        <td>LANGENUS Jean (BEL)</td>\n",
              "        <td>201</td>\n",
              "        <td>1095</td>\n",
              "        <td>CHI</td>\n",
              "        <td>MEX</td>\n",
              "    </tr>\n",
              "    <tr>\n",
              "        <td>1930</td>\n",
              "        <td>17 Jul 1930 - 12:45 </td>\n",
              "        <td>Group 2</td>\n",
              "        <td>Parque Central</td>\n",
              "        <td>Montevideo </td>\n",
              "        <td>Yugoslavia</td>\n",
              "        <td>4</td>\n",
              "        <td>0</td>\n",
              "        <td>Bolivia</td>\n",
              "        <td> </td>\n",
              "        <td>18306.0</td>\n",
              "        <td>0</td>\n",
              "        <td>0</td>\n",
              "        <td>MATEUCCI Francisco (URU)</td>\n",
              "        <td>LOMBARDI Domingo (URU)</td>\n",
              "        <td>WARNKEN Alberto (CHI)</td>\n",
              "        <td>201</td>\n",
              "        <td>1092</td>\n",
              "        <td>YUG</td>\n",
              "        <td>BOL</td>\n",
              "    </tr>\n",
              "    <tr>\n",
              "        <td>1930</td>\n",
              "        <td>17 Jul 1930 - 14:45 </td>\n",
              "        <td>Group 4</td>\n",
              "        <td>Parque Central</td>\n",
              "        <td>Montevideo </td>\n",
              "        <td>USA</td>\n",
              "        <td>3</td>\n",
              "        <td>0</td>\n",
              "        <td>Paraguay</td>\n",
              "        <td> </td>\n",
              "        <td>18306.0</td>\n",
              "        <td>2</td>\n",
              "        <td>0</td>\n",
              "        <td>MACIAS Jose (ARG)</td>\n",
              "        <td>APHESTEGUY Martin (URU)</td>\n",
              "        <td>TEJADA Anibal (URU)</td>\n",
              "        <td>201</td>\n",
              "        <td>1097</td>\n",
              "        <td>USA</td>\n",
              "        <td>PAR</td>\n",
              "    </tr>\n",
              "    <tr>\n",
              "        <td>1930</td>\n",
              "        <td>18 Jul 1930 - 14:30 </td>\n",
              "        <td>Group 3</td>\n",
              "        <td>Estadio Centenario</td>\n",
              "        <td>Montevideo </td>\n",
              "        <td>Uruguay</td>\n",
              "        <td>1</td>\n",
              "        <td>0</td>\n",
              "        <td>Peru</td>\n",
              "        <td> </td>\n",
              "        <td>57735.0</td>\n",
              "        <td>0</td>\n",
              "        <td>0</td>\n",
              "        <td>LANGENUS Jean (BEL)</td>\n",
              "        <td>BALWAY Thomas (FRA)</td>\n",
              "        <td>CRISTOPHE Henry (BEL)</td>\n",
              "        <td>201</td>\n",
              "        <td>1099</td>\n",
              "        <td>URU</td>\n",
              "        <td>PER</td>\n",
              "    </tr>\n",
              "    <tr>\n",
              "        <td>1930</td>\n",
              "        <td>19 Jul 1930 - 12:50 </td>\n",
              "        <td>Group 1</td>\n",
              "        <td>Estadio Centenario</td>\n",
              "        <td>Montevideo </td>\n",
              "        <td>Chile</td>\n",
              "        <td>1</td>\n",
              "        <td>0</td>\n",
              "        <td>France</td>\n",
              "        <td> </td>\n",
              "        <td>2000.0</td>\n",
              "        <td>0</td>\n",
              "        <td>0</td>\n",
              "        <td>TEJADA Anibal (URU)</td>\n",
              "        <td>LOMBARDI Domingo (URU)</td>\n",
              "        <td>REGO Gilberto (BRA)</td>\n",
              "        <td>201</td>\n",
              "        <td>1094</td>\n",
              "        <td>CHI</td>\n",
              "        <td>FRA</td>\n",
              "    </tr>\n",
              "</table>"
            ],
            "text/plain": [
              "[(1930, '13 Jul 1930 - 15:00 ', 'Group 1', 'Pocitos', 'Montevideo ', 'France', 4, 1, 'Mexico', ' ', 4444.0, 3, 0, 'LOMBARDI Domingo (URU)', 'CRISTOPHE Henry (BEL)', 'REGO Gilberto (BRA)', 201, 1096, 'FRA', 'MEX'),\n",
              " (1930, '13 Jul 1930 - 15:00 ', 'Group 4', 'Parque Central', 'Montevideo ', 'USA', 3, 0, 'Belgium', ' ', 18346.0, 2, 0, 'MACIAS Jose (ARG)', 'MATEUCCI Francisco (URU)', 'WARNKEN Alberto (CHI)', 201, 1090, 'USA', 'BEL'),\n",
              " (1930, '14 Jul 1930 - 12:45 ', 'Group 2', 'Parque Central', 'Montevideo ', 'Yugoslavia', 2, 1, 'Brazil', ' ', 24059.0, 2, 0, 'TEJADA Anibal (URU)', 'VALLARINO Ricardo (URU)', 'BALWAY Thomas (FRA)', 201, 1093, 'YUG', 'BRA'),\n",
              " (1930, '14 Jul 1930 - 14:50 ', 'Group 3', 'Pocitos', 'Montevideo ', 'Romania', 3, 1, 'Peru', ' ', 2549.0, 1, 0, 'WARNKEN Alberto (CHI)', 'LANGENUS Jean (BEL)', 'MATEUCCI Francisco (URU)', 201, 1098, 'ROU', 'PER'),\n",
              " (1930, '15 Jul 1930 - 16:00 ', 'Group 1', 'Parque Central', 'Montevideo ', 'Argentina', 1, 0, 'France', ' ', 23409.0, 0, 0, 'REGO Gilberto (BRA)', 'SAUCEDO Ulises (BOL)', 'RADULESCU Constantin (ROU)', 201, 1085, 'ARG', 'FRA'),\n",
              " (1930, '16 Jul 1930 - 14:45 ', 'Group 1', 'Parque Central', 'Montevideo ', 'Chile', 3, 0, 'Mexico', ' ', 9249.0, 1, 0, 'CRISTOPHE Henry (BEL)', 'APHESTEGUY Martin (URU)', 'LANGENUS Jean (BEL)', 201, 1095, 'CHI', 'MEX'),\n",
              " (1930, '17 Jul 1930 - 12:45 ', 'Group 2', 'Parque Central', 'Montevideo ', 'Yugoslavia', 4, 0, 'Bolivia', ' ', 18306.0, 0, 0, 'MATEUCCI Francisco (URU)', 'LOMBARDI Domingo (URU)', 'WARNKEN Alberto (CHI)', 201, 1092, 'YUG', 'BOL'),\n",
              " (1930, '17 Jul 1930 - 14:45 ', 'Group 4', 'Parque Central', 'Montevideo ', 'USA', 3, 0, 'Paraguay', ' ', 18306.0, 2, 0, 'MACIAS Jose (ARG)', 'APHESTEGUY Martin (URU)', 'TEJADA Anibal (URU)', 201, 1097, 'USA', 'PAR'),\n",
              " (1930, '18 Jul 1930 - 14:30 ', 'Group 3', 'Estadio Centenario', 'Montevideo ', 'Uruguay', 1, 0, 'Peru', ' ', 57735.0, 0, 0, 'LANGENUS Jean (BEL)', 'BALWAY Thomas (FRA)', 'CRISTOPHE Henry (BEL)', 201, 1099, 'URU', 'PER'),\n",
              " (1930, '19 Jul 1930 - 12:50 ', 'Group 1', 'Estadio Centenario', 'Montevideo ', 'Chile', 1, 0, 'France', ' ', 2000.0, 0, 0, 'TEJADA Anibal (URU)', 'LOMBARDI Domingo (URU)', 'REGO Gilberto (BRA)', 201, 1094, 'CHI', 'FRA')]"
            ]
          },
          "metadata": {
            "tags": []
          },
          "execution_count": 10
        }
      ]
    },
    {
      "cell_type": "code",
      "metadata": {
        "id": "WYAb0sV00Jqb",
        "colab_type": "code",
        "colab": {
          "base_uri": "https://localhost:8080/",
          "height": 86
        },
        "outputId": "e31d6f1a-92da-4859-a406-5f6f0556fb5d"
      },
      "source": [
        "## Assigment for Willy\n",
        "# This is super cool though\n",
        "#\n",
        "with open('Uganda_Karamoja_Subcounty_Crop_Yield_Population.csv','r') as f:\n",
        "  ug_crop_pop = pd.read_csv(f,index_col=0,encoding='utf-8')\n",
        "\n",
        "# store it to an sql table\n",
        "%sql DROP TABLE if EXISTS ug_crop_pop\n",
        "%sql PERSIST ug_crop_pop"
      ],
      "execution_count": 11,
      "outputs": [
        {
          "output_type": "stream",
          "text": [
            " * sqlite://\n",
            "Done.\n",
            " * sqlite://\n"
          ],
          "name": "stdout"
        },
        {
          "output_type": "execute_result",
          "data": {
            "application/vnd.google.colaboratory.intrinsic+json": {
              "type": "string"
            },
            "text/plain": [
              "'Persisted ug_crop_pop'"
            ]
          },
          "metadata": {
            "tags": []
          },
          "execution_count": 11
        }
      ]
    },
    {
      "cell_type": "code",
      "metadata": {
        "id": "z81PtizD0-Vw",
        "colab_type": "code",
        "colab": {
          "base_uri": "https://localhost:8080/",
          "height": 338
        },
        "outputId": "303f5fe7-e875-4c13-e0d6-ab74e93bc037"
      },
      "source": [
        "# Preview the recors\n",
        "%sql select * from ug_crop_pop limit 10;"
      ],
      "execution_count": 12,
      "outputs": [
        {
          "output_type": "stream",
          "text": [
            " * sqlite://\n",
            "Done.\n"
          ],
          "name": "stdout"
        },
        {
          "output_type": "execute_result",
          "data": {
            "text/html": [
              "<table>\n",
              "    <tr>\n",
              "        <th>OBJECTID</th>\n",
              "        <th>SUBCOUNTY_NAME</th>\n",
              "        <th>DISTRICT_NAME</th>\n",
              "        <th>POP</th>\n",
              "        <th>Area</th>\n",
              "        <th>Karamoja</th>\n",
              "        <th>S_Yield_Ha</th>\n",
              "        <th>M_Yield_Ha</th>\n",
              "        <th>Crop_Area_Ha</th>\n",
              "        <th>S_Area_Ha</th>\n",
              "        <th>M_Area_Ha</th>\n",
              "        <th>S_Prod_Tot</th>\n",
              "        <th>M_Prod_Tot</th>\n",
              "    </tr>\n",
              "    <tr>\n",
              "        <td>263</td>\n",
              "        <td>KACHERI</td>\n",
              "        <td>KOTIDO</td>\n",
              "        <td>17244</td>\n",
              "        <td>1067176155</td>\n",
              "        <td>Y</td>\n",
              "        <td>354.20741069999997</td>\n",
              "        <td>1137.467019</td>\n",
              "        <td>7023.533691</td>\n",
              "        <td>6434.342449</td>\n",
              "        <td>528.1242294</td>\n",
              "        <td>2279091.779</td>\n",
              "        <td>600723.8929</td>\n",
              "    </tr>\n",
              "    <tr>\n",
              "        <td>264</td>\n",
              "        <td>KOTIDO</td>\n",
              "        <td>KOTIDO</td>\n",
              "        <td>52771</td>\n",
              "        <td>597575188</td>\n",
              "        <td>Y</td>\n",
              "        <td>367.89052319999996</td>\n",
              "        <td>1162.9966869999998</td>\n",
              "        <td>13587.990759999999</td>\n",
              "        <td>12455.59264</td>\n",
              "        <td>824.7670809</td>\n",
              "        <td>4582294.492</td>\n",
              "        <td>959201.3825</td>\n",
              "    </tr>\n",
              "    <tr>\n",
              "        <td>265</td>\n",
              "        <td>KOTIDO TOWN COUNCIL</td>\n",
              "        <td>KOTIDO</td>\n",
              "        <td>27389</td>\n",
              "        <td>23972401</td>\n",
              "        <td>Y</td>\n",
              "        <td>369.3141771</td>\n",
              "        <td>1167.005832</td>\n",
              "        <td>1656.5318550000002</td>\n",
              "        <td>1520.322052</td>\n",
              "        <td>8.561643817</td>\n",
              "        <td>561476.4874</td>\n",
              "        <td>9991.488268000001</td>\n",
              "    </tr>\n",
              "    <tr>\n",
              "        <td>266</td>\n",
              "        <td>NAKAPERIMORU</td>\n",
              "        <td>KOTIDO</td>\n",
              "        <td>38775</td>\n",
              "        <td>419111591</td>\n",
              "        <td>Y</td>\n",
              "        <td>283.3245689</td>\n",
              "        <td>852.3665784</td>\n",
              "        <td>7087.823334000001</td>\n",
              "        <td>6761.488901000001</td>\n",
              "        <td>45.72171184</td>\n",
              "        <td>1915695.928</td>\n",
              "        <td>38971.65908</td>\n",
              "    </tr>\n",
              "    <tr>\n",
              "        <td>267</td>\n",
              "        <td>PANYANGARA</td>\n",
              "        <td>KOTIDO</td>\n",
              "        <td>65704</td>\n",
              "        <td>880955930</td>\n",
              "        <td>Y</td>\n",
              "        <td>373.8369255</td>\n",
              "        <td>1283.859882</td>\n",
              "        <td>10398.24939</td>\n",
              "        <td>10111.198129999999</td>\n",
              "        <td>172.6119139</td>\n",
              "        <td>3779939.224</td>\n",
              "        <td>221609.5114</td>\n",
              "    </tr>\n",
              "    <tr>\n",
              "        <td>268</td>\n",
              "        <td>RENGEN</td>\n",
              "        <td>KOTIDO</td>\n",
              "        <td>41273</td>\n",
              "        <td>652744859</td>\n",
              "        <td>Y</td>\n",
              "        <td>271.18584310000006</td>\n",
              "        <td>1047.180128</td>\n",
              "        <td>13278.52043</td>\n",
              "        <td>12964.49973</td>\n",
              "        <td>171.5857036</td>\n",
              "        <td>3515788.789</td>\n",
              "        <td>179681.139</td>\n",
              "    </tr>\n",
              "    <tr>\n",
              "        <td>591</td>\n",
              "        <td>KAABONG  EAST</td>\n",
              "        <td>KAABONG</td>\n",
              "        <td>42221</td>\n",
              "        <td>60801942</td>\n",
              "        <td>Y</td>\n",
              "        <td>160.5885252</td>\n",
              "        <td>650.1235647999999</td>\n",
              "        <td>1021.31699</td>\n",
              "        <td>1004.647534</td>\n",
              "        <td>15.66040911</td>\n",
              "        <td>161334.8658</td>\n",
              "        <td>10181.201</td>\n",
              "    </tr>\n",
              "    <tr>\n",
              "        <td>592</td>\n",
              "        <td>KAABONG TOWN COUNCIL</td>\n",
              "        <td>KAABONG</td>\n",
              "        <td>38857</td>\n",
              "        <td>13071455</td>\n",
              "        <td>Y</td>\n",
              "        <td>212.21070299999997</td>\n",
              "        <td>1229.213444</td>\n",
              "        <td>175.08052659999998</td>\n",
              "        <td>156.5038884</td>\n",
              "        <td>18.52618562</td>\n",
              "        <td>33211.80017</td>\n",
              "        <td>22772.636430000002</td>\n",
              "    </tr>\n",
              "    <tr>\n",
              "        <td>593</td>\n",
              "        <td>KAABONG WEST</td>\n",
              "        <td>KAABONG</td>\n",
              "        <td>41454</td>\n",
              "        <td>67612362</td>\n",
              "        <td>Y</td>\n",
              "        <td>208.04051840000002</td>\n",
              "        <td>1056.416068</td>\n",
              "        <td>967.3367266</td>\n",
              "        <td>910.2541223</td>\n",
              "        <td>56.27535518</td>\n",
              "        <td>189369.7394</td>\n",
              "        <td>59450.18942</td>\n",
              "    </tr>\n",
              "    <tr>\n",
              "        <td>594</td>\n",
              "        <td>KALAPATA</td>\n",
              "        <td>KAABONG</td>\n",
              "        <td>99203</td>\n",
              "        <td>223116860</td>\n",
              "        <td>Y</td>\n",
              "        <td>209.8093519</td>\n",
              "        <td>633.4231821000001</td>\n",
              "        <td>2834.349905</td>\n",
              "        <td>2501.368282</td>\n",
              "        <td>331.2257949</td>\n",
              "        <td>524810.4582</td>\n",
              "        <td>209806.09699999998</td>\n",
              "    </tr>\n",
              "</table>"
            ],
            "text/plain": [
              "[(263, 'KACHERI', 'KOTIDO', 17244, 1067176155, 'Y', 354.20741069999997, 1137.467019, 7023.533691, 6434.342449, 528.1242294, 2279091.779, 600723.8929),\n",
              " (264, 'KOTIDO', 'KOTIDO', 52771, 597575188, 'Y', 367.89052319999996, 1162.9966869999998, 13587.990759999999, 12455.59264, 824.7670809, 4582294.492, 959201.3825),\n",
              " (265, 'KOTIDO TOWN COUNCIL', 'KOTIDO', 27389, 23972401, 'Y', 369.3141771, 1167.005832, 1656.5318550000002, 1520.322052, 8.561643817, 561476.4874, 9991.488268000001),\n",
              " (266, 'NAKAPERIMORU', 'KOTIDO', 38775, 419111591, 'Y', 283.3245689, 852.3665784, 7087.823334000001, 6761.488901000001, 45.72171184, 1915695.928, 38971.65908),\n",
              " (267, 'PANYANGARA', 'KOTIDO', 65704, 880955930, 'Y', 373.8369255, 1283.859882, 10398.24939, 10111.198129999999, 172.6119139, 3779939.224, 221609.5114),\n",
              " (268, 'RENGEN', 'KOTIDO', 41273, 652744859, 'Y', 271.18584310000006, 1047.180128, 13278.52043, 12964.49973, 171.5857036, 3515788.789, 179681.139),\n",
              " (591, 'KAABONG  EAST', 'KAABONG', 42221, 60801942, 'Y', 160.5885252, 650.1235647999999, 1021.31699, 1004.647534, 15.66040911, 161334.8658, 10181.201),\n",
              " (592, 'KAABONG TOWN COUNCIL', 'KAABONG', 38857, 13071455, 'Y', 212.21070299999997, 1229.213444, 175.08052659999998, 156.5038884, 18.52618562, 33211.80017, 22772.636430000002),\n",
              " (593, 'KAABONG WEST', 'KAABONG', 41454, 67612362, 'Y', 208.04051840000002, 1056.416068, 967.3367266, 910.2541223, 56.27535518, 189369.7394, 59450.18942),\n",
              " (594, 'KALAPATA', 'KAABONG', 99203, 223116860, 'Y', 209.8093519, 633.4231821000001, 2834.349905, 2501.368282, 331.2257949, 524810.4582, 209806.09699999998)]"
            ]
          },
          "metadata": {
            "tags": []
          },
          "execution_count": 12
        }
      ]
    },
    {
      "cell_type": "code",
      "metadata": {
        "id": "9vlkFqE81gHD",
        "colab_type": "code",
        "colab": {
          "base_uri": "https://localhost:8080/",
          "height": 1000
        },
        "outputId": "e1e61069-5883-4445-8786-a21d21a02bd3"
      },
      "source": [
        "# 1.\tDisplay a list of Sub Counties and their population and areas\n",
        "%sql select SUBCOUNTY_NAME,POP,AREA from ug_crop_pop;"
      ],
      "execution_count": 13,
      "outputs": [
        {
          "output_type": "stream",
          "text": [
            " * sqlite://\n",
            "Done.\n"
          ],
          "name": "stdout"
        },
        {
          "output_type": "execute_result",
          "data": {
            "text/html": [
              "<table>\n",
              "    <tr>\n",
              "        <th>SUBCOUNTY_NAME</th>\n",
              "        <th>POP</th>\n",
              "        <th>Area</th>\n",
              "    </tr>\n",
              "    <tr>\n",
              "        <td>KACHERI</td>\n",
              "        <td>17244</td>\n",
              "        <td>1067176155</td>\n",
              "    </tr>\n",
              "    <tr>\n",
              "        <td>KOTIDO</td>\n",
              "        <td>52771</td>\n",
              "        <td>597575188</td>\n",
              "    </tr>\n",
              "    <tr>\n",
              "        <td>KOTIDO TOWN COUNCIL</td>\n",
              "        <td>27389</td>\n",
              "        <td>23972401</td>\n",
              "    </tr>\n",
              "    <tr>\n",
              "        <td>NAKAPERIMORU</td>\n",
              "        <td>38775</td>\n",
              "        <td>419111591</td>\n",
              "    </tr>\n",
              "    <tr>\n",
              "        <td>PANYANGARA</td>\n",
              "        <td>65704</td>\n",
              "        <td>880955930</td>\n",
              "    </tr>\n",
              "    <tr>\n",
              "        <td>RENGEN</td>\n",
              "        <td>41273</td>\n",
              "        <td>652744859</td>\n",
              "    </tr>\n",
              "    <tr>\n",
              "        <td>KAABONG  EAST</td>\n",
              "        <td>42221</td>\n",
              "        <td>60801942</td>\n",
              "    </tr>\n",
              "    <tr>\n",
              "        <td>KAABONG TOWN COUNCIL</td>\n",
              "        <td>38857</td>\n",
              "        <td>13071455</td>\n",
              "    </tr>\n",
              "    <tr>\n",
              "        <td>KAABONG WEST</td>\n",
              "        <td>41454</td>\n",
              "        <td>67612362</td>\n",
              "    </tr>\n",
              "    <tr>\n",
              "        <td>KALAPATA</td>\n",
              "        <td>99203</td>\n",
              "        <td>223116860</td>\n",
              "    </tr>\n",
              "    <tr>\n",
              "        <td>KAMION</td>\n",
              "        <td>60070</td>\n",
              "        <td>1199409465</td>\n",
              "    </tr>\n",
              "    <tr>\n",
              "        <td>KAPEDO</td>\n",
              "        <td>33951</td>\n",
              "        <td>304557831</td>\n",
              "    </tr>\n",
              "    <tr>\n",
              "        <td>KATHILE</td>\n",
              "        <td>56870</td>\n",
              "        <td>228457417</td>\n",
              "    </tr>\n",
              "    <tr>\n",
              "        <td>KAWALAKOL</td>\n",
              "        <td>37691</td>\n",
              "        <td>1742041261</td>\n",
              "    </tr>\n",
              "    <tr>\n",
              "        <td>LOBALANGIT</td>\n",
              "        <td>22907</td>\n",
              "        <td>302572789</td>\n",
              "    </tr>\n",
              "    <tr>\n",
              "        <td>LODIKO</td>\n",
              "        <td>31820</td>\n",
              "        <td>397700845</td>\n",
              "    </tr>\n",
              "    <tr>\n",
              "        <td>LOLELIA</td>\n",
              "        <td>100919</td>\n",
              "        <td>1069331387</td>\n",
              "    </tr>\n",
              "    <tr>\n",
              "        <td>LOYORO</td>\n",
              "        <td>16608</td>\n",
              "        <td>1330019236</td>\n",
              "    </tr>\n",
              "    <tr>\n",
              "        <td>NAPORE (KARENGA)</td>\n",
              "        <td>20394</td>\n",
              "        <td>309577387</td>\n",
              "    </tr>\n",
              "    <tr>\n",
              "        <td>SIDOK</td>\n",
              "        <td>24092</td>\n",
              "        <td>125330583</td>\n",
              "    </tr>\n",
              "    <tr>\n",
              "        <td>ABIM</td>\n",
              "        <td>14377</td>\n",
              "        <td>188613057</td>\n",
              "    </tr>\n",
              "    <tr>\n",
              "        <td>ABIM TOWN COUNCIL</td>\n",
              "        <td>11489</td>\n",
              "        <td>115941152</td>\n",
              "    </tr>\n",
              "    <tr>\n",
              "        <td>ALEREK</td>\n",
              "        <td>12573</td>\n",
              "        <td>1255760525</td>\n",
              "    </tr>\n",
              "    <tr>\n",
              "        <td>LOTUKEI</td>\n",
              "        <td>18641</td>\n",
              "        <td>191684465</td>\n",
              "    </tr>\n",
              "    <tr>\n",
              "        <td>MORULEM</td>\n",
              "        <td>16834</td>\n",
              "        <td>250364895</td>\n",
              "    </tr>\n",
              "    <tr>\n",
              "        <td>KARITA</td>\n",
              "        <td>45015</td>\n",
              "        <td>658008801</td>\n",
              "    </tr>\n",
              "    <tr>\n",
              "        <td>LOROO</td>\n",
              "        <td>22541</td>\n",
              "        <td>371970302</td>\n",
              "    </tr>\n",
              "    <tr>\n",
              "        <td>AMUDAT</td>\n",
              "        <td>30181</td>\n",
              "        <td>596393139</td>\n",
              "    </tr>\n",
              "    <tr>\n",
              "        <td>AMUDAT TOWN COUNCIL</td>\n",
              "        <td>4053</td>\n",
              "        <td>17207110</td>\n",
              "    </tr>\n",
              "    <tr>\n",
              "        <td>KATIKEKILE</td>\n",
              "        <td>11772</td>\n",
              "        <td>277451997</td>\n",
              "    </tr>\n",
              "    <tr>\n",
              "        <td>NADUNGET</td>\n",
              "        <td>42115</td>\n",
              "        <td>596023780</td>\n",
              "    </tr>\n",
              "    <tr>\n",
              "        <td>TAPAC</td>\n",
              "        <td>21999</td>\n",
              "        <td>622266516</td>\n",
              "    </tr>\n",
              "    <tr>\n",
              "        <td>NORTHERN DIVISION</td>\n",
              "        <td>7161</td>\n",
              "        <td>2738777</td>\n",
              "    </tr>\n",
              "    <tr>\n",
              "        <td>SOUTHERN DIVISION</td>\n",
              "        <td>3272</td>\n",
              "        <td>2121209</td>\n",
              "    </tr>\n",
              "    <tr>\n",
              "        <td>LOREGAE</td>\n",
              "        <td>26644</td>\n",
              "        <td>928683431</td>\n",
              "    </tr>\n",
              "    <tr>\n",
              "        <td>NAKAPIRIPIRIT TOWN COUNCIL</td>\n",
              "        <td>1418</td>\n",
              "        <td>4673094</td>\n",
              "    </tr>\n",
              "    <tr>\n",
              "        <td>NAMALU</td>\n",
              "        <td>25905</td>\n",
              "        <td>553067364</td>\n",
              "    </tr>\n",
              "    <tr>\n",
              "        <td>KAKOMONGOLE</td>\n",
              "        <td>15960</td>\n",
              "        <td>312709097</td>\n",
              "    </tr>\n",
              "    <tr>\n",
              "        <td>LOLACHAT</td>\n",
              "        <td>22801</td>\n",
              "        <td>642401705</td>\n",
              "    </tr>\n",
              "    <tr>\n",
              "        <td>LORENGEDWAT</td>\n",
              "        <td>9929</td>\n",
              "        <td>435714604</td>\n",
              "    </tr>\n",
              "    <tr>\n",
              "        <td>NABILATUK</td>\n",
              "        <td>27534</td>\n",
              "        <td>499776866</td>\n",
              "    </tr>\n",
              "    <tr>\n",
              "        <td>IRIIRI</td>\n",
              "        <td>46979</td>\n",
              "        <td>1030623258</td>\n",
              "    </tr>\n",
              "    <tr>\n",
              "        <td>LOPEEI</td>\n",
              "        <td>18815</td>\n",
              "        <td>790782350</td>\n",
              "    </tr>\n",
              "    <tr>\n",
              "        <td>LORENGECORA</td>\n",
              "        <td>2503</td>\n",
              "        <td>118997955</td>\n",
              "    </tr>\n",
              "    <tr>\n",
              "        <td>LOTOME</td>\n",
              "        <td>17834</td>\n",
              "        <td>125857565</td>\n",
              "    </tr>\n",
              "    <tr>\n",
              "        <td>MATANY</td>\n",
              "        <td>29495</td>\n",
              "        <td>338252511</td>\n",
              "    </tr>\n",
              "    <tr>\n",
              "        <td>NAPAK TOWN COUNCIL</td>\n",
              "        <td>8010</td>\n",
              "        <td>150906375</td>\n",
              "    </tr>\n",
              "    <tr>\n",
              "        <td>NGOLERIET</td>\n",
              "        <td>20790</td>\n",
              "        <td>158887552</td>\n",
              "    </tr>\n",
              "    <tr>\n",
              "        <td>NYAKWAE</td>\n",
              "        <td>16470</td>\n",
              "        <td>769609687</td>\n",
              "    </tr>\n",
              "    <tr>\n",
              "        <td>LOKOPO</td>\n",
              "        <td>23200</td>\n",
              "        <td>1794470536</td>\n",
              "    </tr>\n",
              "    <tr>\n",
              "        <td>RUPA</td>\n",
              "        <td>41493</td>\n",
              "        <td>2069554899</td>\n",
              "    </tr>\n",
              "    <tr>\n",
              "        <td>MORUITA</td>\n",
              "        <td>16588</td>\n",
              "        <td>839293722</td>\n",
              "    </tr>\n",
              "</table>"
            ],
            "text/plain": [
              "[('KACHERI', 17244, 1067176155),\n",
              " ('KOTIDO', 52771, 597575188),\n",
              " ('KOTIDO TOWN COUNCIL', 27389, 23972401),\n",
              " ('NAKAPERIMORU', 38775, 419111591),\n",
              " ('PANYANGARA', 65704, 880955930),\n",
              " ('RENGEN', 41273, 652744859),\n",
              " ('KAABONG  EAST', 42221, 60801942),\n",
              " ('KAABONG TOWN COUNCIL', 38857, 13071455),\n",
              " ('KAABONG WEST', 41454, 67612362),\n",
              " ('KALAPATA', 99203, 223116860),\n",
              " ('KAMION', 60070, 1199409465),\n",
              " ('KAPEDO', 33951, 304557831),\n",
              " ('KATHILE', 56870, 228457417),\n",
              " ('KAWALAKOL', 37691, 1742041261),\n",
              " ('LOBALANGIT', 22907, 302572789),\n",
              " ('LODIKO', 31820, 397700845),\n",
              " ('LOLELIA', 100919, 1069331387),\n",
              " ('LOYORO', 16608, 1330019236),\n",
              " ('NAPORE (KARENGA)', 20394, 309577387),\n",
              " ('SIDOK', 24092, 125330583),\n",
              " ('ABIM', 14377, 188613057),\n",
              " ('ABIM TOWN COUNCIL', 11489, 115941152),\n",
              " ('ALEREK', 12573, 1255760525),\n",
              " ('LOTUKEI', 18641, 191684465),\n",
              " ('MORULEM', 16834, 250364895),\n",
              " ('KARITA', 45015, 658008801),\n",
              " ('LOROO', 22541, 371970302),\n",
              " ('AMUDAT', 30181, 596393139),\n",
              " ('AMUDAT TOWN COUNCIL', 4053, 17207110),\n",
              " ('KATIKEKILE', 11772, 277451997),\n",
              " ('NADUNGET', 42115, 596023780),\n",
              " ('TAPAC', 21999, 622266516),\n",
              " ('NORTHERN DIVISION', 7161, 2738777),\n",
              " ('SOUTHERN DIVISION', 3272, 2121209),\n",
              " ('LOREGAE', 26644, 928683431),\n",
              " ('NAKAPIRIPIRIT TOWN COUNCIL', 1418, 4673094),\n",
              " ('NAMALU', 25905, 553067364),\n",
              " ('KAKOMONGOLE', 15960, 312709097),\n",
              " ('LOLACHAT', 22801, 642401705),\n",
              " ('LORENGEDWAT', 9929, 435714604),\n",
              " ('NABILATUK', 27534, 499776866),\n",
              " ('IRIIRI', 46979, 1030623258),\n",
              " ('LOPEEI', 18815, 790782350),\n",
              " ('LORENGECORA', 2503, 118997955),\n",
              " ('LOTOME', 17834, 125857565),\n",
              " ('MATANY', 29495, 338252511),\n",
              " ('NAPAK TOWN COUNCIL', 8010, 150906375),\n",
              " ('NGOLERIET', 20790, 158887552),\n",
              " ('NYAKWAE', 16470, 769609687),\n",
              " ('LOKOPO', 23200, 1794470536),\n",
              " ('RUPA', 41493, 2069554899),\n",
              " ('MORUITA', 16588, 839293722)]"
            ]
          },
          "metadata": {
            "tags": []
          },
          "execution_count": 13
        }
      ]
    },
    {
      "cell_type": "code",
      "metadata": {
        "id": "0wQWOt7R17M8",
        "colab_type": "code",
        "colab": {
          "base_uri": "https://localhost:8080/",
          "height": 221
        },
        "outputId": "3cece59b-566e-4185-8e18-b45f02635eca"
      },
      "source": [
        "# 2.\tSort the list of districts by total crop area (descending order).\n",
        "%%sql select DISTRICT_NAME, sum(\"Crop_Area_Ha\") as Crop_Area_Ha\n",
        "from ug_crop_pop\n",
        "group by DISTRICT_NAME\n",
        "order by sum(\"Crop_Area_Ha\") desc;"
      ],
      "execution_count": 15,
      "outputs": [
        {
          "output_type": "stream",
          "text": [
            " * sqlite://\n",
            "Done.\n"
          ],
          "name": "stdout"
        },
        {
          "output_type": "execute_result",
          "data": {
            "text/html": [
              "<table>\n",
              "    <tr>\n",
              "        <th>DISTRICT_NAME</th>\n",
              "        <th>Crop_Area_Ha</th>\n",
              "    </tr>\n",
              "    <tr>\n",
              "        <td>KOTIDO</td>\n",
              "        <td>53032.64946</td>\n",
              "    </tr>\n",
              "    <tr>\n",
              "        <td>KAABONG</td>\n",
              "        <td>28121.672534300003</td>\n",
              "    </tr>\n",
              "    <tr>\n",
              "        <td>NAKAPIRIPIRIT</td>\n",
              "        <td>26372.698485360004</td>\n",
              "    </tr>\n",
              "    <tr>\n",
              "        <td>NAPAK</td>\n",
              "        <td>22944.296022100003</td>\n",
              "    </tr>\n",
              "    <tr>\n",
              "        <td>MOROTO</td>\n",
              "        <td>5954.814048168</td>\n",
              "    </tr>\n",
              "    <tr>\n",
              "        <td>AMUDAT</td>\n",
              "        <td>5765.443717519999</td>\n",
              "    </tr>\n",
              "    <tr>\n",
              "        <td>ABIM</td>\n",
              "        <td>5470.0683942000005</td>\n",
              "    </tr>\n",
              "</table>"
            ],
            "text/plain": [
              "[('KOTIDO', 53032.64946),\n",
              " ('KAABONG', 28121.672534300003),\n",
              " ('NAKAPIRIPIRIT', 26372.698485360004),\n",
              " ('NAPAK', 22944.296022100003),\n",
              " ('MOROTO', 5954.814048168),\n",
              " ('AMUDAT', 5765.443717519999),\n",
              " ('ABIM', 5470.0683942000005)]"
            ]
          },
          "metadata": {
            "tags": []
          },
          "execution_count": 15
        }
      ]
    },
    {
      "cell_type": "code",
      "metadata": {
        "id": "89TOOxah3Bce",
        "colab_type": "code",
        "colab": {
          "base_uri": "https://localhost:8080/",
          "height": 200
        },
        "outputId": "c4be4268-c57f-45f9-f1e1-1b0bc7665ce3"
      },
      "source": [
        "# 3.\tSelect only the Sub counties from the Moroto district, order them alphabetically and \n",
        "# show their production of sorghum.\n",
        "%%sql \n",
        "SELECT SUBCOUNTY_NAME,S_Prod_Tot\t\n",
        "FROM ug_crop_pop\n",
        "WHERE DISTRICT_NAME = \"MOROTO\"\n",
        "ORDER BY SUBCOUNTY_NAME asc\n"
      ],
      "execution_count": 16,
      "outputs": [
        {
          "output_type": "stream",
          "text": [
            " * sqlite://\n",
            "Done.\n"
          ],
          "name": "stdout"
        },
        {
          "output_type": "execute_result",
          "data": {
            "text/html": [
              "<table>\n",
              "    <tr>\n",
              "        <th>SUBCOUNTY_NAME</th>\n",
              "        <th>S_Prod_Tot</th>\n",
              "    </tr>\n",
              "    <tr>\n",
              "        <td>KATIKEKILE</td>\n",
              "        <td>9379.029413</td>\n",
              "    </tr>\n",
              "    <tr>\n",
              "        <td>NADUNGET</td>\n",
              "        <td>321630.539</td>\n",
              "    </tr>\n",
              "    <tr>\n",
              "        <td>NORTHERN DIVISION</td>\n",
              "        <td>17.28125956</td>\n",
              "    </tr>\n",
              "    <tr>\n",
              "        <td>RUPA</td>\n",
              "        <td>227298.5184</td>\n",
              "    </tr>\n",
              "    <tr>\n",
              "        <td>SOUTHERN DIVISION</td>\n",
              "        <td>19.67486547</td>\n",
              "    </tr>\n",
              "    <tr>\n",
              "        <td>TAPAC</td>\n",
              "        <td>49251.66081</td>\n",
              "    </tr>\n",
              "</table>"
            ],
            "text/plain": [
              "[('KATIKEKILE', 9379.029413),\n",
              " ('NADUNGET', 321630.539),\n",
              " ('NORTHERN DIVISION', 17.28125956),\n",
              " ('RUPA', 227298.5184),\n",
              " ('SOUTHERN DIVISION', 19.67486547),\n",
              " ('TAPAC', 49251.66081)]"
            ]
          },
          "metadata": {
            "tags": []
          },
          "execution_count": 16
        }
      ]
    },
    {
      "cell_type": "code",
      "metadata": {
        "id": "dtvOvA1d4OVw",
        "colab_type": "code",
        "colab": {
          "base_uri": "https://localhost:8080/",
          "height": 221
        },
        "outputId": "65ad1973-2322-47e3-a361-107b8a4c50dd"
      },
      "source": [
        "# 4.\tCompute the total Maize production per District.\n",
        "%%sql\n",
        "select DISTRICT_NAME, sum(\"M_Prod_Tot\") as Maize_Production\n",
        "from ug_crop_pop\n",
        "group by DISTRICT_NAME"
      ],
      "execution_count": 17,
      "outputs": [
        {
          "output_type": "stream",
          "text": [
            " * sqlite://\n",
            "Done.\n"
          ],
          "name": "stdout"
        },
        {
          "output_type": "execute_result",
          "data": {
            "text/html": [
              "<table>\n",
              "    <tr>\n",
              "        <th>DISTRICT_NAME</th>\n",
              "        <th>Maize_Production</th>\n",
              "    </tr>\n",
              "    <tr>\n",
              "        <td>ABIM</td>\n",
              "        <td>1922133.1297</td>\n",
              "    </tr>\n",
              "    <tr>\n",
              "        <td>AMUDAT</td>\n",
              "        <td>3546469.3324990002</td>\n",
              "    </tr>\n",
              "    <tr>\n",
              "        <td>KAABONG</td>\n",
              "        <td>6990361.6143000005</td>\n",
              "    </tr>\n",
              "    <tr>\n",
              "        <td>KOTIDO</td>\n",
              "        <td>2010179.0731479998</td>\n",
              "    </tr>\n",
              "    <tr>\n",
              "        <td>MOROTO</td>\n",
              "        <td>422116.06882464996</td>\n",
              "    </tr>\n",
              "    <tr>\n",
              "        <td>NAKAPIRIPIRIT</td>\n",
              "        <td>8125156.24546</td>\n",
              "    </tr>\n",
              "    <tr>\n",
              "        <td>NAPAK</td>\n",
              "        <td>5587379.38888</td>\n",
              "    </tr>\n",
              "</table>"
            ],
            "text/plain": [
              "[('ABIM', 1922133.1297),\n",
              " ('AMUDAT', 3546469.3324990002),\n",
              " ('KAABONG', 6990361.6143000005),\n",
              " ('KOTIDO', 2010179.0731479998),\n",
              " ('MOROTO', 422116.06882464996),\n",
              " ('NAKAPIRIPIRIT', 8125156.24546),\n",
              " ('NAPAK', 5587379.38888)]"
            ]
          },
          "metadata": {
            "tags": []
          },
          "execution_count": 17
        }
      ]
    },
    {
      "cell_type": "code",
      "metadata": {
        "id": "ff2OzHER4rIH",
        "colab_type": "code",
        "colab": {
          "base_uri": "https://localhost:8080/",
          "height": 221
        },
        "outputId": "cac1b457-e21b-4fd2-900e-6c870cf13220"
      },
      "source": [
        "# 5.Compute the number of Sub counties where Maize is produced and the total Maize production per District.\n",
        "%%sql\n",
        "select DISTRICT_NAME,count(SUBCOUNTY_NAME) as nsubcounty, sum(\"M_Prod_Tot\") as Maize_Production\n",
        "from ug_crop_pop\n",
        "where M_Prod_Tot is not null\n",
        "group by DISTRICT_NAME"
      ],
      "execution_count": 18,
      "outputs": [
        {
          "output_type": "stream",
          "text": [
            " * sqlite://\n",
            "Done.\n"
          ],
          "name": "stdout"
        },
        {
          "output_type": "execute_result",
          "data": {
            "text/html": [
              "<table>\n",
              "    <tr>\n",
              "        <th>DISTRICT_NAME</th>\n",
              "        <th>nsubcounty</th>\n",
              "        <th>Maize_Production</th>\n",
              "    </tr>\n",
              "    <tr>\n",
              "        <td>ABIM</td>\n",
              "        <td>6</td>\n",
              "        <td>1922133.1297</td>\n",
              "    </tr>\n",
              "    <tr>\n",
              "        <td>AMUDAT</td>\n",
              "        <td>4</td>\n",
              "        <td>3546469.3324990002</td>\n",
              "    </tr>\n",
              "    <tr>\n",
              "        <td>KAABONG</td>\n",
              "        <td>14</td>\n",
              "        <td>6990361.6143000005</td>\n",
              "    </tr>\n",
              "    <tr>\n",
              "        <td>KOTIDO</td>\n",
              "        <td>6</td>\n",
              "        <td>2010179.0731479998</td>\n",
              "    </tr>\n",
              "    <tr>\n",
              "        <td>MOROTO</td>\n",
              "        <td>6</td>\n",
              "        <td>422116.06882464996</td>\n",
              "    </tr>\n",
              "    <tr>\n",
              "        <td>NAKAPIRIPIRIT</td>\n",
              "        <td>8</td>\n",
              "        <td>8125156.24546</td>\n",
              "    </tr>\n",
              "    <tr>\n",
              "        <td>NAPAK</td>\n",
              "        <td>8</td>\n",
              "        <td>5587379.38888</td>\n",
              "    </tr>\n",
              "</table>"
            ],
            "text/plain": [
              "[('ABIM', 6, 1922133.1297),\n",
              " ('AMUDAT', 4, 3546469.3324990002),\n",
              " ('KAABONG', 14, 6990361.6143000005),\n",
              " ('KOTIDO', 6, 2010179.0731479998),\n",
              " ('MOROTO', 6, 422116.06882464996),\n",
              " ('NAKAPIRIPIRIT', 8, 8125156.24546),\n",
              " ('NAPAK', 8, 5587379.38888)]"
            ]
          },
          "metadata": {
            "tags": []
          },
          "execution_count": 18
        }
      ]
    },
    {
      "cell_type": "code",
      "metadata": {
        "id": "GDUILq8F542N",
        "colab_type": "code",
        "colab": {
          "base_uri": "https://localhost:8080/",
          "height": 95
        },
        "outputId": "6440d7e3-68a9-4275-9985-5e3ae06841cd"
      },
      "source": [
        "%sql select count(*) from ug_crop_pop where M_Prod_Tot is null"
      ],
      "execution_count": 19,
      "outputs": [
        {
          "output_type": "stream",
          "text": [
            " * sqlite://\n",
            "Done.\n"
          ],
          "name": "stdout"
        },
        {
          "output_type": "execute_result",
          "data": {
            "text/html": [
              "<table>\n",
              "    <tr>\n",
              "        <th>count(*)</th>\n",
              "    </tr>\n",
              "    <tr>\n",
              "        <td>0</td>\n",
              "    </tr>\n",
              "</table>"
            ],
            "text/plain": [
              "[(0,)]"
            ]
          },
          "metadata": {
            "tags": []
          },
          "execution_count": 19
        }
      ]
    }
  ]
}