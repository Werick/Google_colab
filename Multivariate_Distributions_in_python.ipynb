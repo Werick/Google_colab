{
  "nbformat": 4,
  "nbformat_minor": 0,
  "metadata": {
    "colab": {
      "name": "Untitled1.ipynb",
      "provenance": [],
      "authorship_tag": "ABX9TyP5gm3+133ik6nRaiELlSU+",
      "include_colab_link": true
    },
    "kernelspec": {
      "name": "python3",
      "display_name": "Python 3"
    }
  },
  "cells": [
    {
      "cell_type": "markdown",
      "metadata": {
        "id": "view-in-github",
        "colab_type": "text"
      },
      "source": [
        "<a href=\"https://colab.research.google.com/github/Werick/Google_colab/blob/master/Multivariate_Distributions_in_python.ipynb\" target=\"_parent\"><img src=\"https://colab.research.google.com/assets/colab-badge.svg\" alt=\"Open In Colab\"/></a>"
      ]
    },
    {
      "cell_type": "code",
      "metadata": {
        "id": "BfkcU7ABFROi"
      },
      "source": [
        "Multivariate Distributions in Python\n",
        "Sometimes we can get a lot of information about how two variables (or more) relate if we plot them together. This tutorial aims to show how plotting two variables together can give us information that plotting each one separately may miss.\n",
        "\n",
        "# import the packages we are going to be using\n",
        "import numpy as np # for getting our distribution\n",
        "import matplotlib.pyplot as plt # for plotting\n",
        "import seaborn as sns; sns.set() # For a different plotting theme\n",
        "​\n",
        "# Don't worry so much about what rho is doing here\n",
        "# Just know if we have a rho of 1 then we will get a perfectly\n",
        "# upward sloping line, and if we have a rho of -1, we will get \n",
        "# a perfectly downward slopping line. A rho of 0 will \n",
        "# get us a 'cloud' of points\n",
        "r = 1\n",
        "​\n",
        "# Don't worry so much about the following three lines of code for now\n",
        "# this is just getting the data for us to plot\n",
        "mean = [15, 5]\n",
        "cov = [[1, r], [r, 1]]\n",
        "x, y = x, y = np.random.multivariate_normal(mean, cov, 400).T\n",
        "​\n",
        "# Adjust the figure size\n",
        "plt.figure(figsize=(10,5))\n",
        "​\n",
        "# Plot the histograms of X and Y next to each other\n",
        "plt.subplot(1,2,1)\n",
        "plt.hist(x = x, bins = 15)\n",
        "plt.title(\"X\")\n",
        "​\n",
        "plt.subplot(1,2,2)\n",
        "plt.hist(x = y, bins = 15)\n",
        "plt.title(\"Y\")\n",
        "​\n",
        "plt.show()\n",
        "# Plot the data\n",
        "plt.figure(figsize=(10,10))\n",
        "plt.subplot(2,2,2)\n",
        "plt.scatter(x = x, y = y)\n",
        "plt.title(\"Joint Distribution of X and Y\")\n",
        "​\n",
        "# Plot the Marginal X Distribution\n",
        "plt.subplot(2,2,4)\n",
        "plt.hist(x = x, bins = 15)\n",
        "plt.title(\"Marginal Distribution of X\")\n",
        "​\n",
        "​\n",
        "# Plot the Marginal Y Distribution\n",
        "plt.subplot(2,2,1)\n",
        "plt.hist(x = y, orientation = \"horizontal\", bins = 15)\n",
        "plt.title(\"Marginal Distribution of Y\")\n",
        "​\n",
        "# Show the plots\n",
        "plt.show()"
      ],
      "execution_count": null,
      "outputs": []
    }
  ]
}