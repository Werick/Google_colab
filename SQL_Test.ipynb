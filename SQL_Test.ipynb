{
  "nbformat": 4,
  "nbformat_minor": 0,
  "metadata": {
    "colab": {
      "name": "SQL_Test.ipynb",
      "provenance": [],
      "toc_visible": true,
      "authorship_tag": "ABX9TyPLPRF/CYl4qTNFaZ/toVEt",
      "include_colab_link": true
    },
    "kernelspec": {
      "name": "python3",
      "display_name": "Python 3"
    }
  },
  "cells": [
    {
      "cell_type": "markdown",
      "metadata": {
        "id": "view-in-github",
        "colab_type": "text"
      },
      "source": [
        "<a href=\"https://colab.research.google.com/github/Werick/Google_colab/blob/master/SQL_Test.ipynb\" target=\"_parent\"><img src=\"https://colab.research.google.com/assets/colab-badge.svg\" alt=\"Open In Colab\"/></a>"
      ]
    },
    {
      "cell_type": "code",
      "metadata": {
        "id": "P6sEkr-2a1HR",
        "colab_type": "code",
        "colab": {
          "base_uri": "https://localhost:8080/",
          "height": 377
        },
        "outputId": "526c3e53-c0f0-4d28-cb8d-cfdfa55b7bb5"
      },
      "source": [
        "!pip install db-sqlite3"
      ],
      "execution_count": null,
      "outputs": [
        {
          "output_type": "stream",
          "text": [
            "Collecting db-sqlite3\n",
            "  Downloading https://files.pythonhosted.org/packages/ff/00/e1f3d7bf1e0bff7c0574c0d5535c041e139d4ce43db196147e4c62f52ed5/db-sqlite3-0.0.1.tar.gz\n",
            "Collecting db\n",
            "  Downloading https://files.pythonhosted.org/packages/a9/22/f65d64c83e63790b3273c6adb3bff338ad594f46d84b41bd1f94593b40a6/db-0.1.1.tar.gz\n",
            "Collecting antiorm\n",
            "\u001b[?25l  Downloading https://files.pythonhosted.org/packages/0b/f8/71baa4824d9666c1be51d117119579a97f461ddbded48b2e01a6ad0554b5/antiorm-1.2.1.tar.gz (171kB)\n",
            "\u001b[K     |████████████████████████████████| 174kB 2.8MB/s \n",
            "\u001b[?25hBuilding wheels for collected packages: db-sqlite3, db, antiorm\n",
            "  Building wheel for db-sqlite3 (setup.py) ... \u001b[?25l\u001b[?25hdone\n",
            "  Created wheel for db-sqlite3: filename=db_sqlite3-0.0.1-cp36-none-any.whl size=1797 sha256=d558c4a8a9021c9f2981c5c8039be3b65dc82d52725c45c02c103a67ffab6f41\n",
            "  Stored in directory: /root/.cache/pip/wheels/e0/f8/cb/08e3a3a63bdea9ac3a0cccd140636b6cf94e3fb7df1070b12e\n",
            "  Building wheel for db (setup.py) ... \u001b[?25l\u001b[?25hdone\n",
            "  Created wheel for db: filename=db-0.1.1-cp36-none-any.whl size=3894 sha256=5de6df70bea559f166bdc357e71eeb27f5b47c129bc902b8b0ec7933fcd3c134\n",
            "  Stored in directory: /root/.cache/pip/wheels/30/eb/ba/237fa002d1d1b2e73cedcefd26a9db37c4b72c7e5156ea0501\n",
            "  Building wheel for antiorm (setup.py) ... \u001b[?25l\u001b[?25hdone\n",
            "  Created wheel for antiorm: filename=antiorm-1.2.1-cp36-none-any.whl size=31664 sha256=7fdd911f6dfdb01c19b8e7489fe55112ab91b0b3a8578d8b8e94b3be58678657\n",
            "  Stored in directory: /root/.cache/pip/wheels/b0/91/4d/f8fe808786ff1cda9e7e99e1b1bbda9196ab26786017965313\n",
            "Successfully built db-sqlite3 db antiorm\n",
            "Installing collected packages: antiorm, db, db-sqlite3\n",
            "Successfully installed antiorm-1.2.1 db-0.1.1 db-sqlite3-0.0.1\n"
          ],
          "name": "stdout"
        }
      ]
    },
    {
      "cell_type": "code",
      "metadata": {
        "id": "EHsgTz1vhJTb",
        "colab_type": "code",
        "colab": {}
      },
      "source": [
        "import pandas as pd\n",
        "import sqlite3\n",
        "from datetime import date\n",
        "\n",
        "#connecting with a db instance\n",
        "db = sqlite3.connect(\"testing.db\")\n",
        "db.execute(\"drop table if exists results\")\n",
        "try:\n",
        "  db.execute(\"create table results(name text, date datetime, mobile text, mail text)\")\n",
        "except:\n",
        "  print(\"Table already exists\")\n",
        "\n",
        "\n"
      ],
      "execution_count": null,
      "outputs": []
    },
    {
      "cell_type": "code",
      "metadata": {
        "id": "lOUd-u4kjAfP",
        "colab_type": "code",
        "colab": {}
      },
      "source": [
        "db = sqlite3.connect(\"testing.db\")\n",
        "Date = date.today().strftime(\"%d-%m-%Y\")\n",
        "Name = \"Test Erick\"\n",
        "Mobile = \"2020200202\"\n",
        "mail = \"test@gmail\"\n",
        "cmd = \"insert into results(name, mobile,date,mail) values('{}','{}','{}','{}')\". format(Name,Mobile,Date,mail)\n",
        "db.execute(cmd)\n",
        "db.commit()\n",
        "\n",
        "#rs=db.execute(\"show tables\")"
      ],
      "execution_count": null,
      "outputs": []
    },
    {
      "cell_type": "code",
      "metadata": {
        "id": "lRZjjru-oHj6",
        "colab_type": "code",
        "colab": {
          "base_uri": "https://localhost:8080/",
          "height": 80
        },
        "outputId": "6ef48302-1f7e-4546-c30f-174ac3e66a81"
      },
      "source": [
        "db = sqlite3.connect(\"testing.db\")\n",
        "tables_df = pd.read_sql_query(\"select * from results\",db)\n",
        "tables_df.head()"
      ],
      "execution_count": null,
      "outputs": [
        {
          "output_type": "execute_result",
          "data": {
            "text/html": [
              "<div>\n",
              "<style scoped>\n",
              "    .dataframe tbody tr th:only-of-type {\n",
              "        vertical-align: middle;\n",
              "    }\n",
              "\n",
              "    .dataframe tbody tr th {\n",
              "        vertical-align: top;\n",
              "    }\n",
              "\n",
              "    .dataframe thead th {\n",
              "        text-align: right;\n",
              "    }\n",
              "</style>\n",
              "<table border=\"1\" class=\"dataframe\">\n",
              "  <thead>\n",
              "    <tr style=\"text-align: right;\">\n",
              "      <th></th>\n",
              "      <th>name</th>\n",
              "      <th>date</th>\n",
              "      <th>mobile</th>\n",
              "      <th>mail</th>\n",
              "    </tr>\n",
              "  </thead>\n",
              "  <tbody>\n",
              "    <tr>\n",
              "      <th>0</th>\n",
              "      <td>Test Erick</td>\n",
              "      <td>28-08-2020</td>\n",
              "      <td>2020200202</td>\n",
              "      <td>test@gmail</td>\n",
              "    </tr>\n",
              "  </tbody>\n",
              "</table>\n",
              "</div>"
            ],
            "text/plain": [
              "         name        date      mobile        mail\n",
              "0  Test Erick  28-08-2020  2020200202  test@gmail"
            ]
          },
          "metadata": {
            "tags": []
          },
          "execution_count": 11
        }
      ]
    },
    {
      "cell_type": "code",
      "metadata": {
        "id": "LJNg9ZICSK1f",
        "colab_type": "code",
        "colab": {
          "base_uri": "https://localhost:8080/",
          "height": 122
        },
        "outputId": "0e137b48-b1c3-4dcb-a1e1-041a926af455"
      },
      "source": [
        "from google.colab import drive\n",
        "drive.mount('/content/drive')"
      ],
      "execution_count": null,
      "outputs": [
        {
          "output_type": "stream",
          "text": [
            "Go to this URL in a browser: https://accounts.google.com/o/oauth2/auth?client_id=947318989803-6bn6qk8qdgf4n4g3pfee6491hc0brc4i.apps.googleusercontent.com&redirect_uri=urn%3aietf%3awg%3aoauth%3a2.0%3aoob&scope=email%20https%3a%2f%2fwww.googleapis.com%2fauth%2fdocs.test%20https%3a%2f%2fwww.googleapis.com%2fauth%2fdrive%20https%3a%2f%2fwww.googleapis.com%2fauth%2fdrive.photos.readonly%20https%3a%2f%2fwww.googleapis.com%2fauth%2fpeopleapi.readonly&response_type=code\n",
            "\n",
            "Enter your authorization code:\n",
            "··········\n",
            "Mounted at /content/drive\n"
          ],
          "name": "stdout"
        }
      ]
    },
    {
      "cell_type": "code",
      "metadata": {
        "id": "tP71xvvbS1cJ",
        "colab_type": "code",
        "colab": {}
      },
      "source": [
        "# Read the csv data\n",
        "import pandas as pd\n",
        "ug_df = pd.read_csv('/content/drive/My Drive/Colab_Notebooks/Uganda_Karamoja_Subcounty_Crop_Yield_Population.csv')\n",
        "ug_df.head()\n",
        "\n",
        "# upload csv to sqlite db\n",
        "ug_df.to_sql('ug_crop_pop',db, if_exists=\"replace\", index=False)\n"
      ],
      "execution_count": null,
      "outputs": []
    },
    {
      "cell_type": "code",
      "metadata": {
        "id": "dVIptr2IX_c7",
        "colab_type": "code",
        "colab": {
          "base_uri": "https://localhost:8080/",
          "height": 241
        },
        "outputId": "af426f13-8417-4593-922c-0554ce9bae15"
      },
      "source": [
        "# Query data on the testing db\n",
        "query = \"\"\"\n",
        "select * from ug_crop_pop\n",
        "where DISTRICT_NAME=\"KOTIDO\"\n",
        "\"\"\"\n",
        "tables_df = pd.read_sql_query(query,db)\n",
        "tables_df.head()"
      ],
      "execution_count": null,
      "outputs": [
        {
          "output_type": "execute_result",
          "data": {
            "text/html": [
              "<div>\n",
              "<style scoped>\n",
              "    .dataframe tbody tr th:only-of-type {\n",
              "        vertical-align: middle;\n",
              "    }\n",
              "\n",
              "    .dataframe tbody tr th {\n",
              "        vertical-align: top;\n",
              "    }\n",
              "\n",
              "    .dataframe thead th {\n",
              "        text-align: right;\n",
              "    }\n",
              "</style>\n",
              "<table border=\"1\" class=\"dataframe\">\n",
              "  <thead>\n",
              "    <tr style=\"text-align: right;\">\n",
              "      <th></th>\n",
              "      <th>OBJECTID</th>\n",
              "      <th>SUBCOUNTY_NAME</th>\n",
              "      <th>DISTRICT_NAME</th>\n",
              "      <th>POP</th>\n",
              "      <th>Area</th>\n",
              "      <th>Karamoja</th>\n",
              "      <th>S_Yield_Ha</th>\n",
              "      <th>M_Yield_Ha</th>\n",
              "      <th>Crop_Area_Ha</th>\n",
              "      <th>S_Area_Ha</th>\n",
              "      <th>M_Area_Ha</th>\n",
              "      <th>S_Prod_Tot</th>\n",
              "      <th>M_Prod_Tot</th>\n",
              "    </tr>\n",
              "  </thead>\n",
              "  <tbody>\n",
              "    <tr>\n",
              "      <th>0</th>\n",
              "      <td>263</td>\n",
              "      <td>KACHERI</td>\n",
              "      <td>KOTIDO</td>\n",
              "      <td>17244</td>\n",
              "      <td>1067176155</td>\n",
              "      <td>Y</td>\n",
              "      <td>354.207411</td>\n",
              "      <td>1137.467019</td>\n",
              "      <td>7023.533691</td>\n",
              "      <td>6434.342449</td>\n",
              "      <td>528.124229</td>\n",
              "      <td>2.279092e+06</td>\n",
              "      <td>600723.892900</td>\n",
              "    </tr>\n",
              "    <tr>\n",
              "      <th>1</th>\n",
              "      <td>264</td>\n",
              "      <td>KOTIDO</td>\n",
              "      <td>KOTIDO</td>\n",
              "      <td>52771</td>\n",
              "      <td>597575188</td>\n",
              "      <td>Y</td>\n",
              "      <td>367.890523</td>\n",
              "      <td>1162.996687</td>\n",
              "      <td>13587.990760</td>\n",
              "      <td>12455.592640</td>\n",
              "      <td>824.767081</td>\n",
              "      <td>4.582294e+06</td>\n",
              "      <td>959201.382500</td>\n",
              "    </tr>\n",
              "    <tr>\n",
              "      <th>2</th>\n",
              "      <td>265</td>\n",
              "      <td>KOTIDO TOWN COUNCIL</td>\n",
              "      <td>KOTIDO</td>\n",
              "      <td>27389</td>\n",
              "      <td>23972401</td>\n",
              "      <td>Y</td>\n",
              "      <td>369.314177</td>\n",
              "      <td>1167.005832</td>\n",
              "      <td>1656.531855</td>\n",
              "      <td>1520.322052</td>\n",
              "      <td>8.561644</td>\n",
              "      <td>5.614765e+05</td>\n",
              "      <td>9991.488268</td>\n",
              "    </tr>\n",
              "    <tr>\n",
              "      <th>3</th>\n",
              "      <td>266</td>\n",
              "      <td>NAKAPERIMORU</td>\n",
              "      <td>KOTIDO</td>\n",
              "      <td>38775</td>\n",
              "      <td>419111591</td>\n",
              "      <td>Y</td>\n",
              "      <td>283.324569</td>\n",
              "      <td>852.366578</td>\n",
              "      <td>7087.823334</td>\n",
              "      <td>6761.488901</td>\n",
              "      <td>45.721712</td>\n",
              "      <td>1.915696e+06</td>\n",
              "      <td>38971.659080</td>\n",
              "    </tr>\n",
              "    <tr>\n",
              "      <th>4</th>\n",
              "      <td>267</td>\n",
              "      <td>PANYANGARA</td>\n",
              "      <td>KOTIDO</td>\n",
              "      <td>65704</td>\n",
              "      <td>880955930</td>\n",
              "      <td>Y</td>\n",
              "      <td>373.836926</td>\n",
              "      <td>1283.859882</td>\n",
              "      <td>10398.249390</td>\n",
              "      <td>10111.198130</td>\n",
              "      <td>172.611914</td>\n",
              "      <td>3.779939e+06</td>\n",
              "      <td>221609.511400</td>\n",
              "    </tr>\n",
              "  </tbody>\n",
              "</table>\n",
              "</div>"
            ],
            "text/plain": [
              "   OBJECTID       SUBCOUNTY_NAME  ...    S_Prod_Tot     M_Prod_Tot\n",
              "0       263              KACHERI  ...  2.279092e+06  600723.892900\n",
              "1       264               KOTIDO  ...  4.582294e+06  959201.382500\n",
              "2       265  KOTIDO TOWN COUNCIL  ...  5.614765e+05    9991.488268\n",
              "3       266         NAKAPERIMORU  ...  1.915696e+06   38971.659080\n",
              "4       267           PANYANGARA  ...  3.779939e+06  221609.511400\n",
              "\n",
              "[5 rows x 13 columns]"
            ]
          },
          "metadata": {
            "tags": []
          },
          "execution_count": 17
        }
      ]
    }
  ]
}